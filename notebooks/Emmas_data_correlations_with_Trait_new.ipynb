{
 "cells": [
  {
   "cell_type": "markdown",
   "metadata": {},
   "source": [
    "# Fit Basic Emma's Models "
   ]
  },
  {
   "cell_type": "code",
   "execution_count": 1,
   "metadata": {
    "collapsed": true
   },
   "outputs": [],
   "source": [
    "import scipy.io\n",
    "import pandas as pd\n",
    "import numpy as np\n",
    "import glob\n",
    "import pickle\n",
    "import os\n",
    "import matplotlib.pyplot as plt\n",
    "import matplotlib\n",
    "import seaborn as sns\n",
    "%matplotlib inline"
   ]
  },
  {
   "cell_type": "code",
   "execution_count": 2,
   "metadata": {},
   "outputs": [
    {
     "name": "stderr",
     "output_type": "stream",
     "text": [
      "/Users/chris/anaconda/lib/python3.6/site-packages/statsmodels/compat/pandas.py:56: FutureWarning: The pandas.core.datetools module is deprecated and will be removed in a future version. Please use the pandas.tseries module instead.\n",
      "  from pandas.core import datetools\n"
     ]
    }
   ],
   "source": [
    "import sys\n",
    "sys.path.append(\"../functions/\")\n",
    "import imp\n",
    "\n",
    "import Scripts_LogRegModels_v2\n",
    "imp.reload(Scripts_LogRegModels_v2)\n",
    "from Scripts_LogRegModels_v2 import *"
   ]
  },
  {
   "cell_type": "code",
   "execution_count": 3,
   "metadata": {
    "collapsed": true
   },
   "outputs": [],
   "source": [
    "df = pd.read_csv('../data/data_emmas_logfiles_from_mat_1_15_17/S'+str(0)+'.csv')"
   ]
  },
  {
   "cell_type": "code",
   "execution_count": 4,
   "metadata": {},
   "outputs": [
    {
     "data": {
      "text/html": [
       "<table class=\"simpletable\">\n",
       "<caption>Logit Regression Results</caption>\n",
       "<tr>\n",
       "  <th>Dep. Variable:</th>         <td>y</td>        <th>  No. Observations:  </th>  <td>   104</td>  \n",
       "</tr>\n",
       "<tr>\n",
       "  <th>Model:</th>               <td>Logit</td>      <th>  Df Residuals:      </th>  <td>   100</td>  \n",
       "</tr>\n",
       "<tr>\n",
       "  <th>Method:</th>               <td>MLE</td>       <th>  Df Model:          </th>  <td>     3</td>  \n",
       "</tr>\n",
       "<tr>\n",
       "  <th>Date:</th>          <td>Thu, 18 Jan 2018</td> <th>  Pseudo R-squ.:     </th>  <td>0.5023</td>  \n",
       "</tr>\n",
       "<tr>\n",
       "  <th>Time:</th>              <td>13:37:21</td>     <th>  Log-Likelihood:    </th> <td> -34.241</td> \n",
       "</tr>\n",
       "<tr>\n",
       "  <th>converged:</th>           <td>True</td>       <th>  LL-Null:           </th> <td> -68.803</td> \n",
       "</tr>\n",
       "<tr>\n",
       "  <th> </th>                      <td> </td>        <th>  LLR p-value:       </th> <td>6.577e-15</td>\n",
       "</tr>\n",
       "</table>\n",
       "<table class=\"simpletable\">\n",
       "<tr>\n",
       "             <td></td>               <th>coef</th>     <th>std err</th>      <th>z</th>      <th>P>|z|</th>  <th>[0.025</th>    <th>0.975]</th>  \n",
       "</tr>\n",
       "<tr>\n",
       "  <th>intercept</th>              <td>   -1.1265</td> <td>    0.354</td> <td>   -3.187</td> <td> 0.001</td> <td>   -1.819</td> <td>   -0.434</td>\n",
       "</tr>\n",
       "<tr>\n",
       "  <th>mag_diff_amb_gain</th>      <td>   -2.3065</td> <td>    0.649</td> <td>   -3.552</td> <td> 0.000</td> <td>   -3.579</td> <td>   -1.034</td>\n",
       "</tr>\n",
       "<tr>\n",
       "  <th>log_prob_diff_amb_gain</th> <td>   -3.8161</td> <td>    0.807</td> <td>   -4.726</td> <td> 0.000</td> <td>   -5.399</td> <td>   -2.233</td>\n",
       "</tr>\n",
       "<tr>\n",
       "  <th>ambiguityLevel_gain</th>    <td>   -0.7634</td> <td>    0.333</td> <td>   -2.294</td> <td> 0.022</td> <td>   -1.416</td> <td>   -0.111</td>\n",
       "</tr>\n",
       "</table>"
      ],
      "text/plain": [
       "<class 'statsmodels.iolib.summary.Summary'>\n",
       "\"\"\"\n",
       "                           Logit Regression Results                           \n",
       "==============================================================================\n",
       "Dep. Variable:                      y   No. Observations:                  104\n",
       "Model:                          Logit   Df Residuals:                      100\n",
       "Method:                           MLE   Df Model:                            3\n",
       "Date:                Thu, 18 Jan 2018   Pseudo R-squ.:                  0.5023\n",
       "Time:                        13:37:21   Log-Likelihood:                -34.241\n",
       "converged:                       True   LL-Null:                       -68.803\n",
       "                                        LLR p-value:                 6.577e-15\n",
       "==========================================================================================\n",
       "                             coef    std err          z      P>|z|      [0.025      0.975]\n",
       "------------------------------------------------------------------------------------------\n",
       "intercept                 -1.1265      0.354     -3.187      0.001      -1.819      -0.434\n",
       "mag_diff_amb_gain         -2.3065      0.649     -3.552      0.000      -3.579      -1.034\n",
       "log_prob_diff_amb_gain    -3.8161      0.807     -4.726      0.000      -5.399      -2.233\n",
       "ambiguityLevel_gain       -0.7634      0.333     -2.294      0.022      -1.416      -0.111\n",
       "==========================================================================================\n",
       "\"\"\""
      ]
     },
     "execution_count": 4,
     "metadata": {},
     "output_type": "execute_result"
    }
   ],
   "source": [
    "\n",
    "# Fit a model to the ambiguous gain trials \n",
    "out = fit_model_split_amb_unamb_gain_loss(df, whichreturn='ambig_shock', params=['mag_diff','log_prob_diff','ambiguityLevel'],zscore=True)\n",
    "out['results'].summary()"
   ]
  },
  {
   "cell_type": "code",
   "execution_count": 5,
   "metadata": {},
   "outputs": [
    {
     "data": {
      "text/html": [
       "<div>\n",
       "<style>\n",
       "    .dataframe thead tr:only-child th {\n",
       "        text-align: right;\n",
       "    }\n",
       "\n",
       "    .dataframe thead th {\n",
       "        text-align: left;\n",
       "    }\n",
       "\n",
       "    .dataframe tbody tr th {\n",
       "        vertical-align: top;\n",
       "    }\n",
       "</style>\n",
       "<table border=\"1\" class=\"dataframe\">\n",
       "  <thead>\n",
       "    <tr style=\"text-align: right;\">\n",
       "      <th></th>\n",
       "      <th>Unnamed: 0</th>\n",
       "      <th>resp_r_1</th>\n",
       "      <th>prob_x_l</th>\n",
       "      <th>prob_x_r</th>\n",
       "      <th>mag_left</th>\n",
       "      <th>mag_right</th>\n",
       "      <th>info_amb</th>\n",
       "      <th>num_revealed</th>\n",
       "      <th>revealed_x_r</th>\n",
       "      <th>resp_amb_1</th>\n",
       "      <th>...</th>\n",
       "      <th>prob_x_ambig_bayes_emmas</th>\n",
       "      <th>prob_x_ambig_bayes_mine</th>\n",
       "      <th>prob_x_ambig_bayes</th>\n",
       "      <th>info_amb_sqrt</th>\n",
       "      <th>ambig_r</th>\n",
       "      <th>ambig_l</th>\n",
       "      <th>ambiguityLevel</th>\n",
       "      <th>revealed_ambi</th>\n",
       "      <th>gain_or_loss_trial</th>\n",
       "      <th>MID</th>\n",
       "    </tr>\n",
       "  </thead>\n",
       "  <tbody>\n",
       "    <tr>\n",
       "      <th>0</th>\n",
       "      <td>0</td>\n",
       "      <td>1.0</td>\n",
       "      <td>0.34</td>\n",
       "      <td>0.24</td>\n",
       "      <td>0.48</td>\n",
       "      <td>0.29</td>\n",
       "      <td>1.0</td>\n",
       "      <td>50.0</td>\n",
       "      <td>12.0</td>\n",
       "      <td>1.0</td>\n",
       "      <td>...</td>\n",
       "      <td>NaN</td>\n",
       "      <td>0.250000</td>\n",
       "      <td>0.250000</td>\n",
       "      <td>1.0</td>\n",
       "      <td>0</td>\n",
       "      <td>0.0</td>\n",
       "      <td>0.0</td>\n",
       "      <td>1.0</td>\n",
       "      <td>gain</td>\n",
       "      <td>S0</td>\n",
       "    </tr>\n",
       "    <tr>\n",
       "      <th>1</th>\n",
       "      <td>1</td>\n",
       "      <td>0.0</td>\n",
       "      <td>0.16</td>\n",
       "      <td>0.54</td>\n",
       "      <td>0.38</td>\n",
       "      <td>0.64</td>\n",
       "      <td>1.0</td>\n",
       "      <td>50.0</td>\n",
       "      <td>27.0</td>\n",
       "      <td>0.0</td>\n",
       "      <td>...</td>\n",
       "      <td>NaN</td>\n",
       "      <td>0.538462</td>\n",
       "      <td>0.538462</td>\n",
       "      <td>1.0</td>\n",
       "      <td>0</td>\n",
       "      <td>0.0</td>\n",
       "      <td>0.0</td>\n",
       "      <td>1.0</td>\n",
       "      <td>gain</td>\n",
       "      <td>S0</td>\n",
       "    </tr>\n",
       "    <tr>\n",
       "      <th>4</th>\n",
       "      <td>4</td>\n",
       "      <td>1.0</td>\n",
       "      <td>0.40</td>\n",
       "      <td>0.28</td>\n",
       "      <td>0.07</td>\n",
       "      <td>0.08</td>\n",
       "      <td>1.0</td>\n",
       "      <td>50.0</td>\n",
       "      <td>14.0</td>\n",
       "      <td>1.0</td>\n",
       "      <td>...</td>\n",
       "      <td>NaN</td>\n",
       "      <td>0.288462</td>\n",
       "      <td>0.288462</td>\n",
       "      <td>1.0</td>\n",
       "      <td>0</td>\n",
       "      <td>0.0</td>\n",
       "      <td>0.0</td>\n",
       "      <td>1.0</td>\n",
       "      <td>gain</td>\n",
       "      <td>S0</td>\n",
       "    </tr>\n",
       "    <tr>\n",
       "      <th>6</th>\n",
       "      <td>6</td>\n",
       "      <td>1.0</td>\n",
       "      <td>0.28</td>\n",
       "      <td>0.36</td>\n",
       "      <td>0.87</td>\n",
       "      <td>0.84</td>\n",
       "      <td>1.0</td>\n",
       "      <td>50.0</td>\n",
       "      <td>18.0</td>\n",
       "      <td>1.0</td>\n",
       "      <td>...</td>\n",
       "      <td>NaN</td>\n",
       "      <td>0.365385</td>\n",
       "      <td>0.365385</td>\n",
       "      <td>1.0</td>\n",
       "      <td>0</td>\n",
       "      <td>0.0</td>\n",
       "      <td>0.0</td>\n",
       "      <td>1.0</td>\n",
       "      <td>gain</td>\n",
       "      <td>S0</td>\n",
       "    </tr>\n",
       "    <tr>\n",
       "      <th>9</th>\n",
       "      <td>9</td>\n",
       "      <td>0.0</td>\n",
       "      <td>0.26</td>\n",
       "      <td>0.56</td>\n",
       "      <td>0.40</td>\n",
       "      <td>0.68</td>\n",
       "      <td>1.0</td>\n",
       "      <td>50.0</td>\n",
       "      <td>28.0</td>\n",
       "      <td>0.0</td>\n",
       "      <td>...</td>\n",
       "      <td>NaN</td>\n",
       "      <td>0.557692</td>\n",
       "      <td>0.557692</td>\n",
       "      <td>1.0</td>\n",
       "      <td>0</td>\n",
       "      <td>0.0</td>\n",
       "      <td>0.0</td>\n",
       "      <td>1.0</td>\n",
       "      <td>gain</td>\n",
       "      <td>S0</td>\n",
       "    </tr>\n",
       "    <tr>\n",
       "      <th>12</th>\n",
       "      <td>12</td>\n",
       "      <td>0.0</td>\n",
       "      <td>0.18</td>\n",
       "      <td>0.76</td>\n",
       "      <td>0.12</td>\n",
       "      <td>0.87</td>\n",
       "      <td>1.0</td>\n",
       "      <td>50.0</td>\n",
       "      <td>38.0</td>\n",
       "      <td>0.0</td>\n",
       "      <td>...</td>\n",
       "      <td>NaN</td>\n",
       "      <td>0.750000</td>\n",
       "      <td>0.750000</td>\n",
       "      <td>1.0</td>\n",
       "      <td>0</td>\n",
       "      <td>0.0</td>\n",
       "      <td>0.0</td>\n",
       "      <td>1.0</td>\n",
       "      <td>gain</td>\n",
       "      <td>S0</td>\n",
       "    </tr>\n",
       "    <tr>\n",
       "      <th>15</th>\n",
       "      <td>15</td>\n",
       "      <td>0.0</td>\n",
       "      <td>0.20</td>\n",
       "      <td>0.24</td>\n",
       "      <td>0.38</td>\n",
       "      <td>0.39</td>\n",
       "      <td>1.0</td>\n",
       "      <td>50.0</td>\n",
       "      <td>12.0</td>\n",
       "      <td>0.0</td>\n",
       "      <td>...</td>\n",
       "      <td>NaN</td>\n",
       "      <td>0.250000</td>\n",
       "      <td>0.250000</td>\n",
       "      <td>1.0</td>\n",
       "      <td>0</td>\n",
       "      <td>0.0</td>\n",
       "      <td>0.0</td>\n",
       "      <td>1.0</td>\n",
       "      <td>gain</td>\n",
       "      <td>S0</td>\n",
       "    </tr>\n",
       "    <tr>\n",
       "      <th>18</th>\n",
       "      <td>18</td>\n",
       "      <td>0.0</td>\n",
       "      <td>0.60</td>\n",
       "      <td>0.92</td>\n",
       "      <td>0.20</td>\n",
       "      <td>0.54</td>\n",
       "      <td>1.0</td>\n",
       "      <td>50.0</td>\n",
       "      <td>46.0</td>\n",
       "      <td>0.0</td>\n",
       "      <td>...</td>\n",
       "      <td>NaN</td>\n",
       "      <td>0.903846</td>\n",
       "      <td>0.903846</td>\n",
       "      <td>1.0</td>\n",
       "      <td>0</td>\n",
       "      <td>0.0</td>\n",
       "      <td>0.0</td>\n",
       "      <td>1.0</td>\n",
       "      <td>gain</td>\n",
       "      <td>S0</td>\n",
       "    </tr>\n",
       "    <tr>\n",
       "      <th>19</th>\n",
       "      <td>19</td>\n",
       "      <td>1.0</td>\n",
       "      <td>0.48</td>\n",
       "      <td>0.08</td>\n",
       "      <td>0.29</td>\n",
       "      <td>0.16</td>\n",
       "      <td>1.0</td>\n",
       "      <td>50.0</td>\n",
       "      <td>4.0</td>\n",
       "      <td>1.0</td>\n",
       "      <td>...</td>\n",
       "      <td>NaN</td>\n",
       "      <td>0.096154</td>\n",
       "      <td>0.096154</td>\n",
       "      <td>1.0</td>\n",
       "      <td>0</td>\n",
       "      <td>0.0</td>\n",
       "      <td>0.0</td>\n",
       "      <td>1.0</td>\n",
       "      <td>gain</td>\n",
       "      <td>S0</td>\n",
       "    </tr>\n",
       "    <tr>\n",
       "      <th>21</th>\n",
       "      <td>21</td>\n",
       "      <td>1.0</td>\n",
       "      <td>0.48</td>\n",
       "      <td>0.28</td>\n",
       "      <td>0.58</td>\n",
       "      <td>0.21</td>\n",
       "      <td>1.0</td>\n",
       "      <td>50.0</td>\n",
       "      <td>14.0</td>\n",
       "      <td>1.0</td>\n",
       "      <td>...</td>\n",
       "      <td>NaN</td>\n",
       "      <td>0.288462</td>\n",
       "      <td>0.288462</td>\n",
       "      <td>1.0</td>\n",
       "      <td>0</td>\n",
       "      <td>0.0</td>\n",
       "      <td>0.0</td>\n",
       "      <td>1.0</td>\n",
       "      <td>gain</td>\n",
       "      <td>S0</td>\n",
       "    </tr>\n",
       "  </tbody>\n",
       "</table>\n",
       "<p>10 rows × 28 columns</p>\n",
       "</div>"
      ],
      "text/plain": [
       "    Unnamed: 0  resp_r_1  prob_x_l  prob_x_r  mag_left  mag_right  info_amb  \\\n",
       "0            0       1.0      0.34      0.24      0.48       0.29       1.0   \n",
       "1            1       0.0      0.16      0.54      0.38       0.64       1.0   \n",
       "4            4       1.0      0.40      0.28      0.07       0.08       1.0   \n",
       "6            6       1.0      0.28      0.36      0.87       0.84       1.0   \n",
       "9            9       0.0      0.26      0.56      0.40       0.68       1.0   \n",
       "12          12       0.0      0.18      0.76      0.12       0.87       1.0   \n",
       "15          15       0.0      0.20      0.24      0.38       0.39       1.0   \n",
       "18          18       0.0      0.60      0.92      0.20       0.54       1.0   \n",
       "19          19       1.0      0.48      0.08      0.29       0.16       1.0   \n",
       "21          21       1.0      0.48      0.28      0.58       0.21       1.0   \n",
       "\n",
       "    num_revealed  revealed_x_r  resp_amb_1 ...   prob_x_ambig_bayes_emmas  \\\n",
       "0           50.0          12.0         1.0 ...                        NaN   \n",
       "1           50.0          27.0         0.0 ...                        NaN   \n",
       "4           50.0          14.0         1.0 ...                        NaN   \n",
       "6           50.0          18.0         1.0 ...                        NaN   \n",
       "9           50.0          28.0         0.0 ...                        NaN   \n",
       "12          50.0          38.0         0.0 ...                        NaN   \n",
       "15          50.0          12.0         0.0 ...                        NaN   \n",
       "18          50.0          46.0         0.0 ...                        NaN   \n",
       "19          50.0           4.0         1.0 ...                        NaN   \n",
       "21          50.0          14.0         1.0 ...                        NaN   \n",
       "\n",
       "    prob_x_ambig_bayes_mine  prob_x_ambig_bayes  info_amb_sqrt  ambig_r  \\\n",
       "0                  0.250000            0.250000            1.0        0   \n",
       "1                  0.538462            0.538462            1.0        0   \n",
       "4                  0.288462            0.288462            1.0        0   \n",
       "6                  0.365385            0.365385            1.0        0   \n",
       "9                  0.557692            0.557692            1.0        0   \n",
       "12                 0.750000            0.750000            1.0        0   \n",
       "15                 0.250000            0.250000            1.0        0   \n",
       "18                 0.903846            0.903846            1.0        0   \n",
       "19                 0.096154            0.096154            1.0        0   \n",
       "21                 0.288462            0.288462            1.0        0   \n",
       "\n",
       "    ambig_l  ambiguityLevel  revealed_ambi  gain_or_loss_trial  MID  \n",
       "0       0.0             0.0            1.0                gain   S0  \n",
       "1       0.0             0.0            1.0                gain   S0  \n",
       "4       0.0             0.0            1.0                gain   S0  \n",
       "6       0.0             0.0            1.0                gain   S0  \n",
       "9       0.0             0.0            1.0                gain   S0  \n",
       "12      0.0             0.0            1.0                gain   S0  \n",
       "15      0.0             0.0            1.0                gain   S0  \n",
       "18      0.0             0.0            1.0                gain   S0  \n",
       "19      0.0             0.0            1.0                gain   S0  \n",
       "21      0.0             0.0            1.0                gain   S0  \n",
       "\n",
       "[10 rows x 28 columns]"
      ]
     },
     "execution_count": 5,
     "metadata": {},
     "output_type": "execute_result"
    }
   ],
   "source": [
    "df.loc[df['revealed_ambi']==1.0,].head(10)"
   ]
  },
  {
   "cell_type": "code",
   "execution_count": 6,
   "metadata": {},
   "outputs": [
    {
     "data": {
      "text/html": [
       "<table class=\"simpletable\">\n",
       "<caption>Logit Regression Results</caption>\n",
       "<tr>\n",
       "  <th>Dep. Variable:</th>         <td>y</td>        <th>  No. Observations:  </th>  <td>    96</td>  \n",
       "</tr>\n",
       "<tr>\n",
       "  <th>Model:</th>               <td>Logit</td>      <th>  Df Residuals:      </th>  <td>    93</td>  \n",
       "</tr>\n",
       "<tr>\n",
       "  <th>Method:</th>               <td>MLE</td>       <th>  Df Model:          </th>  <td>     2</td>  \n",
       "</tr>\n",
       "<tr>\n",
       "  <th>Date:</th>          <td>Thu, 18 Jan 2018</td> <th>  Pseudo R-squ.:     </th>  <td>0.6179</td>  \n",
       "</tr>\n",
       "<tr>\n",
       "  <th>Time:</th>              <td>13:37:21</td>     <th>  Log-Likelihood:    </th> <td> -24.778</td> \n",
       "</tr>\n",
       "<tr>\n",
       "  <th>converged:</th>           <td>True</td>       <th>  LL-Null:           </th> <td> -64.845</td> \n",
       "</tr>\n",
       "<tr>\n",
       "  <th> </th>                      <td> </td>        <th>  LLR p-value:       </th> <td>3.977e-18</td>\n",
       "</tr>\n",
       "</table>\n",
       "<table class=\"simpletable\">\n",
       "<tr>\n",
       "          <td></td>             <th>coef</th>     <th>std err</th>      <th>z</th>      <th>P>|z|</th>  <th>[0.025</th>    <th>0.975]</th>  \n",
       "</tr>\n",
       "<tr>\n",
       "  <th>intercept</th>         <td>   -1.6741</td> <td>    0.514</td> <td>   -3.254</td> <td> 0.001</td> <td>   -2.682</td> <td>   -0.666</td>\n",
       "</tr>\n",
       "<tr>\n",
       "  <th>mag_diff_rl_gain</th>  <td>   -3.4338</td> <td>    0.954</td> <td>   -3.598</td> <td> 0.000</td> <td>   -5.304</td> <td>   -1.563</td>\n",
       "</tr>\n",
       "<tr>\n",
       "  <th>prob_diff_rl_gain</th> <td>   -6.0130</td> <td>    1.384</td> <td>   -4.344</td> <td> 0.000</td> <td>   -8.726</td> <td>   -3.300</td>\n",
       "</tr>\n",
       "</table>"
      ],
      "text/plain": [
       "<class 'statsmodels.iolib.summary.Summary'>\n",
       "\"\"\"\n",
       "                           Logit Regression Results                           \n",
       "==============================================================================\n",
       "Dep. Variable:                      y   No. Observations:                   96\n",
       "Model:                          Logit   Df Residuals:                       93\n",
       "Method:                           MLE   Df Model:                            2\n",
       "Date:                Thu, 18 Jan 2018   Pseudo R-squ.:                  0.6179\n",
       "Time:                        13:37:21   Log-Likelihood:                -24.778\n",
       "converged:                       True   LL-Null:                       -64.845\n",
       "                                        LLR p-value:                 3.977e-18\n",
       "=====================================================================================\n",
       "                        coef    std err          z      P>|z|      [0.025      0.975]\n",
       "-------------------------------------------------------------------------------------\n",
       "intercept            -1.6741      0.514     -3.254      0.001      -2.682      -0.666\n",
       "mag_diff_rl_gain     -3.4338      0.954     -3.598      0.000      -5.304      -1.563\n",
       "prob_diff_rl_gain    -6.0130      1.384     -4.344      0.000      -8.726      -3.300\n",
       "=====================================================================================\n",
       "\n",
       "Possibly complete quasi-separation: A fraction 0.14 of observations can be\n",
       "perfectly predicted. This might indicate that there is complete\n",
       "quasi-separation. In this case some parameters will not be identified.\n",
       "\"\"\""
      ]
     },
     "execution_count": 6,
     "metadata": {},
     "output_type": "execute_result"
    }
   ],
   "source": [
    "# Fit a model to the unambiguous gain trials \n",
    "#df['resp_r_1']=1.0-df['resp_r_1']\n",
    "out = fit_model_split_amb_unamb_gain_loss(df, whichreturn='unambig_shock', params=['mag_diff','prob_diff'],zscore=True)\n",
    "out['results'].summary()"
   ]
  },
  {
   "cell_type": "markdown",
   "metadata": {},
   "source": [
    "# Fit models"
   ]
  },
  {
   "cell_type": "code",
   "execution_count": 7,
   "metadata": {},
   "outputs": [
    {
     "name": "stdout",
     "output_type": "stream",
     "text": [
      "32\n"
     ]
    }
   ],
   "source": [
    "# get trial data \n",
    "datadir = '../data/data_emmas_logfiles_from_mat_1_15_17/S*'\n",
    "files = glob.glob(datadir)\n",
    "filee = files[1]\n",
    "print(len(files))"
   ]
  },
  {
   "cell_type": "code",
   "execution_count": 8,
   "metadata": {
    "collapsed": true
   },
   "outputs": [],
   "source": [
    "df = pd.read_csv(filee)\n",
    "#df"
   ]
  },
  {
   "cell_type": "code",
   "execution_count": 9,
   "metadata": {
    "collapsed": true
   },
   "outputs": [],
   "source": [
    "param_sets_split = {}\n",
    "param_sets_split['0'] = ['mag_diff','log_prob_diff']\n",
    "param_sets_split['1'] = ['mag_diff','log_prob_diff','ambiguityLevel']"
   ]
  },
  {
   "cell_type": "code",
   "execution_count": 10,
   "metadata": {
    "collapsed": true
   },
   "outputs": [],
   "source": [
    "resultnames = ['bic','aic','pseudoR2','pred_acc', 'llr_pvalue'] \n",
    "model_param_df = np.array(['','','',3.0, 3.0])\n",
    "model_summary_df = pd.DataFrame(data=np.arange(32).astype('str'),columns=['MID'])\n",
    "\n",
    "for sub in range(32):\n",
    "    \n",
    "    # exclude 31\n",
    "    if sub is not 30:\n",
    "    \n",
    "        df = pd.read_csv('../data/data_emmas_logfiles_from_mat_1_15_17/S'+str(sub)+'.csv')\n",
    "        MID = str(sub)\n",
    "\n",
    "        for split in ['ambig_shock','unambig_shock']: #'unambig_shock'\n",
    "                #print(split)\n",
    "                if 'unambig' in split:\n",
    "                    paramnum='0'\n",
    "                else:\n",
    "                    paramnum='1'\n",
    "                # Fit a model to the ambiguous gain trials \n",
    "                out = fit_model_split_amb_unamb_gain_loss(df, whichreturn= split, params=param_sets_split[paramnum],zscore=True)\n",
    "\n",
    "\n",
    "                modelname = out['modelname']\n",
    "\n",
    "                for result in resultnames:\n",
    "                    model_summary_df.loc[(model_summary_df.MID== MID),result+'_'+split]=out[result]\n",
    "\n",
    "                params = out['params']\n",
    "                se = out['se']\n",
    "                for param in params.index:\n",
    "                    paramn = param.replace('_gain','')\n",
    "                    paramn = paramn.replace('_amb','')\n",
    "                    paramn = paramn.replace('_rl','')\n",
    "                    row = np.array([MID,paramn,split,params[param],se[param]])\n",
    "                    model_param_df=np.vstack((model_param_df,row))\n",
    "                #print(params)\n",
    "                #print(MID)\n",
    "\n",
    "model_param_df = pd.DataFrame(model_param_df,columns=['MID','parameter','split','beta', 'se'])\n",
    "model_param_df= model_param_df.loc[1:,]\n",
    "model_param_df.MID=model_param_df.MID.astype('str')\n",
    "model_param_df['beta']=model_param_df['beta'].astype('float')\n",
    "model_param_df_shock = model_param_df        \n",
    "model_summary_shock_df = model_summary_df\n",
    "    \n",
    "    "
   ]
  },
  {
   "cell_type": "code",
   "execution_count": 11,
   "metadata": {},
   "outputs": [
    {
     "data": {
      "text/html": [
       "<div>\n",
       "<style>\n",
       "    .dataframe thead tr:only-child th {\n",
       "        text-align: right;\n",
       "    }\n",
       "\n",
       "    .dataframe thead th {\n",
       "        text-align: left;\n",
       "    }\n",
       "\n",
       "    .dataframe tbody tr th {\n",
       "        vertical-align: top;\n",
       "    }\n",
       "</style>\n",
       "<table border=\"1\" class=\"dataframe\">\n",
       "  <thead>\n",
       "    <tr style=\"text-align: right;\">\n",
       "      <th></th>\n",
       "      <th>MID</th>\n",
       "      <th>parameter</th>\n",
       "      <th>split</th>\n",
       "      <th>beta</th>\n",
       "      <th>se</th>\n",
       "    </tr>\n",
       "  </thead>\n",
       "  <tbody>\n",
       "    <tr>\n",
       "      <th>1</th>\n",
       "      <td>0</td>\n",
       "      <td>intercept</td>\n",
       "      <td>ambig_shock</td>\n",
       "      <td>-1.126521</td>\n",
       "      <td>0.353525122285</td>\n",
       "    </tr>\n",
       "    <tr>\n",
       "      <th>2</th>\n",
       "      <td>0</td>\n",
       "      <td>mag_diff</td>\n",
       "      <td>ambig_shock</td>\n",
       "      <td>-2.306468</td>\n",
       "      <td>0.649341912321</td>\n",
       "    </tr>\n",
       "    <tr>\n",
       "      <th>3</th>\n",
       "      <td>0</td>\n",
       "      <td>log_prob_diff</td>\n",
       "      <td>ambig_shock</td>\n",
       "      <td>-3.816050</td>\n",
       "      <td>0.80748224445</td>\n",
       "    </tr>\n",
       "    <tr>\n",
       "      <th>4</th>\n",
       "      <td>0</td>\n",
       "      <td>ambiguityLevel</td>\n",
       "      <td>ambig_shock</td>\n",
       "      <td>-0.763402</td>\n",
       "      <td>0.332827043614</td>\n",
       "    </tr>\n",
       "    <tr>\n",
       "      <th>5</th>\n",
       "      <td>0</td>\n",
       "      <td>intercept</td>\n",
       "      <td>unambig_shock</td>\n",
       "      <td>-1.615580</td>\n",
       "      <td>0.500915026783</td>\n",
       "    </tr>\n",
       "  </tbody>\n",
       "</table>\n",
       "</div>"
      ],
      "text/plain": [
       "  MID       parameter          split      beta              se\n",
       "1   0       intercept    ambig_shock -1.126521  0.353525122285\n",
       "2   0        mag_diff    ambig_shock -2.306468  0.649341912321\n",
       "3   0   log_prob_diff    ambig_shock -3.816050   0.80748224445\n",
       "4   0  ambiguityLevel    ambig_shock -0.763402  0.332827043614\n",
       "5   0       intercept  unambig_shock -1.615580  0.500915026783"
      ]
     },
     "execution_count": 11,
     "metadata": {},
     "output_type": "execute_result"
    }
   ],
   "source": [
    "model_param_df.head()"
   ]
  },
  {
   "cell_type": "code",
   "execution_count": 12,
   "metadata": {},
   "outputs": [
    {
     "data": {
      "text/html": [
       "<div>\n",
       "<style>\n",
       "    .dataframe thead tr:only-child th {\n",
       "        text-align: right;\n",
       "    }\n",
       "\n",
       "    .dataframe thead th {\n",
       "        text-align: left;\n",
       "    }\n",
       "\n",
       "    .dataframe tbody tr th {\n",
       "        vertical-align: top;\n",
       "    }\n",
       "</style>\n",
       "<table border=\"1\" class=\"dataframe\">\n",
       "  <thead>\n",
       "    <tr style=\"text-align: right;\">\n",
       "      <th></th>\n",
       "      <th>MID</th>\n",
       "      <th>bic_ambig_shock</th>\n",
       "      <th>aic_ambig_shock</th>\n",
       "      <th>pseudoR2_ambig_shock</th>\n",
       "      <th>pred_acc_ambig_shock</th>\n",
       "      <th>llr_pvalue_ambig_shock</th>\n",
       "      <th>bic_unambig_shock</th>\n",
       "      <th>aic_unambig_shock</th>\n",
       "      <th>pseudoR2_unambig_shock</th>\n",
       "      <th>pred_acc_unambig_shock</th>\n",
       "      <th>llr_pvalue_unambig_shock</th>\n",
       "    </tr>\n",
       "  </thead>\n",
       "  <tbody>\n",
       "    <tr>\n",
       "      <th>0</th>\n",
       "      <td>0</td>\n",
       "      <td>87.059562</td>\n",
       "      <td>76.481999</td>\n",
       "      <td>0.502330</td>\n",
       "      <td>0.846154</td>\n",
       "      <td>6.576599e-15</td>\n",
       "      <td>63.957440</td>\n",
       "      <td>56.264396</td>\n",
       "      <td>0.612424</td>\n",
       "      <td>0.906250</td>\n",
       "      <td>5.663996e-18</td>\n",
       "    </tr>\n",
       "    <tr>\n",
       "      <th>1</th>\n",
       "      <td>1</td>\n",
       "      <td>86.513296</td>\n",
       "      <td>75.935732</td>\n",
       "      <td>0.313044</td>\n",
       "      <td>0.865385</td>\n",
       "      <td>8.674587e-07</td>\n",
       "      <td>77.353672</td>\n",
       "      <td>69.660627</td>\n",
       "      <td>0.520299</td>\n",
       "      <td>0.864583</td>\n",
       "      <td>1.014690e-15</td>\n",
       "    </tr>\n",
       "    <tr>\n",
       "      <th>2</th>\n",
       "      <td>2</td>\n",
       "      <td>94.798210</td>\n",
       "      <td>84.220647</td>\n",
       "      <td>0.380858</td>\n",
       "      <td>0.807692</td>\n",
       "      <td>3.674672e-10</td>\n",
       "      <td>85.776708</td>\n",
       "      <td>78.083663</td>\n",
       "      <td>0.458191</td>\n",
       "      <td>0.812500</td>\n",
       "      <td>5.793452e-14</td>\n",
       "    </tr>\n",
       "    <tr>\n",
       "      <th>3</th>\n",
       "      <td>3</td>\n",
       "      <td>125.147146</td>\n",
       "      <td>114.569582</td>\n",
       "      <td>0.235981</td>\n",
       "      <td>0.682692</td>\n",
       "      <td>3.355043e-07</td>\n",
       "      <td>77.962622</td>\n",
       "      <td>70.269578</td>\n",
       "      <td>0.511556</td>\n",
       "      <td>0.864583</td>\n",
       "      <td>2.419114e-15</td>\n",
       "    </tr>\n",
       "    <tr>\n",
       "      <th>4</th>\n",
       "      <td>4</td>\n",
       "      <td>101.514363</td>\n",
       "      <td>90.936799</td>\n",
       "      <td>0.419157</td>\n",
       "      <td>0.778846</td>\n",
       "      <td>6.328036e-13</td>\n",
       "      <td>79.508053</td>\n",
       "      <td>71.815008</td>\n",
       "      <td>0.499811</td>\n",
       "      <td>0.875000</td>\n",
       "      <td>5.238926e-15</td>\n",
       "    </tr>\n",
       "  </tbody>\n",
       "</table>\n",
       "</div>"
      ],
      "text/plain": [
       "  MID  bic_ambig_shock  aic_ambig_shock  pseudoR2_ambig_shock  \\\n",
       "0   0        87.059562        76.481999              0.502330   \n",
       "1   1        86.513296        75.935732              0.313044   \n",
       "2   2        94.798210        84.220647              0.380858   \n",
       "3   3       125.147146       114.569582              0.235981   \n",
       "4   4       101.514363        90.936799              0.419157   \n",
       "\n",
       "   pred_acc_ambig_shock  llr_pvalue_ambig_shock  bic_unambig_shock  \\\n",
       "0              0.846154            6.576599e-15          63.957440   \n",
       "1              0.865385            8.674587e-07          77.353672   \n",
       "2              0.807692            3.674672e-10          85.776708   \n",
       "3              0.682692            3.355043e-07          77.962622   \n",
       "4              0.778846            6.328036e-13          79.508053   \n",
       "\n",
       "   aic_unambig_shock  pseudoR2_unambig_shock  pred_acc_unambig_shock  \\\n",
       "0          56.264396                0.612424                0.906250   \n",
       "1          69.660627                0.520299                0.864583   \n",
       "2          78.083663                0.458191                0.812500   \n",
       "3          70.269578                0.511556                0.864583   \n",
       "4          71.815008                0.499811                0.875000   \n",
       "\n",
       "   llr_pvalue_unambig_shock  \n",
       "0              5.663996e-18  \n",
       "1              1.014690e-15  \n",
       "2              5.793452e-14  \n",
       "3              2.419114e-15  \n",
       "4              5.238926e-15  "
      ]
     },
     "execution_count": 12,
     "metadata": {},
     "output_type": "execute_result"
    }
   ],
   "source": [
    "model_summary_shock_df.head()"
   ]
  },
  {
   "cell_type": "code",
   "execution_count": 13,
   "metadata": {},
   "outputs": [
    {
     "name": "stderr",
     "output_type": "stream",
     "text": [
      "/Users/chris/anaconda/lib/python3.6/site-packages/scipy/io/matlab/mio.py:136: MatReadWarning: Duplicate variable name \"None\" in stream - replacing previous with new\n",
      "Consider mio5.varmats_from_mat to split file into single variable files\n",
      "  matfile_dict = MR.get_variables(variable_names)\n"
     ]
    }
   ],
   "source": [
    "# get bdi\n",
    "dictt = scipy.io.loadmat('../data/data_emmas_1_15_18/DataMatrix_AllfMRI_FinalSubjects.mat')"
   ]
  },
  {
   "cell_type": "code",
   "execution_count": 14,
   "metadata": {},
   "outputs": [
    {
     "data": {
      "text/html": [
       "<div>\n",
       "<style>\n",
       "    .dataframe thead tr:only-child th {\n",
       "        text-align: right;\n",
       "    }\n",
       "\n",
       "    .dataframe thead th {\n",
       "        text-align: left;\n",
       "    }\n",
       "\n",
       "    .dataframe tbody tr th {\n",
       "        vertical-align: top;\n",
       "    }\n",
       "</style>\n",
       "<table border=\"1\" class=\"dataframe\">\n",
       "  <thead>\n",
       "    <tr style=\"text-align: right;\">\n",
       "      <th></th>\n",
       "      <th>MID</th>\n",
       "      <th>TraitAnxiety</th>\n",
       "    </tr>\n",
       "  </thead>\n",
       "  <tbody>\n",
       "    <tr>\n",
       "      <th>0</th>\n",
       "      <td>0</td>\n",
       "      <td>41</td>\n",
       "    </tr>\n",
       "    <tr>\n",
       "      <th>1</th>\n",
       "      <td>1</td>\n",
       "      <td>33</td>\n",
       "    </tr>\n",
       "    <tr>\n",
       "      <th>2</th>\n",
       "      <td>2</td>\n",
       "      <td>41</td>\n",
       "    </tr>\n",
       "    <tr>\n",
       "      <th>3</th>\n",
       "      <td>3</td>\n",
       "      <td>41</td>\n",
       "    </tr>\n",
       "    <tr>\n",
       "      <th>4</th>\n",
       "      <td>4</td>\n",
       "      <td>34</td>\n",
       "    </tr>\n",
       "  </tbody>\n",
       "</table>\n",
       "</div>"
      ],
      "text/plain": [
       "  MID TraitAnxiety\n",
       "0   0           41\n",
       "1   1           33\n",
       "2   2           41\n",
       "3   3           41\n",
       "4   4           34"
      ]
     },
     "execution_count": 14,
     "metadata": {},
     "output_type": "execute_result"
    }
   ],
   "source": [
    "data= np.vstack((np.arange(32).astype('str'),dictt['Trait_fmri'][0,:])).T\n",
    "STAI_df = pd.DataFrame(data=data,columns=['MID','TraitAnxiety'])\n",
    "STAI_df.head()"
   ]
  },
  {
   "cell_type": "code",
   "execution_count": 15,
   "metadata": {
    "collapsed": true
   },
   "outputs": [],
   "source": [
    "model_param_df=model_param_df.merge(STAI_df,on='MID')"
   ]
  },
  {
   "cell_type": "code",
   "execution_count": 16,
   "metadata": {},
   "outputs": [
    {
     "data": {
      "text/html": [
       "<div>\n",
       "<style>\n",
       "    .dataframe thead tr:only-child th {\n",
       "        text-align: right;\n",
       "    }\n",
       "\n",
       "    .dataframe thead th {\n",
       "        text-align: left;\n",
       "    }\n",
       "\n",
       "    .dataframe tbody tr th {\n",
       "        vertical-align: top;\n",
       "    }\n",
       "</style>\n",
       "<table border=\"1\" class=\"dataframe\">\n",
       "  <thead>\n",
       "    <tr style=\"text-align: right;\">\n",
       "      <th></th>\n",
       "      <th>MID</th>\n",
       "      <th>parameter</th>\n",
       "      <th>split</th>\n",
       "      <th>beta</th>\n",
       "      <th>se</th>\n",
       "      <th>TraitAnxiety</th>\n",
       "    </tr>\n",
       "  </thead>\n",
       "  <tbody>\n",
       "    <tr>\n",
       "      <th>0</th>\n",
       "      <td>0</td>\n",
       "      <td>intercept</td>\n",
       "      <td>ambig_shock</td>\n",
       "      <td>-1.126521</td>\n",
       "      <td>0.353525122285</td>\n",
       "      <td>41</td>\n",
       "    </tr>\n",
       "    <tr>\n",
       "      <th>1</th>\n",
       "      <td>0</td>\n",
       "      <td>mag_diff</td>\n",
       "      <td>ambig_shock</td>\n",
       "      <td>-2.306468</td>\n",
       "      <td>0.649341912321</td>\n",
       "      <td>41</td>\n",
       "    </tr>\n",
       "    <tr>\n",
       "      <th>2</th>\n",
       "      <td>0</td>\n",
       "      <td>log_prob_diff</td>\n",
       "      <td>ambig_shock</td>\n",
       "      <td>-3.816050</td>\n",
       "      <td>0.80748224445</td>\n",
       "      <td>41</td>\n",
       "    </tr>\n",
       "    <tr>\n",
       "      <th>3</th>\n",
       "      <td>0</td>\n",
       "      <td>ambiguityLevel</td>\n",
       "      <td>ambig_shock</td>\n",
       "      <td>-0.763402</td>\n",
       "      <td>0.332827043614</td>\n",
       "      <td>41</td>\n",
       "    </tr>\n",
       "    <tr>\n",
       "      <th>4</th>\n",
       "      <td>0</td>\n",
       "      <td>intercept</td>\n",
       "      <td>unambig_shock</td>\n",
       "      <td>-1.615580</td>\n",
       "      <td>0.500915026783</td>\n",
       "      <td>41</td>\n",
       "    </tr>\n",
       "  </tbody>\n",
       "</table>\n",
       "</div>"
      ],
      "text/plain": [
       "  MID       parameter          split      beta              se TraitAnxiety\n",
       "0   0       intercept    ambig_shock -1.126521  0.353525122285           41\n",
       "1   0        mag_diff    ambig_shock -2.306468  0.649341912321           41\n",
       "2   0   log_prob_diff    ambig_shock -3.816050   0.80748224445           41\n",
       "3   0  ambiguityLevel    ambig_shock -0.763402  0.332827043614           41\n",
       "4   0       intercept  unambig_shock -1.615580  0.500915026783           41"
      ]
     },
     "execution_count": 16,
     "metadata": {},
     "output_type": "execute_result"
    }
   ],
   "source": [
    "model_param_df.head()"
   ]
  },
  {
   "cell_type": "code",
   "execution_count": 17,
   "metadata": {},
   "outputs": [
    {
     "data": {
      "text/plain": [
       "array(['intercept', 'mag_diff', 'log_prob_diff', 'ambiguityLevel'], dtype=object)"
      ]
     },
     "execution_count": 17,
     "metadata": {},
     "output_type": "execute_result"
    }
   ],
   "source": [
    "model_param_df.parameter.unique()"
   ]
  },
  {
   "cell_type": "code",
   "execution_count": 18,
   "metadata": {
    "collapsed": true
   },
   "outputs": [],
   "source": [
    "from scipy.stats import spearmanr"
   ]
  },
  {
   "cell_type": "code",
   "execution_count": 19,
   "metadata": {},
   "outputs": [
    {
     "data": {
      "text/plain": [
       "array(['0', '1', '2', '3', '4', '5', '6', '7', '8', '9', '10', '11', '12',\n",
       "       '13', '14', '15', '16', '17', '18', '19', '20', '21', '22', '23',\n",
       "       '24', '25', '26', '27', '28', '29', '31'], dtype=object)"
      ]
     },
     "execution_count": 19,
     "metadata": {},
     "output_type": "execute_result"
    }
   ],
   "source": [
    "model_param_df.MID.unique()"
   ]
  },
  {
   "cell_type": "code",
   "execution_count": 20,
   "metadata": {},
   "outputs": [
    {
     "data": {
      "image/png": "[encoded data removed]",
      "text/plain": [
       "<matplotlib.figure.Figure at 0x11fecf748>"
      ]
     },
     "metadata": {},
     "output_type": "display_data"
    },
    {
     "data": {
      "image/png": "[encoded data removed]",
      "text/plain": [
       "<matplotlib.figure.Figure at 0x120382a20>"
      ]
     },
     "metadata": {},
     "output_type": "display_data"
    },
    {
     "data": {
      "image/png": "[encoded data removed]",
      "text/plain": [
       "<matplotlib.figure.Figure at 0x120419208>"
      ]
     },
     "metadata": {},
     "output_type": "display_data"
    },
    {
     "data": {
      "image/png": "[encoded data removed]",
      "text/plain": [
       "<matplotlib.figure.Figure at 0x12049c780>"
      ]
     },
     "metadata": {},
     "output_type": "display_data"
    }
   ],
   "source": [
    "sns.set_style('white')\n",
    "\n",
    "for pi, parameter in enumerate(model_param_df.parameter.unique()):\n",
    "    plt.figure()\n",
    "    y = model_param_df.loc[(model_param_df.parameter==parameter)&(model_param_df.split=='ambig_shock'),\n",
    "                           'beta'].as_matrix()\n",
    "    \n",
    "    x = model_param_df.loc[(model_param_df.parameter==parameter)&(model_param_df.split=='ambig_shock'),\n",
    "                           'TraitAnxiety'].as_matrix().astype('float')\n",
    "    plt.scatter(x,y,s=30)\n",
    "    r,p = spearmanr(x,y)\n",
    "    sns.regplot(x,y)\n",
    "    \n",
    "    if pi<3:\n",
    "        y = model_param_df.loc[(model_param_df.parameter==parameter)&(model_param_df.split=='unambig_shock'),\n",
    "                               'beta'].as_matrix()\n",
    "\n",
    "        x = model_param_df.loc[(model_param_df.parameter==parameter)&(model_param_df.split=='unambig_shock'),\n",
    "                               'TraitAnxiety'].as_matrix().astype('float')\n",
    "        plt.scatter(x,y,c='g',s=30)\n",
    "        sns.regplot(x,y)\n",
    "\n",
    "    r2,p2 = spearmanr(x,y)\n",
    "    plt.title(parameter+'\\n c='+str(np.round(r,2))+' p='+str(np.round(p,3))+'\\n c='+str(np.round(r2,2))+' p='+str(np.round(p2,3)))\n",
    "    plt.xlabel('STAI')\n",
    "    plt.ylabel(parameter)\n",
    "    \n",
    "    ax = plt.gca()\n",
    "    ax.axhline(y=0,linestyle='--',c='k')\n",
    "\n",
    "    sns.despine()"
   ]
  },
  {
   "cell_type": "markdown",
   "metadata": {},
   "source": [
    "- I ran our model and it's the same result as Emmas data figures.\n",
    "- I re-ran reversing the unambig v choosing ambig; 1-ambiguity vs ambiguity. "
   ]
  },
  {
   "cell_type": "markdown",
   "metadata": {},
   "source": [
    "## Comparing Parameters Directly\n"
   ]
  },
  {
   "cell_type": "code",
   "execution_count": 21,
   "metadata": {
    "scrolled": true
   },
   "outputs": [
    {
     "name": "stderr",
     "output_type": "stream",
     "text": [
      "/Users/chris/anaconda/lib/python3.6/site-packages/scipy/io/matlab/mio.py:136: MatReadWarning: Duplicate variable name \"None\" in stream - replacing previous with new\n",
      "Consider mio5.varmats_from_mat to split file into single variable files\n",
      "  matfile_dict = MR.get_variables(variable_names)\n"
     ]
    }
   ],
   "source": [
    "dictt = scipy.io.loadmat('../data/data_emmas_1_15_18/FinalModels_Jan2018_ChoseLeft_HiddenInfo.mat')"
   ]
  },
  {
   "cell_type": "code",
   "execution_count": 22,
   "metadata": {},
   "outputs": [],
   "source": [
    "#for key in dictt.keys():\n",
    "#    print(key)"
   ]
  },
  {
   "cell_type": "code",
   "execution_count": 23,
   "metadata": {
    "collapsed": true
   },
   "outputs": [],
   "source": [
    "# convert MID to int for sorting. \n",
    "model_param_df['MID']= model_param_df['MID'].astype('int')"
   ]
  },
  {
   "cell_type": "code",
   "execution_count": 24,
   "metadata": {},
   "outputs": [],
   "source": [
    "def addstuff():\n",
    "    sns.despine()\n",
    "    ax = plt.gca()\n",
    "    lims = [\n",
    "        np.min([ax.get_xlim(), ax.get_ylim()]),  # min of both axes\n",
    "        np.max([ax.get_xlim(), ax.get_ylim()]),  # max of both axes\n",
    "    ]\n",
    "    ax.plot(lims, lims, 'k-', alpha=0.75, zorder=0)\n",
    "    ax.set_xlabel('my parameter fits')\n",
    "    ax.set_ylabel('emmas parameter fits')\n"
   ]
  },
  {
   "cell_type": "code",
   "execution_count": 25,
   "metadata": {},
   "outputs": [
    {
     "name": "stdout",
     "output_type": "stream",
     "text": [
      "rank corr: 1.0\n"
     ]
    },
    {
     "data": {
      "image/png": "[encoded data removed]",
      "text/plain": [
       "<matplotlib.figure.Figure at 0x11f970400>"
      ]
     },
     "metadata": {},
     "output_type": "display_data"
    }
   ],
   "source": [
    "# mag diff ambiguous \n",
    "split = (model_param_df['split']=='ambig_shock')\n",
    "param = (model_param_df['parameter']=='mag_diff')\n",
    "my_param = -1.0*model_param_df.loc[split & param,].sort_values('MID')['beta'].as_matrix()# check 'MID'\n",
    "em_param = dictt['betas_1a'][1,:]\n",
    "c,p = spearmanr(my_param,em_param)\n",
    "print('rank corr: {0}'.format(str(c)))\n",
    "sns.regplot(my_param,em_param)\n",
    "plt.title('Mag Diff (Ambiguous Trials)')\n",
    "addstuff()"
   ]
  },
  {
   "cell_type": "code",
   "execution_count": 26,
   "metadata": {},
   "outputs": [
    {
     "name": "stdout",
     "output_type": "stream",
     "text": [
      "rank corr: 1.0\n"
     ]
    },
    {
     "data": {
      "image/png": "[encoded data removed]",
      "text/plain": [
       "<matplotlib.figure.Figure at 0x116313198>"
      ]
     },
     "metadata": {},
     "output_type": "display_data"
    }
   ],
   "source": [
    "# mag diff ambiguous \n",
    "split = (model_param_df['split']=='ambig_shock')\n",
    "param = (model_param_df['parameter']=='log_prob_diff')\n",
    "my_param = -1.0*model_param_df.loc[split & param,].sort_values('MID')['beta'].as_matrix()# check 'MID'\n",
    "em_param = dictt['betas_1a'][2,:]\n",
    "c,p = spearmanr(my_param,em_param)\n",
    "print('rank corr: {0}'.format(str(c)))\n",
    "sns.regplot(my_param,em_param)\n",
    "plt.title('Log Prof Diff (Ambiguous Trials)')\n",
    "addstuff()"
   ]
  },
  {
   "cell_type": "code",
   "execution_count": 27,
   "metadata": {},
   "outputs": [
    {
     "name": "stdout",
     "output_type": "stream",
     "text": [
      "rank corr: 1.0\n"
     ]
    },
    {
     "data": {
      "image/png": "[encoded data removed]",
      "text/plain": [
       "<matplotlib.figure.Figure at 0x11f98e7b8>"
      ]
     },
     "metadata": {},
     "output_type": "display_data"
    }
   ],
   "source": [
    "# mag diff ambiguous \n",
    "split = (model_param_df['split']=='ambig_shock')\n",
    "param = (model_param_df['parameter']=='ambiguityLevel')\n",
    "my_param = -1.0*model_param_df.loc[split & param,].sort_values('MID')['beta'].as_matrix()# check 'MID'\n",
    "em_param = dictt['betas_1a'][3,:]\n",
    "c,p = spearmanr(my_param,em_param)\n",
    "print('rank corr: {0}'.format(str(c)))\n",
    "sns.regplot(my_param,em_param)\n",
    "plt.title('Ambiguity Level (Ambiguous Trials)')\n",
    "addstuff()"
   ]
  },
  {
   "cell_type": "code",
   "execution_count": 28,
   "metadata": {},
   "outputs": [
    {
     "name": "stdout",
     "output_type": "stream",
     "text": [
      "rank corr: 1.0\n"
     ]
    },
    {
     "data": {
      "image/png": "[encoded data removed]",
      "text/plain": [
       "<matplotlib.figure.Figure at 0x12046d438>"
      ]
     },
     "metadata": {},
     "output_type": "display_data"
    }
   ],
   "source": [
    "# mag diff ambiguous \n",
    "split = (model_param_df['split']=='ambig_shock')\n",
    "param = (model_param_df['parameter']=='intercept')\n",
    "my_param = -1.0*model_param_df.loc[split & param,].sort_values('MID')['beta'].as_matrix()# check 'MID'\n",
    "em_param = dictt['betas_1a'][0,:]\n",
    "c,p = spearmanr(my_param,em_param)\n",
    "print('rank corr: {0}'.format(str(c)))\n",
    "sns.regplot(my_param,em_param)\n",
    "plt.title('Intercept (Ambiguous Trials)')\n",
    "addstuff()"
   ]
  },
  {
   "cell_type": "code",
   "execution_count": 29,
   "metadata": {},
   "outputs": [
    {
     "name": "stdout",
     "output_type": "stream",
     "text": [
      "rank corr: 1.0\n"
     ]
    },
    {
     "data": {
      "image/png": "[encoded data removed]",
      "text/plain": [
       "<matplotlib.figure.Figure at 0x120c3c518>"
      ]
     },
     "metadata": {},
     "output_type": "display_data"
    }
   ],
   "source": [
    "# mag diff ambiguous \n",
    "split = (model_param_df['split']=='unambig_shock')\n",
    "param = (model_param_df['parameter']=='mag_diff')\n",
    "my_param = -1.0*model_param_df.loc[split & param,].sort_values('MID')['beta'].as_matrix()# check 'MID'\n",
    "em_param = dictt['betas_1u'][1,:]\n",
    "c,p = spearmanr(my_param,em_param)\n",
    "print('rank corr: {0}'.format(str(c)))\n",
    "sns.regplot(my_param,em_param)\n",
    "plt.title('Mag Diff (Unambiguous Trials)')\n",
    "addstuff()"
   ]
  },
  {
   "cell_type": "code",
   "execution_count": 30,
   "metadata": {},
   "outputs": [
    {
     "name": "stdout",
     "output_type": "stream",
     "text": [
      "rank corr: 1.0\n"
     ]
    },
    {
     "data": {
      "image/png": "[encoded data removed]",
      "text/plain": [
       "<matplotlib.figure.Figure at 0x11f98e2e8>"
      ]
     },
     "metadata": {},
     "output_type": "display_data"
    }
   ],
   "source": [
    "# mag diff ambiguous \n",
    "split = (model_param_df['split']=='unambig_shock')\n",
    "param = (model_param_df['parameter']=='log_prob_diff')\n",
    "my_param = -1.0*model_param_df.loc[split & param,].sort_values('MID')['beta'].as_matrix()# check 'MID'\n",
    "em_param = dictt['betas_1u'][2,:]\n",
    "c,p = spearmanr(my_param,em_param)\n",
    "print('rank corr: {0}'.format(str(c)))\n",
    "sns.regplot(my_param,em_param)\n",
    "plt.title('Log Prof Diff (Unambiguous Trials)')\n",
    "addstuff()"
   ]
  },
  {
   "cell_type": "code",
   "execution_count": 31,
   "metadata": {},
   "outputs": [
    {
     "name": "stdout",
     "output_type": "stream",
     "text": [
      "rank corr: 1.0\n"
     ]
    },
    {
     "data": {
      "image/png": "[encoded data removed]",
      "text/plain": [
       "<matplotlib.figure.Figure at 0x120a2c208>"
      ]
     },
     "metadata": {},
     "output_type": "display_data"
    }
   ],
   "source": [
    "# mag diff ambiguous \n",
    "split = (model_param_df['split']=='unambig_shock')\n",
    "param = (model_param_df['parameter']=='intercept')\n",
    "my_param = -1.0*model_param_df.loc[split & param,].sort_values('MID')['beta'].as_matrix()# check 'MID'\n",
    "em_param = dictt['betas_1u'][0,:]\n",
    "c,p = spearmanr(my_param,em_param)\n",
    "print('rank corr: {0}'.format(str(c)))\n",
    "sns.regplot(my_param,em_param)\n",
    "plt.title('Intercept (Unambiguous Trials)')\n",
    "addstuff()"
   ]
  },
  {
   "cell_type": "code",
   "execution_count": null,
   "metadata": {
    "collapsed": true
   },
   "outputs": [],
   "source": []
  }
 ],
 "metadata": {
  "hide_input": false,
  "kernelspec": {
   "display_name": "Python 3",
   "language": "python",
   "name": "python3"
  },
  "language_info": {
   "codemirror_mode": {
    "name": "ipython",
    "version": 3
   },
   "file_extension": ".py",
   "mimetype": "text/x-python",
   "name": "python",
   "nbconvert_exporter": "python",
   "pygments_lexer": "ipython3",
   "version": "3.6.1"
  },
  "toc": {
   "nav_menu": {
    "height": "65px",
    "width": "253px"
   },
   "number_sections": false,
   "sideBar": true,
   "skip_h1_title": false,
   "toc_cell": false,
   "toc_position": {
    "height": "1056px",
    "left": "0px",
    "right": "1822.5px",
    "top": "114px",
    "width": "273px"
   },
   "toc_section_display": "block",
   "toc_window_display": true
  }
 },
 "nbformat": 4,
 "nbformat_minor": 1
}
