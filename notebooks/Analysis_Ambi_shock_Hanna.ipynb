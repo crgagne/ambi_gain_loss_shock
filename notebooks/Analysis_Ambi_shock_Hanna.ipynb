{
 "cells": [
  {
   "cell_type": "code",
   "execution_count": 4,
   "metadata": {
    "collapsed": false
   },
   "outputs": [],
   "source": [
    "import os\n",
    "import pandas as pd\n",
    "import numpy as np\n",
    "import matplotlib.pyplot as plt\n",
    "import matplotlib"
   ]
  },
  {
   "cell_type": "markdown",
   "metadata": {},
   "source": [
    "Plot in jupyter rather than opening up a new window"
   ]
  },
  {
   "cell_type": "code",
   "execution_count": 5,
   "metadata": {
    "collapsed": true
   },
   "outputs": [],
   "source": [
    "%matplotlib inline"
   ]
  },
  {
   "cell_type": "markdown",
   "metadata": {},
   "source": [
    "Read in shock data"
   ]
  },
  {
   "cell_type": "code",
   "execution_count": 6,
   "metadata": {
    "collapsed": false
   },
   "outputs": [],
   "source": [
    "df_list = []\n",
    "vp_list = ['06', '07', '10', '11']\n",
    "section_list = ['1', '2', '3']\n",
    "for vp in vp_list:\n",
    "    for sec in section_list:\n",
    "        path = os.path.join(os.getcwd(),'..','data','data_behavioral','Expt1Pain_Behaviour_vp' + vp + '_' + sec + '.txt')\n",
    "        df = pd.read_csv(path, sep=\"\\t\", skiprows = [0])\n",
    "        df['vp'] = vp\n",
    "        df['section'] = sec\n",
    "        df_list.append(df)"
   ]
  },
  {
   "cell_type": "markdown",
   "metadata": {},
   "source": [
    "Merge dataframe list to single dataframe. \"inner\": Just take columns which exist in all dataframes"
   ]
  },
  {
   "cell_type": "code",
   "execution_count": 7,
   "metadata": {
    "collapsed": false
   },
   "outputs": [],
   "source": [
    "df = pd.concat(df_list, ignore_index = True, join = 'inner')"
   ]
  },
  {
   "cell_type": "markdown",
   "metadata": {},
   "source": [
    "Drop empty space in column names"
   ]
  },
  {
   "cell_type": "code",
   "execution_count": 8,
   "metadata": {
    "collapsed": false
   },
   "outputs": [],
   "source": [
    "df.columns = df.columns.str.replace(' ','')"
   ]
  },
  {
   "cell_type": "markdown",
   "metadata": {},
   "source": [
    "Create variable percent revealed ambiguous as pr_ambiguous"
   ]
  },
  {
   "cell_type": "code",
   "execution_count": 9,
   "metadata": {
    "collapsed": false
   },
   "outputs": [],
   "source": [
    "df['pr_ambiguous'] = df[['pr_left','pr']].min(axis = 1)"
   ]
  },
  {
   "cell_type": "code",
   "execution_count": 10,
   "metadata": {
    "collapsed": false
   },
   "outputs": [
    {
     "data": {
      "text/plain": [
       "0           0.02\n",
       "1           1.00\n",
       "2           1.00\n",
       "3           1.00\n",
       "4           1.00\n",
       "5           0.20\n",
       "6           1.00\n",
       "7           1.00\n",
       "8           0.80\n",
       "9           0.02\n",
       "10          0.80\n",
       "11          1.00\n",
       "12          1.00\n",
       "13          1.00\n",
       "14          1.00\n",
       "15          0.40\n",
       "16          0.20\n",
       "17          0.20\n",
       "18          0.10\n",
       "19          0.10\n",
       "20          0.02\n",
       "21          0.06\n",
       "22          1.00\n",
       "23          1.00\n",
       "24          0.06\n",
       "25          0.06\n",
       "26          0.20\n",
       "27          0.40\n",
       "28          1.00\n",
       "29          0.02\n",
       "         ...    \n",
       "582         0.40\n",
       "583         1.00\n",
       "584         0.80\n",
       "585         0.02\n",
       "586         0.02\n",
       "587         0.02\n",
       "588         1.00\n",
       "589         1.00\n",
       "590         1.00\n",
       "591         0.20\n",
       "592         1.00\n",
       "593         0.10\n",
       "594         1.00\n",
       "595         0.40\n",
       "596         0.06\n",
       "597         1.00\n",
       "598         1.00\n",
       "599         0.80\n",
       "600         0.40\n",
       "601         0.20\n",
       "602         1.00\n",
       "603         1.00\n",
       "604         1.00\n",
       "605         0.20\n",
       "606         0.40\n",
       "607         1.00\n",
       "608         1.00\n",
       "609         1.00\n",
       "610         1.00\n",
       "611    492000.00\n",
       "Name: pr_ambiguous, dtype: float64"
      ]
     },
     "execution_count": 10,
     "metadata": {},
     "output_type": "execute_result"
    }
   ],
   "source": [
    "df.loc[:,'pr_ambiguous']"
   ]
  },
  {
   "cell_type": "markdown",
   "metadata": {},
   "source": [
    "convert pr_ambiguous to number of tokens revealed (rtokens)"
   ]
  },
  {
   "cell_type": "code",
   "execution_count": 11,
   "metadata": {
    "collapsed": false
   },
   "outputs": [],
   "source": [
    "df['numberRevealedTokens'] = df['pr_ambiguous']*100/2"
   ]
  },
  {
   "cell_type": "markdown",
   "metadata": {
    "collapsed": true
   },
   "source": [
    "sqrt transformation of number revealed"
   ]
  },
  {
   "cell_type": "code",
   "execution_count": 13,
   "metadata": {
    "collapsed": false
   },
   "outputs": [],
   "source": [
    "df['sqrtInfo'] = np.sqrt(df['numberRevealedTokens'])"
   ]
  },
  {
   "cell_type": "code",
   "execution_count": 17,
   "metadata": {
    "collapsed": false
   },
   "outputs": [
    {
     "data": {
      "text/html": [
       "<div>\n",
       "<table border=\"1\" class=\"dataframe\">\n",
       "  <thead>\n",
       "    <tr style=\"text-align: right;\">\n",
       "      <th></th>\n",
       "      <th>p_left</th>\n",
       "      <th>p_right</th>\n",
       "      <th>pr</th>\n",
       "      <th>pr_left</th>\n",
       "      <th>magnitude_left</th>\n",
       "      <th>magnitude_right</th>\n",
       "      <th>UrnsPresented_duration</th>\n",
       "      <th>ChoiceTime_duration</th>\n",
       "      <th>ChoiceDisplayed_duration</th>\n",
       "      <th>OutcomeDisplayed_duration</th>\n",
       "      <th>...</th>\n",
       "      <th>OutcomeHistoryDisplayed_start</th>\n",
       "      <th>ShockOutcomeDisplay_start</th>\n",
       "      <th>Shock_start</th>\n",
       "      <th>ExtraITI_start</th>\n",
       "      <th>Trial_starttime</th>\n",
       "      <th>vp</th>\n",
       "      <th>section</th>\n",
       "      <th>pr_ambiguous</th>\n",
       "      <th>numberRevealedTokens</th>\n",
       "      <th>sqrtInfo</th>\n",
       "    </tr>\n",
       "  </thead>\n",
       "  <tbody>\n",
       "    <tr>\n",
       "      <th>0</th>\n",
       "      <td>0.28</td>\n",
       "      <td>0.36</td>\n",
       "      <td>1.0</td>\n",
       "      <td>0.02</td>\n",
       "      <td>100</td>\n",
       "      <td>74</td>\n",
       "      <td>3000</td>\n",
       "      <td>8000.0</td>\n",
       "      <td>1000.0</td>\n",
       "      <td>2000.0</td>\n",
       "      <td>...</td>\n",
       "      <td>Not fifth trial</td>\n",
       "      <td>Not fifth trial</td>\n",
       "      <td>Not fifth trial</td>\n",
       "      <td>Not fifth trial</td>\n",
       "      <td>15000.0</td>\n",
       "      <td>06</td>\n",
       "      <td>1</td>\n",
       "      <td>0.02</td>\n",
       "      <td>1.0</td>\n",
       "      <td>1.000000</td>\n",
       "    </tr>\n",
       "    <tr>\n",
       "      <th>1</th>\n",
       "      <td>0.28</td>\n",
       "      <td>0.40</td>\n",
       "      <td>1.0</td>\n",
       "      <td>1.00</td>\n",
       "      <td>11</td>\n",
       "      <td>16</td>\n",
       "      <td>3000</td>\n",
       "      <td>8000.0</td>\n",
       "      <td>1000.0</td>\n",
       "      <td>2000.0</td>\n",
       "      <td>...</td>\n",
       "      <td>Not fifth trial</td>\n",
       "      <td>Not fifth trial</td>\n",
       "      <td>Not fifth trial</td>\n",
       "      <td>Not fifth trial</td>\n",
       "      <td>33646.0</td>\n",
       "      <td>06</td>\n",
       "      <td>1</td>\n",
       "      <td>1.00</td>\n",
       "      <td>50.0</td>\n",
       "      <td>7.071068</td>\n",
       "    </tr>\n",
       "    <tr>\n",
       "      <th>2</th>\n",
       "      <td>0.48</td>\n",
       "      <td>0.40</td>\n",
       "      <td>1.0</td>\n",
       "      <td>1.00</td>\n",
       "      <td>63</td>\n",
       "      <td>13</td>\n",
       "      <td>3000</td>\n",
       "      <td>8000.0</td>\n",
       "      <td>1000.0</td>\n",
       "      <td>2000.0</td>\n",
       "      <td>...</td>\n",
       "      <td>Not fifth trial</td>\n",
       "      <td>Not fifth trial</td>\n",
       "      <td>Not fifth trial</td>\n",
       "      <td>Not fifth trial</td>\n",
       "      <td>40112.0</td>\n",
       "      <td>06</td>\n",
       "      <td>1</td>\n",
       "      <td>1.00</td>\n",
       "      <td>50.0</td>\n",
       "      <td>7.071068</td>\n",
       "    </tr>\n",
       "    <tr>\n",
       "      <th>3</th>\n",
       "      <td>0.96</td>\n",
       "      <td>0.48</td>\n",
       "      <td>1.0</td>\n",
       "      <td>1.00</td>\n",
       "      <td>31</td>\n",
       "      <td>31</td>\n",
       "      <td>3000</td>\n",
       "      <td>8000.0</td>\n",
       "      <td>1000.0</td>\n",
       "      <td>2000.0</td>\n",
       "      <td>...</td>\n",
       "      <td>Not fifth trial</td>\n",
       "      <td>Not fifth trial</td>\n",
       "      <td>Not fifth trial</td>\n",
       "      <td>Not fifth trial</td>\n",
       "      <td>46178.0</td>\n",
       "      <td>06</td>\n",
       "      <td>1</td>\n",
       "      <td>1.00</td>\n",
       "      <td>50.0</td>\n",
       "      <td>7.071068</td>\n",
       "    </tr>\n",
       "    <tr>\n",
       "      <th>4</th>\n",
       "      <td>0.96</td>\n",
       "      <td>0.78</td>\n",
       "      <td>1.0</td>\n",
       "      <td>1.00</td>\n",
       "      <td>11</td>\n",
       "      <td>2</td>\n",
       "      <td>3000</td>\n",
       "      <td>8000.0</td>\n",
       "      <td>1000.0</td>\n",
       "      <td>2000.0</td>\n",
       "      <td>...</td>\n",
       "      <td>56693</td>\n",
       "      <td>58711</td>\n",
       "      <td>60726</td>\n",
       "      <td>60738</td>\n",
       "      <td>52777.0</td>\n",
       "      <td>06</td>\n",
       "      <td>1</td>\n",
       "      <td>1.00</td>\n",
       "      <td>50.0</td>\n",
       "      <td>7.071068</td>\n",
       "    </tr>\n",
       "  </tbody>\n",
       "</table>\n",
       "<p>5 rows × 56 columns</p>\n",
       "</div>"
      ],
      "text/plain": [
       "   p_left  p_right   pr  pr_left  magnitude_left  magnitude_right  \\\n",
       "0    0.28     0.36  1.0     0.02             100               74   \n",
       "1    0.28     0.40  1.0     1.00              11               16   \n",
       "2    0.48     0.40  1.0     1.00              63               13   \n",
       "3    0.96     0.48  1.0     1.00              31               31   \n",
       "4    0.96     0.78  1.0     1.00              11                2   \n",
       "\n",
       "   UrnsPresented_duration  ChoiceTime_duration  ChoiceDisplayed_duration  \\\n",
       "0                    3000               8000.0                    1000.0   \n",
       "1                    3000               8000.0                    1000.0   \n",
       "2                    3000               8000.0                    1000.0   \n",
       "3                    3000               8000.0                    1000.0   \n",
       "4                    3000               8000.0                    1000.0   \n",
       "\n",
       "   OutcomeDisplayed_duration    ...     OutcomeHistoryDisplayed_start  \\\n",
       "0                     2000.0    ...                   Not fifth trial   \n",
       "1                     2000.0    ...                   Not fifth trial   \n",
       "2                     2000.0    ...                   Not fifth trial   \n",
       "3                     2000.0    ...                   Not fifth trial   \n",
       "4                     2000.0    ...                             56693   \n",
       "\n",
       "   ShockOutcomeDisplay_start      Shock_start   ExtraITI_start  \\\n",
       "0            Not fifth trial  Not fifth trial  Not fifth trial   \n",
       "1            Not fifth trial  Not fifth trial  Not fifth trial   \n",
       "2            Not fifth trial  Not fifth trial  Not fifth trial   \n",
       "3            Not fifth trial  Not fifth trial  Not fifth trial   \n",
       "4                      58711            60726            60738   \n",
       "\n",
       "   Trial_starttime  vp  section  pr_ambiguous numberRevealedTokens  sqrtInfo  \n",
       "0          15000.0  06        1          0.02                  1.0  1.000000  \n",
       "1          33646.0  06        1          1.00                 50.0  7.071068  \n",
       "2          40112.0  06        1          1.00                 50.0  7.071068  \n",
       "3          46178.0  06        1          1.00                 50.0  7.071068  \n",
       "4          52777.0  06        1          1.00                 50.0  7.071068  \n",
       "\n",
       "[5 rows x 56 columns]"
      ]
     },
     "execution_count": 17,
     "metadata": {},
     "output_type": "execute_result"
    }
   ],
   "source": [
    "df.head(5)"
   ]
  },
  {
   "cell_type": "code",
   "execution_count": null,
   "metadata": {
    "collapsed": true
   },
   "outputs": [],
   "source": []
  }
 ],
 "metadata": {
  "anaconda-cloud": {},
  "kernelspec": {
   "display_name": "Python [conda root]",
   "language": "python",
   "name": "conda-root-py"
  },
  "language_info": {
   "codemirror_mode": {
    "name": "ipython",
    "version": 2
   },
   "file_extension": ".py",
   "mimetype": "text/x-python",
   "name": "python",
   "nbconvert_exporter": "python",
   "pygments_lexer": "ipython2",
   "version": "2.7.12"
  }
 },
 "nbformat": 4,
 "nbformat_minor": 1
}
