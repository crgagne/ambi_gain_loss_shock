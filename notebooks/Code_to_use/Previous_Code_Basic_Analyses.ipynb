{
 "cells": [
  {
   "cell_type": "code",
   "execution_count": 2,
   "metadata": {
    "collapsed": true
   },
   "outputs": [],
   "source": [
    "import pandas as pd\n",
    "import numpy as np\n",
    "import seaborn as sns\n",
    "import matplotlib.pyplot as plt\n",
    "import matplotlib\n",
    "import glob\n",
    "import pickle\n",
    "import scipy\n",
    "import statsmodels.api as sm\n",
    "from datetime import datetime\n",
    "import os\n",
    "%matplotlib inline"
   ]
  },
  {
   "cell_type": "code",
   "execution_count": null,
   "metadata": {
    "collapsed": true
   },
   "outputs": [],
   "source": [
    "import sys\n",
    "sys.path.append(\"../functions/\")"
   ]
  },
  {
   "cell_type": "code",
   "execution_count": 3,
   "metadata": {
    "collapsed": true
   },
   "outputs": [],
   "source": [
    "# data processing functions # \n",
    "import Scripts_Data_Processing\n",
    "reload(Scripts_Data_Processing)\n",
    "from Scripts_Data_Processing import *"
   ]
  },
  {
   "cell_type": "markdown",
   "metadata": {},
   "source": [
    "## Basic Analyses"
   ]
  },
  {
   "cell_type": "markdown",
   "metadata": {},
   "source": [
    "### No Brainer Perf "
   ]
  },
  {
   "cell_type": "code",
   "execution_count": 105,
   "metadata": {},
   "outputs": [
    {
     "data": {
      "image/png": "[encoded data removed]",
      "text/plain": [
       "<matplotlib.figure.Figure at 0x10ddee990>"
      ]
     },
     "metadata": {},
     "output_type": "display_data"
    }
   ],
   "source": [
    "sns.set_style('white')\n",
    "sns.set_context('paper',font_scale=1.5)\n",
    "plt.figure()\n",
    "#plt.subplot(1,2,1)\n",
    "plt.xlabel('No Brainer Performance')\n",
    "plt.ylabel('% of people less than')\n",
    "x = data_participants.no_brainer_per_cor_gain.as_matrix()\n",
    "x = x[~np.isnan(x)]\n",
    "#plt.hist(x)\n",
    "plt.hist(x,cumulative=True,histtype='step',normed=True,linewidth=2,color='b')\n",
    "plt.title('percent correct no brainer trials gain')\n",
    "#plt.subplot(1,2,2)\n",
    "plt.xlabel('No Brainer Performance')\n",
    "plt.ylabel('% of people less than')\n",
    "x = data_participants.no_brainer_per_cor_loss.as_matrix()\n",
    "x = x[~np.isnan(x)]\n",
    "#plt.hist(x)\n",
    "plt.hist(x,cumulative=True,histtype='step',normed=True,linewidth=2,color='r')\n",
    "plt.title('Performance on Easy Trials')\n",
    "sns.despine()\n",
    "plt.tight_layout()\n",
    "plt.savefig('../figs/'+datasetfolder+'/no_brainer_per_combined.png',dpi=300)"
   ]
  },
  {
   "cell_type": "code",
   "execution_count": 106,
   "metadata": {},
   "outputs": [
    {
     "name": "stdout",
     "output_type": "stream",
     "text": [
      "number right out of 17: 20\n",
      " accuracy: 0.588235294118\n",
      "  p-value: 0.391528305132\n",
      "number right out of 17: 21\n",
      " accuracy: 0.617647058824\n",
      "  p-value: 0.229481013026\n",
      "number right out of 17: 22\n",
      " accuracy: 0.647058823529\n",
      "  p-value: 0.121449484956\n",
      "number right out of 17: 23\n",
      " accuracy: 0.676470588235\n",
      "  p-value: 0.0576126729138\n",
      "number right out of 17: 24\n",
      " accuracy: 0.705882352941\n",
      "  p-value: 0.0243065101095\n",
      "number right out of 17: 25\n",
      " accuracy: 0.735294117647\n",
      "  p-value: 0.00904118549079\n",
      "number right out of 17: 26\n",
      " accuracy: 0.764705882353\n",
      "  p-value: 0.00293505564332\n",
      "number right out of 17: 27\n",
      " accuracy: 0.794117647059\n",
      "  p-value: 0.000821395311505\n",
      "number right out of 17: 28\n",
      " accuracy: 0.823529411765\n",
      "  p-value: 0.000195125583559\n",
      "number right out of 17: 29\n",
      " accuracy: 0.852941176471\n",
      "  p-value: 3.85581515729e-05\n",
      "number right out of 17: 30\n",
      " accuracy: 0.882352941176\n",
      "  p-value: 6.16488978267e-06\n",
      "number right out of 17: 31\n",
      " accuracy: 0.911764705882\n",
      "  p-value: 7.66012817621e-07\n",
      "number right out of 17: 32\n",
      " accuracy: 0.941176470588\n",
      "  p-value: 6.93835318089e-08\n",
      "number right out of 17: 33\n",
      " accuracy: 0.970588235294\n",
      "  p-value: 4.07453626394e-09\n"
     ]
    }
   ],
   "source": [
    "# combined gain loss\n",
    "for success in np.arange(20,34,1):\n",
    "    print('number right out of 17: {0}').format(success)\n",
    "    print(' accuracy: {0}').format(float(success)/34.0)\n",
    "    print('  p-value: {0}').format(scipy.stats.binom_test(success,34,p=0.5))"
   ]
  },
  {
   "cell_type": "markdown",
   "metadata": {},
   "source": [
    "### Number of Trials "
   ]
  },
  {
   "cell_type": "code",
   "execution_count": 107,
   "metadata": {},
   "outputs": [
    {
     "data": {
      "text/html": [
       "<div>\n",
       "<table border=\"1\" class=\"dataframe\">\n",
       "  <thead>\n",
       "    <tr style=\"text-align: right;\">\n",
       "      <th></th>\n",
       "      <th>AID</th>\n",
       "      <th>ASIR</th>\n",
       "      <th>ASIR_had_to_drop_rows</th>\n",
       "      <th>ASIR_unique_responses</th>\n",
       "      <th>BDI</th>\n",
       "      <th>BDI_had_to_drop_rows</th>\n",
       "      <th>BDI_unique_responses</th>\n",
       "      <th>CESD</th>\n",
       "      <th>CESD_had_to_drop_rows</th>\n",
       "      <th>CESD_unique_responses</th>\n",
       "      <th>...</th>\n",
       "      <th>model_split_ambig_lossmag_diff_prob_diff_sqrt_prop_revealed_prob_total_inter_prob_diff_sqrt_prop_revealed_inter_prob_total_sqrt_prop_revealed_inter_prob_total_prob_diff_sqrt_prop_revealed_inter_prob_total_prob_diff_sqrt_prop_revealed_combined</th>\n",
       "      <th>flexible_prior0_bic_combined</th>\n",
       "      <th>flexible_prior0_aic_combined</th>\n",
       "      <th>flexible_prior0_pseudoR2_combined</th>\n",
       "      <th>flexible_prior0_pred_acc_combined</th>\n",
       "      <th>flexible_prior0_B0_combined</th>\n",
       "      <th>flexible_prior0_B1_combined</th>\n",
       "      <th>flexible_prior0_B2_combined</th>\n",
       "      <th>flexible_prior0_alpha_combined</th>\n",
       "      <th>flexible_prior0_beta_combined</th>\n",
       "    </tr>\n",
       "  </thead>\n",
       "  <tbody>\n",
       "  </tbody>\n",
       "</table>\n",
       "<p>0 rows × 664 columns</p>\n",
       "</div>"
      ],
      "text/plain": [
       "Empty DataFrame\n",
       "Columns: [AID, ASIR, ASIR_had_to_drop_rows, ASIR_unique_responses, BDI, BDI_had_to_drop_rows, BDI_unique_responses, CESD, CESD_had_to_drop_rows, CESD_unique_responses, EPQ, EPQ_had_to_drop_rows, EPQ_unique_responses, IUS, IUS1, IUS2, IUS_had_to_drop_rows, IUS_unique_responses, MASQ.AA, MASQ.AD, MASQ.AS, MASQ.DS, MASQ.MS, MASQ_had_to_drop_rows, MASQ_unique_responses, MID, PSWQ, PSWQ_had_to_drop_rows, PSWQ_unique_responses, STAI_State, STAI_State_had_to_drop_rows, STAI_State_unique_responses, STAI_Trait, STAI_Trait_anx, STAI_Trait_dep, STAI_Trait_had_to_drop_rows, STAI_Trait_unique_responses, date, CameBackTwice, ntrials_loss, ntrials_resp_loss, mean_RT_loss, num_no_resp_loss, totalptsloss, startingptsloss, ntrials_gain, ntrials_resp_gain, mean_RT_gain, num_no_resp_gain, totalptsgain, startingptsgain, ntrials_combined, ntrials_resp_combined, mean_RT_combined, num_no_resp_combined, totalptscombined, startingptscombined, RPP, tasks, progress_times, task_order, no_brainer_per_cor_gain, no_brainer_per_cor_loss, no_brainer_n_gain, no_brainer_n_loss, duration_STAI_State, starttime_STAI_State, endtime_STAI_State, duration_STAI_Trait, starttime_STAI_Trait, endtime_STAI_Trait, duration_BDI, starttime_BDI, endtime_BDI, duration_MASQ, starttime_MASQ, endtime_MASQ, duration_EPQ, starttime_EPQ, endtime_EPQ, duration_CESD, starttime_CESD, endtime_CESD, duration_PSWQ, starttime_PSWQ, endtime_PSWQ, duration_ASIR, starttime_ASIR, endtime_ASIR, duration_IUS, starttime_IUS, endtime_IUS, duration_ambi combined, starttime_ambi combined, endtime_ambi combined, model_singRL_mag_diff_rl_prob_diff_rl_sqrt_prop_revealed_ambig_present_inter_unambig_prob_cont_ambig_bic_combined, model_singRL_mag_diff_rl_prob_diff_rl_sqrt_prop_revealed_ambig_present_inter_unambig_prob_cont_ambig_aic_combined, model_singRL_mag_diff_rl_prob_diff_rl_sqrt_prop_revealed_ambig_present_inter_unambig_prob_cont_ambig_pseudoR2_combined, model_singRL_mag_diff_rl_prob_diff_rl_sqrt_prop_revealed_ambig_present_inter_unambig_prob_cont_ambig_pseudoR2_cv_mean_combined, model_singRL_mag_diff_rl_prob_diff_rl_sqrt_prop_revealed_ambig_present_inter_unambig_prob_cont_ambig_pred_acc_combined, ...]\n",
       "Index: []\n",
       "\n",
       "[0 rows x 664 columns]"
      ]
     },
     "execution_count": 107,
     "metadata": {},
     "output_type": "execute_result"
    }
   ],
   "source": [
    "data_participants.loc[data_participants.CameBackTwice==1]\n",
    "\n",
    "#data_participants.loc[data_participants.MID=='A1BSA7FVVJGZ15']\n"
   ]
  },
  {
   "cell_type": "code",
   "execution_count": 108,
   "metadata": {},
   "outputs": [
    {
     "data": {
      "text/plain": [
       "0.0"
      ]
     },
     "execution_count": 108,
     "metadata": {},
     "output_type": "execute_result"
    }
   ],
   "source": [
    "data_participants['CameBackTwice'].sum() # but this could be from gain/loss times as well. "
   ]
  },
  {
   "cell_type": "code",
   "execution_count": 109,
   "metadata": {},
   "outputs": [
    {
     "name": "stdout",
     "output_type": "stream",
     "text": [
      "7\n",
      "24\n"
     ]
    }
   ],
   "source": [
    "#plt.hist(data_participants.ntrials_combined)\n",
    "print(np.sum(data_participants.ntrials_combined<250))\n",
    "print(np.sum(data_participants.ntrials_combined<290))"
   ]
  },
  {
   "cell_type": "code",
   "execution_count": 110,
   "metadata": {},
   "outputs": [
    {
     "data": {
      "text/plain": [
       "array([  0.,  nan])"
      ]
     },
     "execution_count": 110,
     "metadata": {},
     "output_type": "execute_result"
    }
   ],
   "source": [
    "no_resp = data_participants.num_no_resp_combined\n",
    "no_resp.unique()\n",
    "#no_resp\n",
    "# plt.figure()\n",
    "# plt.hist(no_resp[~np.isnan(no_resp)],100)\n",
    "# plt.figure()\n",
    "# plt.hist(no_resp[~np.isnan(no_resp)],100,normed=1, histtype='step', cumulative=1,linewidth=5)\n",
    "# plt.xlim(0,50)\n",
    "# plt.ylim(0,1)\n",
    "# #plt.title('Percent of subjects of no responses per person')\n",
    "# plt.xlabel('number of no responses')\n",
    "# plt.ylabel('percent of subjects')"
   ]
  },
  {
   "cell_type": "markdown",
   "metadata": {},
   "source": [
    "### AA1"
   ]
  },
  {
   "cell_type": "code",
   "execution_count": 113,
   "metadata": {},
   "outputs": [
    {
     "data": {
      "image/png": "[encoded data removed]",
      "text/plain": [
       "<matplotlib.figure.Figure at 0x10d8fdb50>"
      ]
     },
     "metadata": {},
     "output_type": "display_data"
    }
   ],
   "source": [
    "task='combined'\n",
    "d=remove_bad_participants(data_participants,task)\n",
    "\n",
    "sns.set_context('talk')\n",
    "fig,axes = plt.subplots(1,2,sharey=True,figsize=(8,6))\n",
    "\n",
    "levels = np.sort(np.array([ 1.        ,  0.31622777,  0.24494897,  0.4472136 ,  0.14142136,\n",
    "        0.63245553,  0.89442719]))\n",
    "\n",
    "for level in np.round(levels,2):\n",
    "    \n",
    "    x = level\n",
    "    yg = d['aa1_prop_ambi_info_g_'+str(level)+'_combined'].as_matrix()\n",
    "    axes[0].scatter(x,np.nanmean(yg),c='b')\n",
    "    axes[0].errorbar(x,np.nanmean(yg),yerr=np.nanstd(yg)/np.sqrt(len(yg)),c='b')\n",
    "    axes[0].axhline(y=0.5,color='k')\n",
    "    axes[0].set_xlabel('proportion tokens revealed')\n",
    "    #axes[0].scatter(np.ones(len(yg))*x,yg,c='g',s=2)\n",
    "    #axes[0].scatter(np.ones(len(yg))*x,yg,c='g')\n",
    "    yl = d['aa1_prop_ambi_info_l_'+str(level)+'_combined'].as_matrix()\n",
    "    axes[1].scatter(x,np.nanmean(yl),c='r')\n",
    "    axes[1].errorbar(x,np.nanmean(yl),yerr=np.nanstd(yl)/np.sqrt(len(yl)),c='r')\n",
    "    axes[1].axhline(y=0.5,color='k')\n",
    "    #axes[1].scatter(np.ones(len(yl))*x,yl,c='r',s=2)\n",
    "    axes[1].set_xlabel('proportion tokens revealed')\n",
    "    axes[0].set_ylabel('proportion choices ambiguous')\n",
    "    axes[0].set_title('gain trials')\n",
    "    axes[1].set_title('loss trials')\n",
    "    plt.sca(axes[0])\n",
    "    info_amb_levels_options = [ 0.02,  0.06,  0.1 ,  0.2 ,  0.4 ,  0.8 ,  1.  ]\n",
    "    #info_amb_levels_options = info_amb_levels_options\n",
    "    labels = [str(np.round(l,2)) for l in info_amb_levels_options]\n",
    "    plt.xticks(levels,labels,rotation=45)\n",
    "    plt.sca(axes[1])\n",
    "    labels = [str(np.round(l,2)) for l in info_amb_levels_options]\n",
    "    plt.xticks(levels,labels,rotation=45)\n",
    "    axes[0].set_ylim([0.2,.8])\n",
    "    axes[1].set_ylim([0.2,.8])\n",
    "sns.despine()\n",
    "plt.tight_layout()\n",
    "plt.savefig('../figs/'+datasetfolder+'/aa1_errorbars.png',dpi=300,bbox_inches='tight')"
   ]
  },
  {
   "cell_type": "code",
   "execution_count": 114,
   "metadata": {},
   "outputs": [
    {
     "data": {
      "text/plain": [
       "154"
      ]
     },
     "execution_count": 114,
     "metadata": {},
     "output_type": "execute_result"
    }
   ],
   "source": [
    "len(d.MID.unique())"
   ]
  },
  {
   "cell_type": "code",
   "execution_count": 116,
   "metadata": {},
   "outputs": [
    {
     "name": "stdout",
     "output_type": "stream",
     "text": [
      "(-0.016068523661829221, 0.84371843512313416)\n",
      "(0.044520852403707636, 0.58475838605338726)\n"
     ]
    },
    {
     "data": {
      "image/png": "[encoded data removed]",
      "text/plain": [
       "<matplotlib.figure.Figure at 0x10dde1410>"
      ]
     },
     "metadata": {},
     "output_type": "display_data"
    }
   ],
   "source": [
    "x=d['STAI_Trait']\n",
    "y = d['aa1_aa1_g_combined']\n",
    "exc = np.isnan(x)|np.isnan(y)\n",
    "x = x[~exc]\n",
    "y = y[~exc]\n",
    "print(scipy.stats.pearsonr(x,y))\n",
    "plt.scatter(x,y,color='g')\n",
    "\n",
    "x=d['STAI_Trait']\n",
    "y = d['aa1_aa1_l_combined']\n",
    "exc = np.isnan(x)|np.isnan(y)\n",
    "x = x[~exc]\n",
    "y = y[~exc]\n",
    "print(scipy.stats.pearsonr(x,y))\n",
    "plt.scatter(x,y,color='r')\n",
    "\n",
    "\n",
    "plt.axhline(y=0)\n",
    "plt.xlabel('STAI')\n",
    "plt.ylabel('AA1')\n",
    "sns.despine()\n",
    "plt.savefig('../figs/'+datasetfolder+'/aa1_scatter.png',dpi=300)"
   ]
  },
  {
   "cell_type": "markdown",
   "metadata": {},
   "source": [
    "### Model Free Plotting of Choices Based on Pdiff and Proportion Chosen Pdiff"
   ]
  },
  {
   "cell_type": "code",
   "execution_count": 123,
   "metadata": {
    "collapsed": true
   },
   "outputs": [],
   "source": [
    "#t#rial_table['prob_o']"
   ]
  },
  {
   "cell_type": "code",
   "execution_count": 125,
   "metadata": {
    "scrolled": true
   },
   "outputs": [
    {
     "name": "stdout",
     "output_type": "stream",
     "text": [
      "removing bad subjects\n",
      "154\n",
      "../../tasklogs/combined/hit_batch_2017_4_17_ambicombined_A0017268R9SKD8U2Y3F_duplicates_dropped.csv\n",
      "../../tasklogs/combined/hit_batch_2017_4_17_ambicombined_A12HZGOZQD5YK7_duplicates_dropped.csv\n",
      "../../tasklogs/combined/hit_batch_2017_4_17_ambicombined_A12K9210P1R1DN_duplicates_dropped.csv\n",
      "../../tasklogs/combined/hit_batch_2017_4_17_ambicombined_A14ADQ7RUN6TDY_duplicates_dropped.csv\n",
      "../../tasklogs/combined/hit_batch_2017_4_17_ambicombined_A14TOBAPF6MMB5_duplicates_dropped.csv\n",
      "../../tasklogs/combined/hit_batch_2017_4_17_ambicombined_A18BORMKPR29F2_duplicates_dropped.csv\n",
      "../../tasklogs/combined/hit_batch_2017_4_17_ambicombined_A18RE2B07K9M88_duplicates_dropped.csv\n",
      "../../tasklogs/combined/hit_batch_2017_4_17_ambicombined_A1BSA7FVVJGZ15_duplicates_dropped.csv\n",
      "../../tasklogs/combined/hit_batch_2017_4_17_ambicombined_A1BWR5RBQDZQ16_duplicates_dropped.csv\n",
      "../../tasklogs/combined/hit_batch_2017_4_17_ambicombined_A1DRDRFGZKQ6Q9_duplicates_dropped.csv\n",
      "../../tasklogs/combined/hit_batch_2017_4_17_ambicombined_A1EAEZ7VIHKQ2_duplicates_dropped.csv\n",
      "../../tasklogs/combined/hit_batch_2017_4_17_ambicombined_A1H51PXOUAMD7W_duplicates_dropped.csv\n",
      "../../tasklogs/combined/hit_batch_2017_4_17_ambicombined_A1IFIK8J49WBER_duplicates_dropped.csv\n",
      "../../tasklogs/combined/hit_batch_2017_4_17_ambicombined_A1MB3A5MC58LK6_duplicates_dropped.csv\n",
      "../../tasklogs/combined/hit_batch_2017_4_17_ambicombined_A1N904Y15Q8RUW_duplicates_dropped.csv\n",
      "../../tasklogs/combined/hit_batch_2017_4_17_ambicombined_A1NVJB5O4H7ZCJ_duplicates_dropped.csv\n",
      "../../tasklogs/combined/hit_batch_2017_4_17_ambicombined_A1OLAVA225L72_duplicates_dropped.csv\n",
      "../../tasklogs/combined/hit_batch_2017_4_17_ambicombined_A1QG4WF9ZTZTK2_duplicates_dropped.csv\n",
      "../../tasklogs/combined/hit_batch_2017_4_17_ambicombined_A1QVLNM0795FRM_duplicates_dropped.csv\n",
      "../../tasklogs/combined/hit_batch_2017_4_17_ambicombined_A1RR62W2BKRRXZ_duplicates_dropped.csv\n",
      "../../tasklogs/combined/hit_batch_2017_4_17_ambicombined_A1UCB0D27PY623_duplicates_dropped.csv\n",
      "../../tasklogs/combined/hit_batch_2017_4_17_ambicombined_A1VCAMP3XM62R4_duplicates_dropped.csv\n",
      "../../tasklogs/combined/hit_batch_2017_4_17_ambicombined_A1XUZFDVKP95VC_duplicates_dropped.csv\n",
      "../../tasklogs/combined/hit_batch_2017_4_17_ambicombined_A1YC558J4E5KZ_duplicates_dropped.csv\n",
      "../../tasklogs/combined/hit_batch_2017_4_17_ambicombined_A22WWSTT8TU7G1_duplicates_dropped.csv\n",
      "../../tasklogs/combined/hit_batch_2017_4_17_ambicombined_A239EUWY6SNDEZ_duplicates_dropped.csv\n",
      "../../tasklogs/combined/hit_batch_2017_4_17_ambicombined_A25YG9M911WA3T_duplicates_dropped.csv\n",
      "../../tasklogs/combined/hit_batch_2017_4_17_ambicombined_A289D98Z4GAZ28_duplicates_dropped.csv\n",
      "../../tasklogs/combined/hit_batch_2017_4_17_ambicombined_A2AWBDW9V1E9KT_duplicates_dropped.csv\n",
      "../../tasklogs/combined/hit_batch_2017_4_17_ambicombined_A2CT57W84KXX25_duplicates_dropped.csv\n",
      "../../tasklogs/combined/hit_batch_2017_4_17_ambicombined_A2F75BYHKKYUD6_duplicates_dropped.csv\n",
      "../../tasklogs/combined/hit_batch_2017_4_17_ambicombined_A2HNL20X0Q9BP0_duplicates_dropped.csv\n",
      "../../tasklogs/combined/hit_batch_2017_4_17_ambicombined_A2MCRVU8I9VNHG_duplicates_dropped.csv\n",
      "../../tasklogs/combined/hit_batch_2017_4_17_ambicombined_A2VBSFSJXLZZ7A_duplicates_dropped.csv\n",
      "../../tasklogs/combined/hit_batch_2017_4_17_ambicombined_A2WAQ89S9G6FXQ_duplicates_dropped.csv\n",
      "../../tasklogs/combined/hit_batch_2017_4_17_ambicombined_A2WH3GIS2KF8LU_duplicates_dropped.csv\n",
      "../../tasklogs/combined/hit_batch_2017_4_17_ambicombined_A2WT6FV92737W6_duplicates_dropped.csv\n",
      "../../tasklogs/combined/hit_batch_2017_4_17_ambicombined_A2YE2I9DYV9OKW_duplicates_dropped.csv\n",
      "../../tasklogs/combined/hit_batch_2017_4_17_ambicombined_A2Z6NL0CTXY0ZB_duplicates_dropped.csv\n",
      "../../tasklogs/combined/hit_batch_2017_4_17_ambicombined_A33LYSCQQU1YDJ_duplicates_dropped.csv\n",
      "../../tasklogs/combined/hit_batch_2017_4_17_ambicombined_A341XKSRZ58FJK_duplicates_dropped.csv\n",
      "../../tasklogs/combined/hit_batch_2017_4_17_ambicombined_A3609GDWR2JCCA_duplicates_dropped.csv\n",
      "../../tasklogs/combined/hit_batch_2017_4_17_ambicombined_A394GXC30A1YP6_duplicates_dropped.csv\n",
      "../../tasklogs/combined/hit_batch_2017_4_17_ambicombined_A3B7TNVOISSZ2O_duplicates_dropped.csv\n",
      "../../tasklogs/combined/hit_batch_2017_4_17_ambicombined_A3F6SDO4GYBE4Y_duplicates_dropped.csv\n",
      "../../tasklogs/combined/hit_batch_2017_4_17_ambicombined_A3G55RJTW3BSGM_duplicates_dropped.csv\n",
      "../../tasklogs/combined/hit_batch_2017_4_17_ambicombined_A3G5FY6NGZWIY7_duplicates_dropped.csv\n",
      "../../tasklogs/combined/hit_batch_2017_4_17_ambicombined_A3GDFFHN9A3TH3_duplicates_dropped.csv\n",
      "../../tasklogs/combined/hit_batch_2017_4_17_ambicombined_A3GEL5PWFIK05S_duplicates_dropped.csv\n",
      "../../tasklogs/combined/hit_batch_2017_4_17_ambicombined_A3J0IAI8AJBGKX_duplicates_dropped.csv\n",
      "../../tasklogs/combined/hit_batch_2017_4_17_ambicombined_A3KMNX2P2QP9JU_duplicates_dropped.csv\n",
      "../../tasklogs/combined/hit_batch_2017_4_17_ambicombined_A3LA5P3N3KI8U7_duplicates_dropped.csv\n",
      "../../tasklogs/combined/hit_batch_2017_4_17_ambicombined_A3MELYYGRJ61SX_duplicates_dropped.csv\n",
      "../../tasklogs/combined/hit_batch_2017_4_17_ambicombined_A3N0QZ9ZKUCTCQ_duplicates_dropped.csv\n",
      "../../tasklogs/combined/hit_batch_2017_4_17_ambicombined_A3OW5EFQ5QFD19_duplicates_dropped.csv\n",
      "../../tasklogs/combined/hit_batch_2017_4_17_ambicombined_A3QYPO5VNKFOF6_duplicates_dropped.csv\n",
      "../../tasklogs/combined/hit_batch_2017_4_17_ambicombined_A70NCPQ8M7APG_duplicates_dropped.csv\n",
      "../../tasklogs/combined/hit_batch_2017_4_17_ambicombined_A899L8WYC76AD_duplicates_dropped.csv\n",
      "../../tasklogs/combined/hit_batch_2017_4_17_ambicombined_A8KX1HFH8NE2Q_duplicates_dropped.csv\n",
      "../../tasklogs/combined/hit_batch_2017_4_17_ambicombined_AADRVG2QVZH75_duplicates_dropped.csv\n",
      "../../tasklogs/combined/hit_batch_2017_4_17_ambicombined_AB66CTVQ90RCV_duplicates_dropped.csv\n",
      "../../tasklogs/combined/hit_batch_2017_4_17_ambicombined_ACGZDI611LU0I_duplicates_dropped.csv\n",
      "../../tasklogs/combined/hit_batch_2017_4_17_ambicombined_AD7CUW86FWEKT_duplicates_dropped.csv\n",
      "../../tasklogs/combined/hit_batch_2017_4_17_ambicombined_AEF74ZYJTTEIA_duplicates_dropped.csv\n",
      "../../tasklogs/combined/hit_batch_2017_4_17_ambicombined_AGVUHOBSCP6YC_duplicates_dropped.csv\n",
      "../../tasklogs/combined/hit_batch_2017_4_17_ambicombined_AIICJA0A5J8NF_duplicates_dropped.csv\n"
     ]
    },
    {
     "name": "stderr",
     "output_type": "stream",
     "text": [
      "/Users/chris/anaconda/lib/python2.7/site-packages/ipykernel/__main__.py:53: RuntimeWarning: Mean of empty slice\n",
      "/Users/chris/anaconda/lib/python2.7/site-packages/ipykernel/__main__.py:60: RuntimeWarning: Mean of empty slice\n"
     ]
    },
    {
     "ename": "KeyboardInterrupt",
     "evalue": "",
     "output_type": "error",
     "traceback": [
      "\u001b[0;31m---------------------------------------------------------------------------\u001b[0m",
      "\u001b[0;31mKeyboardInterrupt\u001b[0m                         Traceback (most recent call last)",
      "\u001b[0;32m<ipython-input-125-fb5dbbd06012>\u001b[0m in \u001b[0;36m<module>\u001b[0;34m()\u001b[0m\n\u001b[1;32m     32\u001b[0m         \u001b[0mfilee\u001b[0m\u001b[0;34m=\u001b[0m\u001b[0mfilee\u001b[0m\u001b[0;34m[\u001b[0m\u001b[0;36m0\u001b[0m\u001b[0;34m]\u001b[0m\u001b[0;34m\u001b[0m\u001b[0m\n\u001b[1;32m     33\u001b[0m     \u001b[0;32mprint\u001b[0m\u001b[0;34m(\u001b[0m\u001b[0mfilee\u001b[0m\u001b[0;34m)\u001b[0m\u001b[0;34m\u001b[0m\u001b[0m\n\u001b[0;32m---> 34\u001b[0;31m     \u001b[0mtrial_table\u001b[0m \u001b[0;34m=\u001b[0m \u001b[0mget_trial_table\u001b[0m\u001b[0;34m(\u001b[0m\u001b[0mfilee\u001b[0m\u001b[0;34m,\u001b[0m\u001b[0mcombined\u001b[0m\u001b[0;34m=\u001b[0m\u001b[0mTrue\u001b[0m\u001b[0;34m)\u001b[0m\u001b[0;34m\u001b[0m\u001b[0m\n\u001b[0m\u001b[1;32m     35\u001b[0m \u001b[0;34m\u001b[0m\u001b[0m\n\u001b[1;32m     36\u001b[0m     \u001b[0;31m# change so it's chosen higher pdiff\u001b[0m\u001b[0;34m\u001b[0m\u001b[0;34m\u001b[0m\u001b[0m\n",
      "\u001b[0;32m/Users/chris/Desktop/online_ambi/analysis/scripts/Scripts_Data_Processing.pyc\u001b[0m in \u001b[0;36mget_trial_table\u001b[0;34m(filename, combined)\u001b[0m\n\u001b[1;32m    170\u001b[0m     \u001b[0;32mfor\u001b[0m \u001b[0mi\u001b[0m \u001b[0;32min\u001b[0m \u001b[0mrange\u001b[0m\u001b[0;34m(\u001b[0m\u001b[0mnum_trials\u001b[0m\u001b[0;34m)\u001b[0m\u001b[0;34m:\u001b[0m\u001b[0;34m\u001b[0m\u001b[0m\n\u001b[1;32m    171\u001b[0m         \u001b[0;32mfor\u001b[0m \u001b[0mcol\u001b[0m \u001b[0;32min\u001b[0m \u001b[0;34m[\u001b[0m\u001b[0;34m'mag_left'\u001b[0m\u001b[0;34m,\u001b[0m\u001b[0;34m'mag_right'\u001b[0m\u001b[0;34m,\u001b[0m\u001b[0;34m'mag_ambig'\u001b[0m\u001b[0;34m,\u001b[0m\u001b[0;34m'mag_unambig'\u001b[0m\u001b[0;34m]\u001b[0m\u001b[0;34m:\u001b[0m\u001b[0;34m\u001b[0m\u001b[0m\n\u001b[0;32m--> 172\u001b[0;31m                 \u001b[0mml\u001b[0m \u001b[0;34m=\u001b[0m \u001b[0mtrial_table\u001b[0m\u001b[0;34m.\u001b[0m\u001b[0mloc\u001b[0m\u001b[0;34m[\u001b[0m\u001b[0mtrial_table\u001b[0m\u001b[0;34m[\u001b[0m\u001b[0;34m'trial_number'\u001b[0m\u001b[0;34m]\u001b[0m\u001b[0;34m==\u001b[0m\u001b[0mi\u001b[0m\u001b[0;34m,\u001b[0m\u001b[0mcol\u001b[0m\u001b[0;34m]\u001b[0m\u001b[0;34m.\u001b[0m\u001b[0mastype\u001b[0m\u001b[0;34m(\u001b[0m\u001b[0;34m'str'\u001b[0m\u001b[0;34m)\u001b[0m\u001b[0;34m\u001b[0m\u001b[0m\n\u001b[0m\u001b[1;32m    173\u001b[0m                 \u001b[0mml\u001b[0m \u001b[0;34m=\u001b[0m \u001b[0mml\u001b[0m\u001b[0;34m.\u001b[0m\u001b[0miloc\u001b[0m\u001b[0;34m[\u001b[0m\u001b[0;36m0\u001b[0m\u001b[0;34m]\u001b[0m\u001b[0;34m\u001b[0m\u001b[0m\n\u001b[1;32m    174\u001b[0m                 \u001b[0mml\u001b[0m \u001b[0;34m=\u001b[0m \u001b[0mml\u001b[0m\u001b[0;34m.\u001b[0m\u001b[0mreplace\u001b[0m\u001b[0;34m(\u001b[0m\u001b[0;34m\"'\"\u001b[0m\u001b[0;34m,\u001b[0m\u001b[0;34m''\u001b[0m\u001b[0;34m)\u001b[0m\u001b[0;34m\u001b[0m\u001b[0m\n",
      "\u001b[0;32m/Users/chris/anaconda/lib/python2.7/site-packages/pandas/core/generic.pyc\u001b[0m in \u001b[0;36mastype\u001b[0;34m(self, dtype, copy, raise_on_error, **kwargs)\u001b[0m\n\u001b[1;32m   2630\u001b[0m \u001b[0;34m\u001b[0m\u001b[0m\n\u001b[1;32m   2631\u001b[0m         mgr = self._data.astype(\n\u001b[0;32m-> 2632\u001b[0;31m             dtype=dtype, copy=copy, raise_on_error=raise_on_error, **kwargs)\n\u001b[0m\u001b[1;32m   2633\u001b[0m         \u001b[0;32mreturn\u001b[0m \u001b[0mself\u001b[0m\u001b[0;34m.\u001b[0m\u001b[0m_constructor\u001b[0m\u001b[0;34m(\u001b[0m\u001b[0mmgr\u001b[0m\u001b[0;34m)\u001b[0m\u001b[0;34m.\u001b[0m\u001b[0m__finalize__\u001b[0m\u001b[0;34m(\u001b[0m\u001b[0mself\u001b[0m\u001b[0;34m)\u001b[0m\u001b[0;34m\u001b[0m\u001b[0m\n\u001b[1;32m   2634\u001b[0m \u001b[0;34m\u001b[0m\u001b[0m\n",
      "\u001b[0;32m/Users/chris/anaconda/lib/python2.7/site-packages/pandas/core/internals.pyc\u001b[0m in \u001b[0;36mastype\u001b[0;34m(self, dtype, **kwargs)\u001b[0m\n\u001b[1;32m   2862\u001b[0m \u001b[0;34m\u001b[0m\u001b[0m\n\u001b[1;32m   2863\u001b[0m     \u001b[0;32mdef\u001b[0m \u001b[0mastype\u001b[0m\u001b[0;34m(\u001b[0m\u001b[0mself\u001b[0m\u001b[0;34m,\u001b[0m \u001b[0mdtype\u001b[0m\u001b[0;34m,\u001b[0m \u001b[0;34m**\u001b[0m\u001b[0mkwargs\u001b[0m\u001b[0;34m)\u001b[0m\u001b[0;34m:\u001b[0m\u001b[0;34m\u001b[0m\u001b[0m\n\u001b[0;32m-> 2864\u001b[0;31m         \u001b[0;32mreturn\u001b[0m \u001b[0mself\u001b[0m\u001b[0;34m.\u001b[0m\u001b[0mapply\u001b[0m\u001b[0;34m(\u001b[0m\u001b[0;34m'astype'\u001b[0m\u001b[0;34m,\u001b[0m \u001b[0mdtype\u001b[0m\u001b[0;34m=\u001b[0m\u001b[0mdtype\u001b[0m\u001b[0;34m,\u001b[0m \u001b[0;34m**\u001b[0m\u001b[0mkwargs\u001b[0m\u001b[0;34m)\u001b[0m\u001b[0;34m\u001b[0m\u001b[0m\n\u001b[0m\u001b[1;32m   2865\u001b[0m \u001b[0;34m\u001b[0m\u001b[0m\n\u001b[1;32m   2866\u001b[0m     \u001b[0;32mdef\u001b[0m \u001b[0mconvert\u001b[0m\u001b[0;34m(\u001b[0m\u001b[0mself\u001b[0m\u001b[0;34m,\u001b[0m \u001b[0;34m**\u001b[0m\u001b[0mkwargs\u001b[0m\u001b[0;34m)\u001b[0m\u001b[0;34m:\u001b[0m\u001b[0;34m\u001b[0m\u001b[0m\n",
      "\u001b[0;32m/Users/chris/anaconda/lib/python2.7/site-packages/pandas/core/internals.pyc\u001b[0m in \u001b[0;36mapply\u001b[0;34m(self, f, axes, filter, do_integrity_check, consolidate, **kwargs)\u001b[0m\n\u001b[1;32m   2821\u001b[0m \u001b[0;34m\u001b[0m\u001b[0m\n\u001b[1;32m   2822\u001b[0m             \u001b[0mkwargs\u001b[0m\u001b[0;34m[\u001b[0m\u001b[0;34m'mgr'\u001b[0m\u001b[0;34m]\u001b[0m \u001b[0;34m=\u001b[0m \u001b[0mself\u001b[0m\u001b[0;34m\u001b[0m\u001b[0m\n\u001b[0;32m-> 2823\u001b[0;31m             \u001b[0mapplied\u001b[0m \u001b[0;34m=\u001b[0m \u001b[0mgetattr\u001b[0m\u001b[0;34m(\u001b[0m\u001b[0mb\u001b[0m\u001b[0;34m,\u001b[0m \u001b[0mf\u001b[0m\u001b[0;34m)\u001b[0m\u001b[0;34m(\u001b[0m\u001b[0;34m**\u001b[0m\u001b[0mkwargs\u001b[0m\u001b[0;34m)\u001b[0m\u001b[0;34m\u001b[0m\u001b[0m\n\u001b[0m\u001b[1;32m   2824\u001b[0m             \u001b[0mresult_blocks\u001b[0m \u001b[0;34m=\u001b[0m \u001b[0m_extend_blocks\u001b[0m\u001b[0;34m(\u001b[0m\u001b[0mapplied\u001b[0m\u001b[0;34m,\u001b[0m \u001b[0mresult_blocks\u001b[0m\u001b[0;34m)\u001b[0m\u001b[0;34m\u001b[0m\u001b[0m\n\u001b[1;32m   2825\u001b[0m \u001b[0;34m\u001b[0m\u001b[0m\n",
      "\u001b[0;32m/Users/chris/anaconda/lib/python2.7/site-packages/pandas/core/internals.pyc\u001b[0m in \u001b[0;36mastype\u001b[0;34m(self, dtype, copy, raise_on_error, values, **kwargs)\u001b[0m\n\u001b[1;32m    428\u001b[0m     \u001b[0;32mdef\u001b[0m \u001b[0mastype\u001b[0m\u001b[0;34m(\u001b[0m\u001b[0mself\u001b[0m\u001b[0;34m,\u001b[0m \u001b[0mdtype\u001b[0m\u001b[0;34m,\u001b[0m \u001b[0mcopy\u001b[0m\u001b[0;34m=\u001b[0m\u001b[0mFalse\u001b[0m\u001b[0;34m,\u001b[0m \u001b[0mraise_on_error\u001b[0m\u001b[0;34m=\u001b[0m\u001b[0mTrue\u001b[0m\u001b[0;34m,\u001b[0m \u001b[0mvalues\u001b[0m\u001b[0;34m=\u001b[0m\u001b[0mNone\u001b[0m\u001b[0;34m,\u001b[0m \u001b[0;34m**\u001b[0m\u001b[0mkwargs\u001b[0m\u001b[0;34m)\u001b[0m\u001b[0;34m:\u001b[0m\u001b[0;34m\u001b[0m\u001b[0m\n\u001b[1;32m    429\u001b[0m         return self._astype(dtype, copy=copy, raise_on_error=raise_on_error,\n\u001b[0;32m--> 430\u001b[0;31m                             values=values, **kwargs)\n\u001b[0m\u001b[1;32m    431\u001b[0m \u001b[0;34m\u001b[0m\u001b[0m\n\u001b[1;32m    432\u001b[0m     def _astype(self, dtype, copy=False, raise_on_error=True, values=None,\n",
      "\u001b[0;32m/Users/chris/anaconda/lib/python2.7/site-packages/pandas/core/internals.pyc\u001b[0m in \u001b[0;36m_astype\u001b[0;34m(self, dtype, copy, raise_on_error, values, klass, mgr, **kwargs)\u001b[0m\n\u001b[1;32m    476\u001b[0m                               \u001b[0mplacement\u001b[0m\u001b[0;34m=\u001b[0m\u001b[0mself\u001b[0m\u001b[0;34m.\u001b[0m\u001b[0mmgr_locs\u001b[0m\u001b[0;34m,\u001b[0m\u001b[0;34m\u001b[0m\u001b[0m\n\u001b[1;32m    477\u001b[0m                               \u001b[0mdtype\u001b[0m\u001b[0;34m=\u001b[0m\u001b[0mdtype\u001b[0m\u001b[0;34m,\u001b[0m\u001b[0;34m\u001b[0m\u001b[0m\n\u001b[0;32m--> 478\u001b[0;31m                               klass=klass)\n\u001b[0m\u001b[1;32m    479\u001b[0m         \u001b[0;32mexcept\u001b[0m\u001b[0;34m:\u001b[0m\u001b[0;34m\u001b[0m\u001b[0m\n\u001b[1;32m    480\u001b[0m             \u001b[0;32mif\u001b[0m \u001b[0mraise_on_error\u001b[0m \u001b[0;32mis\u001b[0m \u001b[0mTrue\u001b[0m\u001b[0;34m:\u001b[0m\u001b[0;34m\u001b[0m\u001b[0m\n",
      "\u001b[0;32m/Users/chris/anaconda/lib/python2.7/site-packages/pandas/core/internals.pyc\u001b[0m in \u001b[0;36mmake_block\u001b[0;34m(values, placement, klass, ndim, dtype, fastpath)\u001b[0m\n\u001b[1;32m   2422\u001b[0m                dtype=None, fastpath=False):\n\u001b[1;32m   2423\u001b[0m     \u001b[0;32mif\u001b[0m \u001b[0mklass\u001b[0m \u001b[0;32mis\u001b[0m \u001b[0mNone\u001b[0m\u001b[0;34m:\u001b[0m\u001b[0;34m\u001b[0m\u001b[0m\n\u001b[0;32m-> 2424\u001b[0;31m         \u001b[0mdtype\u001b[0m \u001b[0;34m=\u001b[0m \u001b[0mdtype\u001b[0m \u001b[0;32mor\u001b[0m \u001b[0mvalues\u001b[0m\u001b[0;34m.\u001b[0m\u001b[0mdtype\u001b[0m\u001b[0;34m\u001b[0m\u001b[0m\n\u001b[0m\u001b[1;32m   2425\u001b[0m         \u001b[0mvtype\u001b[0m \u001b[0;34m=\u001b[0m \u001b[0mdtype\u001b[0m\u001b[0;34m.\u001b[0m\u001b[0mtype\u001b[0m\u001b[0;34m\u001b[0m\u001b[0m\n\u001b[1;32m   2426\u001b[0m \u001b[0;34m\u001b[0m\u001b[0m\n",
      "\u001b[0;31mKeyboardInterrupt\u001b[0m: "
     ]
    }
   ],
   "source": [
    "import pandas as pd\n",
    "# get subject id's\n",
    "data_participants = pd.read_csv('../results/sub_table.csv')\n",
    "data_participants = data_participants.loc[\n",
    "    ~np.isnan(data_participants.num_no_resp_combined)&\n",
    "    ((data_participants.date=='2017-04-17')|(data_participants.date=='2017-03-06'))|(data_participants.date=='2017-06-14')]\n",
    "datasetfolder='datasetb'\n",
    "\n",
    "print('removing bad subjects')\n",
    "data_participants=remove_bad_participants(data_participants,task)\n",
    "print(len(data_participants.MID.unique()))\n",
    "\n",
    "\n",
    "MIDS = data_participants.MID.unique()\n",
    "#MIDS = MIDS[0:10]\n",
    "\n",
    "pdiff_levels = [[0,.1],[.1,.2],[.2,.3],[.3,.4],[0.4,0.5],[0.5,1.0]]\n",
    "info_amb_levels_options = [[0,0.99],[1.0,1.0]]\n",
    "info_amb_levels_options = [[0,0.2],[.2,.4],[.4,.8],[0.8,.99],[1.0,1.0]]\n",
    "\n",
    "\n",
    "prob_chosen_l_pdiff = np.empty((len(pdiff_levels),len(info_amb_levels_options),len(MIDS)))\n",
    "prob_chosen_g_pdiff = np.empty((len(pdiff_levels),len(info_amb_levels_options),len(MIDS)))\n",
    "\n",
    "\n",
    "\n",
    "for MIDi,MID in enumerate(MIDS): \n",
    "    filee = glob.glob('../../tasklogs/combined/*'+MID+'*')\n",
    "    if len(filee)>1:\n",
    "        filee=filee[1]\n",
    "    else:\n",
    "        filee=filee[0]\n",
    "    print(filee)\n",
    "    trial_table = get_trial_table(filee,combined=True)\n",
    "        \n",
    "    # change so it's chosen higher pdiff\n",
    "    pdiff = trial_table['prob_o_r_bayes']-trial_table['prob_o_l_bayes']\n",
    "    pdiff = pdiff.as_matrix()\n",
    "    right_higher_outcome= pdiff>0 # ambiguous trial higher prob of outcome\n",
    "    right_lower_outcome= pdiff<0 # ambiguous trial higher prob of outcome\n",
    "    chose_right = trial_table['resp_r_1'].as_matrix()\n",
    "    chose_higher_prob = chose_right*right_higher_outcome + (1.0-chose_right)*right_lower_outcome\n",
    "    trial_table['resp_moreprobable_outcome_1']=chose_higher_prob\n",
    "    trial_table['pdiff_abs']=np.abs(pdiff)\n",
    "    \n",
    "    for pdiffi,pbl in enumerate(pdiff_levels):\n",
    "        for iasi,ias in enumerate(info_amb_levels_options):\n",
    "            \n",
    "            #Gain \n",
    "            tt=trial_table.loc[(trial_table['mag_right']>0),].copy()\n",
    "            pdiff = tt['pdiff_abs']\n",
    "            info = tt['info_amb']\n",
    "            prob_chosen_g_pdiff[pdiffi,iasi,MIDi] = np.nanmean(tt.loc[(pdiff>=pbl[0])&(pdiff<=pbl[1])&(info>=ias[0])&(info<=ias[1]),'resp_moreprobable_outcome_1'])\n",
    "            \n",
    "            \n",
    "            ### Loss Ambig\n",
    "            tt=trial_table.loc[(trial_table['mag_right']<0),].copy()\n",
    "            pdiff = tt['pdiff_abs']\n",
    "            info = tt['info_amb']\n",
    "            prob_chosen_l_pdiff[pdiffi,iasi,MIDi] = np.nanmean(tt.loc[(pdiff>=pbl[0])&(pdiff<=pbl[1])&(info>=ias[0])&(info<=ias[1]),'resp_moreprobable_outcome_1'])\n",
    "            \n",
    "            \n",
    "\n",
    "        \n",
    "\n",
    "\n",
    "        "
   ]
  },
  {
   "cell_type": "code",
   "execution_count": null,
   "metadata": {
    "collapsed": true
   },
   "outputs": [],
   "source": [
    "\n",
    "# just 2 levels. \n",
    "np.save('../results/prob_xhosen_g_pdiff_morelevels.npy',prob_chosen_g_pdiff)\n",
    "np.save('../results/prob_xhosen_l_pdiff_morelevels.npy',prob_chosen_l_pdiff)\n",
    "\n",
    "# just 2 levels. \n",
    "#np.save('../results/prob_xhosen_g_pdiff.npy',prob_chosen_g_pdiff)\n",
    "#np.save('../results/prob_xhosen_l_pdiff.npy',prob_chosen_l_pdiff)"
   ]
  },
  {
   "cell_type": "code",
   "execution_count": 119,
   "metadata": {
    "collapsed": true
   },
   "outputs": [],
   "source": [
    "# more levels of informaiton \n",
    "prob_chosen_g_pdiff = np.load('../results/prob_xhosen_g_pdiff_morelevels.npy')\n",
    "prob_chosen_l_pdiff = np.load('../results/prob_xhosen_l_pdiff_morelevels.npy')\n",
    "\n",
    "# just 2 levels \n",
    "#prob_chosen_g_pdiff = np.load('../results/prob_xhosen_g_pdiff.npy')\n",
    "#prob_chosen_l_pdiff = np.load('../results/prob_xhosen_l_pdiff.npy')"
   ]
  },
  {
   "cell_type": "code",
   "execution_count": 120,
   "metadata": {},
   "outputs": [
    {
     "name": "stderr",
     "output_type": "stream",
     "text": [
      "/Users/chris/anaconda/lib/python2.7/site-packages/ipykernel/__main__.py:9: RuntimeWarning: Mean of empty slice\n",
      "/Users/chris/anaconda/lib/python2.7/site-packages/numpy/lib/nanfunctions.py:1423: RuntimeWarning: Degrees of freedom <= 0 for slice.\n",
      "  keepdims=keepdims)\n",
      "/Users/chris/anaconda/lib/python2.7/site-packages/ipykernel/__main__.py:13: RuntimeWarning: Mean of empty slice\n"
     ]
    },
    {
     "ename": "IndexError",
     "evalue": "index 5 is out of bounds for axis 1 with size 5",
     "output_type": "error",
     "traceback": [
      "\u001b[0;31m---------------------------------------------------------------------------\u001b[0m",
      "\u001b[0;31mIndexError\u001b[0m                                Traceback (most recent call last)",
      "\u001b[0;32m<ipython-input-120-57eca4fb573b>\u001b[0m in \u001b[0;36m<module>\u001b[0;34m()\u001b[0m\n\u001b[1;32m      7\u001b[0m \u001b[0;32mfor\u001b[0m \u001b[0miasi\u001b[0m\u001b[0;34m,\u001b[0m\u001b[0mias\u001b[0m \u001b[0;32min\u001b[0m \u001b[0menumerate\u001b[0m\u001b[0;34m(\u001b[0m\u001b[0minfo_amb_levels_options\u001b[0m\u001b[0;34m)\u001b[0m\u001b[0;34m:\u001b[0m\u001b[0;34m\u001b[0m\u001b[0m\n\u001b[1;32m      8\u001b[0m     \u001b[0mias\u001b[0m\u001b[0;34m=\u001b[0m\u001b[0mstr\u001b[0m\u001b[0;34m(\u001b[0m\u001b[0mias\u001b[0m\u001b[0;34m)\u001b[0m\u001b[0;34m.\u001b[0m\u001b[0mreplace\u001b[0m\u001b[0;34m(\u001b[0m\u001b[0;34m'['\u001b[0m\u001b[0;34m,\u001b[0m\u001b[0;34m''\u001b[0m\u001b[0;34m)\u001b[0m\u001b[0;34m.\u001b[0m\u001b[0mreplace\u001b[0m\u001b[0;34m(\u001b[0m\u001b[0;34m']'\u001b[0m\u001b[0;34m,\u001b[0m\u001b[0;34m''\u001b[0m\u001b[0;34m)\u001b[0m\u001b[0;34m.\u001b[0m\u001b[0mreplace\u001b[0m\u001b[0;34m(\u001b[0m\u001b[0;34m', '\u001b[0m\u001b[0;34m,\u001b[0m\u001b[0;34m'-'\u001b[0m\u001b[0;34m)\u001b[0m\u001b[0;34m\u001b[0m\u001b[0m\n\u001b[0;32m----> 9\u001b[0;31m     \u001b[0mmean\u001b[0m \u001b[0;34m=\u001b[0m \u001b[0mnp\u001b[0m\u001b[0;34m.\u001b[0m\u001b[0mnanmean\u001b[0m\u001b[0;34m(\u001b[0m\u001b[0mprob_chosen_g_pdiff\u001b[0m\u001b[0;34m[\u001b[0m\u001b[0;34m:\u001b[0m\u001b[0;34m,\u001b[0m\u001b[0miasi\u001b[0m\u001b[0;34m,\u001b[0m\u001b[0;34m:\u001b[0m\u001b[0;34m]\u001b[0m\u001b[0;34m,\u001b[0m\u001b[0maxis\u001b[0m\u001b[0;34m=\u001b[0m\u001b[0;36m1\u001b[0m\u001b[0;34m)\u001b[0m\u001b[0;34m\u001b[0m\u001b[0m\n\u001b[0m\u001b[1;32m     10\u001b[0m     \u001b[0mste\u001b[0m \u001b[0;34m=\u001b[0m  \u001b[0mnp\u001b[0m\u001b[0;34m.\u001b[0m\u001b[0mnanstd\u001b[0m\u001b[0;34m(\u001b[0m\u001b[0mprob_chosen_g_pdiff\u001b[0m\u001b[0;34m[\u001b[0m\u001b[0;34m:\u001b[0m\u001b[0;34m,\u001b[0m\u001b[0miasi\u001b[0m\u001b[0;34m,\u001b[0m\u001b[0;34m:\u001b[0m\u001b[0;34m]\u001b[0m\u001b[0;34m,\u001b[0m\u001b[0maxis\u001b[0m\u001b[0;34m=\u001b[0m\u001b[0;36m1\u001b[0m\u001b[0;34m)\u001b[0m\u001b[0;34m/\u001b[0m\u001b[0mnp\u001b[0m\u001b[0;34m.\u001b[0m\u001b[0msqrt\u001b[0m\u001b[0;34m(\u001b[0m\u001b[0mn\u001b[0m\u001b[0;34m)\u001b[0m\u001b[0;34m\u001b[0m\u001b[0m\n\u001b[1;32m     11\u001b[0m     \u001b[0maxes\u001b[0m\u001b[0;34m[\u001b[0m\u001b[0;36m0\u001b[0m\u001b[0;34m]\u001b[0m\u001b[0;34m.\u001b[0m\u001b[0merrorbar\u001b[0m\u001b[0;34m(\u001b[0m\u001b[0mnp\u001b[0m\u001b[0;34m.\u001b[0m\u001b[0marange\u001b[0m\u001b[0;34m(\u001b[0m\u001b[0mn_pdiff\u001b[0m\u001b[0;34m)\u001b[0m\u001b[0;34m,\u001b[0m\u001b[0my\u001b[0m\u001b[0;34m=\u001b[0m\u001b[0mmean\u001b[0m\u001b[0;34m,\u001b[0m\u001b[0myerr\u001b[0m\u001b[0;34m=\u001b[0m\u001b[0mste\u001b[0m\u001b[0;34m,\u001b[0m\u001b[0mlabel\u001b[0m\u001b[0;34m=\u001b[0m\u001b[0mias\u001b[0m\u001b[0;34m)\u001b[0m\u001b[0;34m\u001b[0m\u001b[0m\n",
      "\u001b[0;31mIndexError\u001b[0m: index 5 is out of bounds for axis 1 with size 5"
     ]
    },
    {
     "data": {
      "image/png": "[encoded data removed]",
      "text/plain": [
       "<matplotlib.figure.Figure at 0x10e147e50>"
      ]
     },
     "metadata": {},
     "output_type": "display_data"
    }
   ],
   "source": [
    "sns.set_palette(sns.color_palette(\"RdBu\",desat=1.0,n_colors=6))\n",
    "fig,axes=plt.subplots(1,2,figsize=(8,4),sharey=True)\n",
    "sns.despine()\n",
    "n = prob_chosen_g_pdiff.shape[2]\n",
    "n_pdiff = prob_chosen_g_pdiff.shape[0]\n",
    "n_info = prob_chosen_g_pdiff.shape[1]\n",
    "for iasi,ias in enumerate(info_amb_levels_options):\n",
    "    ias=str(ias).replace('[','').replace(']','').replace(', ','-')\n",
    "    mean = np.nanmean(prob_chosen_g_pdiff[:,iasi,:],axis=1)\n",
    "    ste =  np.nanstd(prob_chosen_g_pdiff[:,iasi,:],axis=1)/np.sqrt(n)\n",
    "    axes[0].errorbar(np.arange(n_pdiff),y=mean,yerr=ste,label=ias)\n",
    "    \n",
    "    mean = np.nanmean(prob_chosen_l_pdiff[:,iasi,:],axis=1)\n",
    "    ste =  np.nanstd(prob_chosen_l_pdiff[:,iasi,:],axis=1)/np.sqrt(n)\n",
    "    axes[1].errorbar(np.arange(n_pdiff),y=mean,yerr=ste,label=ias)\n",
    "\n",
    "for ax,title in zip(axes,['gain','loss']):\n",
    "    ax.set_ylabel('prop chosen \\n more probable outcome')\n",
    "    ax.axhline(y=0.5,linestyle='--')\n",
    "    ax.axhline(y=0.5,linestyle='--')\n",
    "    ax.axhline(y=0.25,linestyle='--')\n",
    "    ax.axhline(y=0.25,linestyle='--')\n",
    "    ax.axhline(y=0.75,linestyle='--')\n",
    "    ax.axhline(y=0.75,linestyle='--')\n",
    "    labels = [str(pd).replace('[','').replace(']','').replace(', ','-') for pd in pdiff_levels]\n",
    "    plt.sca(ax)\n",
    "    ax.set_title(title)\n",
    "    plt.xticks(np.arange(len(pdiff_levels)),labels,rotation=45)\n",
    "    ax.set_xlabel('prob diff bins')\n",
    "    \n",
    "plt.sca(ax)\n",
    "plt.legend(bbox_to_anchor=(1.05, 1),loc=2)\n",
    "plt.tight_layout()\n",
    "plt.savefig('../figs/binning_probdiff_choose_prob_diff_more_levels.png',dpi=300,bbox_inches='tight')\n",
    "# red is 0-0.2 info, \n",
    "# pink is 0.2-0.4\n",
    "# light blue is 0.4-0.8\n",
    "# dark blue ->0.8"
   ]
  },
  {
   "cell_type": "markdown",
   "metadata": {},
   "source": [
    "### Balanced Trials? \n",
    "\n",
    "- for each ambiguity level (on right side), do the magnitudes and revealed probs have a bias? \n",
    "- what about for left side. "
   ]
  },
  {
   "cell_type": "code",
   "execution_count": 53,
   "metadata": {
    "collapsed": true
   },
   "outputs": [],
   "source": [
    "data_participants = pd.read_csv('../results/sub_table.csv')"
   ]
  },
  {
   "cell_type": "code",
   "execution_count": 52,
   "metadata": {},
   "outputs": [
    {
     "name": "stdout",
     "output_type": "stream",
     "text": [
      "../../tasklogs/combined/hit_batch_2017_6_14_ambicombined_A11SV23EOGGBG3_duplicates_dropped.csv\n"
     ]
    }
   ],
   "source": [
    "MID = data_participants.loc[data_participants.date=='2017-06-14','MID'].as_matrix()[0]\n",
    "filee = glob.glob('../../tasklogs/combined/*'+MID+'*')\n",
    "if len(filee)>1:\n",
    "    filee=filee[1]\n",
    "else:\n",
    "    filee=filee[0]\n",
    "print(filee)\n",
    "trial_table = get_trial_table(filee,combined=True)\n",
    "\n"
   ]
  },
  {
   "cell_type": "code",
   "execution_count": 55,
   "metadata": {},
   "outputs": [
    {
     "name": "stdout",
     "output_type": "stream",
     "text": [
      "right prop urns revealed:0.02\n",
      "right mag\n",
      "-59.1428571429\n",
      "left mag\n",
      "-59.2857142857\n",
      "left prob estimate\n",
      "0.64\n",
      "right bayesian prob estimate\n",
      "0.52380952381\n",
      "right prob estiamte\n",
      "0.571428571429\n",
      "percent chosen right\n",
      "0.571428571429\n",
      "\n",
      "right prop urns revealed:0.06\n",
      "right mag\n",
      "-46.8571428571\n",
      "left mag\n",
      "-48.8571428571\n",
      "left prob estimate\n",
      "0.451428571429\n",
      "right bayesian prob estimate\n",
      "0.6\n",
      "right prob estiamte\n",
      "0.666666666667\n",
      "percent chosen right\n",
      "0.857142857143\n",
      "\n",
      "right prop urns revealed:0.1\n",
      "right mag\n",
      "-43.5\n",
      "left mag\n",
      "-63.5\n",
      "left prob estimate\n",
      "0.28\n",
      "right bayesian prob estimate\n",
      "0.642857142857\n",
      "right prob estiamte\n",
      "0.7\n",
      "percent chosen right\n",
      "1.0\n",
      "\n",
      "right prop urns revealed:0.2\n",
      "right mag\n",
      "-54.8571428571\n",
      "left mag\n",
      "-49.2857142857\n",
      "left prob estimate\n",
      "0.634285714286\n",
      "right bayesian prob estimate\n",
      "0.559523809524\n",
      "right prob estiamte\n",
      "0.571428571429\n",
      "percent chosen right\n",
      "0.285714285714\n",
      "\n",
      "right prop urns revealed:0.4\n",
      "right mag\n",
      "-47.0\n",
      "left mag\n",
      "-44.3333333333\n",
      "left prob estimate\n",
      "0.633333333333\n",
      "right bayesian prob estimate\n",
      "0.401515151515\n",
      "right prob estiamte\n",
      "0.391666666667\n",
      "percent chosen right\n",
      "0.666666666667\n",
      "\n",
      "right prop urns revealed:0.8\n",
      "right mag\n",
      "-35.375\n",
      "left mag\n",
      "-58.25\n",
      "left prob estimate\n",
      "0.5725\n",
      "right bayesian prob estimate\n",
      "0.660714285714\n",
      "right prob estiamte\n",
      "0.66875\n",
      "percent chosen right\n",
      "0.75\n",
      "\n",
      "right prop urns revealed:1.0\n",
      "right mag\n",
      "-50.8918918919\n",
      "left mag\n",
      "-46.8018018018\n",
      "left prob estimate\n",
      "0.615409305409\n",
      "right bayesian prob estimate\n",
      "0.566306306306\n",
      "right prob estiamte\n",
      "0.566306306306\n",
      "percent chosen right\n",
      "0.495495495495\n",
      "\n"
     ]
    }
   ],
   "source": [
    "tt=trial_table.loc[(trial_table['mag_right']<0),].copy()\n",
    "for revealed in np.sort(tt['revealed_right'].unique()):\n",
    "    print('right prop urns revealed:{0}').format(str(revealed))\n",
    "    print('right mag')\n",
    "    print(tt.loc[tt['revealed_right']==revealed,'mag_right'].mean())\n",
    "    print('left mag')\n",
    "    print(tt.loc[tt['revealed_right']==revealed,'mag_left'].mean())\n",
    "    print('left prob estimate')\n",
    "    print(tt.loc[tt['revealed_right']==revealed,'prob_o_l_bayes'].mean())\n",
    "    print('right bayesian prob estimate')\n",
    "    print(tt.loc[tt['revealed_right']==revealed,'prob_o_r_bayes'].mean())\n",
    "    print('right prob estiamte')\n",
    "    print(tt.loc[tt['revealed_right']==revealed,'prob_o_r'].mean())\n",
    "    print('percent chosen right')\n",
    "    print(tt.loc[tt['revealed_right']==revealed,'resp_r_1'].mean())\n",
    "    print('')"
   ]
  },
  {
   "cell_type": "code",
   "execution_count": 56,
   "metadata": {
    "collapsed": true
   },
   "outputs": [],
   "source": [
    "#tt.loc[tt['revealed_right']==0.06,]"
   ]
  },
  {
   "cell_type": "code",
   "execution_count": 59,
   "metadata": {},
   "outputs": [
    {
     "name": "stdout",
     "output_type": "stream",
     "text": [
      "ambig prop urns revealed:0.02\n",
      "ambig mag\n",
      "48.92\n",
      "unambig mag\n",
      "55.69\n",
      "ambig prob estimate\n",
      "0.51\n",
      "unambig prob estimate\n",
      "0.54\n",
      "\n",
      "ambig prop urns revealed:0.06\n",
      "ambig mag\n",
      "58.23\n",
      "unambig mag\n",
      "46.77\n",
      "ambig prob estimate\n",
      "0.54\n",
      "unambig prob estimate\n",
      "0.62\n",
      "\n",
      "ambig prop urns revealed:0.1\n",
      "ambig mag\n",
      "46.69\n",
      "unambig mag\n",
      "56.31\n",
      "ambig prob estimate\n",
      "0.56\n",
      "unambig prob estimate\n",
      "0.51\n",
      "\n",
      "ambig prop urns revealed:0.2\n",
      "ambig mag\n",
      "46.92\n",
      "unambig mag\n",
      "54.69\n",
      "ambig prob estimate\n",
      "0.56\n",
      "unambig prob estimate\n",
      "0.57\n",
      "\n",
      "ambig prop urns revealed:0.4\n",
      "ambig mag\n",
      "53.92\n",
      "unambig mag\n",
      "56.0\n",
      "ambig prob estimate\n",
      "0.59\n",
      "unambig prob estimate\n",
      "0.62\n",
      "\n",
      "ambig prop urns revealed:0.8\n",
      "ambig mag\n",
      "31.54\n",
      "unambig mag\n",
      "58.08\n",
      "ambig prob estimate\n",
      "0.67\n",
      "unambig prob estimate\n",
      "0.51\n",
      "\n",
      "ambig prop urns revealed:1.0\n",
      "ambig mag\n",
      "nan\n",
      "unambig mag\n",
      "nan\n",
      "ambig prob estimate\n",
      "nan\n",
      "unambig prob estimate\n",
      "nan\n",
      "\n"
     ]
    }
   ],
   "source": [
    "# same but for ambiguous v non-ambiguous trials. \n",
    "tt=trial_table.loc[(trial_table['mag_right']>0),].copy()\n",
    "for revealed in np.sort(tt['info_amb'].unique()):\n",
    "    print('ambig prop urns revealed:{0}').format(str(revealed))\n",
    "    print('ambig mag')\n",
    "    print(np.round(tt.loc[tt['info_amb']==revealed,'mag_ambig'].mean(),2))\n",
    "    print('unambig mag')\n",
    "    print(np.round(tt.loc[tt['info_amb']==revealed,'mag_unambig'].mean(),2))\n",
    "    print('ambig prob estimate')\n",
    "    print(np.round(tt.loc[tt['info_amb']==revealed,'prob_o_ambig_bayes'].mean(),2))\n",
    "    print('unambig prob estimate')\n",
    "    print(np.round(tt.loc[tt['info_amb']==revealed,'prob_o_unambig'].mean(),2))\n",
    "#     print('amb choice')\n",
    "#     print(tt.loc[tt['info_amb']==revealed,'resp_amb_1'].mean())\n",
    "    print('')"
   ]
  },
  {
   "cell_type": "code",
   "execution_count": 61,
   "metadata": {},
   "outputs": [
    {
     "name": "stdout",
     "output_type": "stream",
     "text": [
      "ambig prop urns revealed:0.02\n",
      "ambig v.s. unambig: (-48.92,0.51) v.s. (-55.69,0.54)\n",
      "\n",
      "ambig prop urns revealed:0.06\n",
      "ambig v.s. unambig: (-58.23,0.57) v.s. (-46.77,0.62)\n",
      "\n",
      "ambig prop urns revealed:0.1\n",
      "ambig v.s. unambig: (-46.69,0.56) v.s. (-56.31,0.51)\n",
      "\n",
      "ambig prop urns revealed:0.2\n",
      "ambig v.s. unambig: (-46.92,0.56) v.s. (-54.69,0.56)\n",
      "\n",
      "ambig prop urns revealed:0.4\n",
      "ambig v.s. unambig: (-53.92,0.58) v.s. (-56.0,0.62)\n",
      "\n",
      "ambig prop urns revealed:0.8\n",
      "ambig v.s. unambig: (-31.54,0.67) v.s. (-58.08,0.51)\n",
      "\n",
      "ambig prop urns revealed:1.0\n",
      "ambig v.s. unambig: (nan,nan) v.s. (nan,nan)\n",
      "\n"
     ]
    }
   ],
   "source": [
    "# same but for printed diffferently \n",
    "tt=trial_table.loc[(trial_table['mag_right']<0),].copy()\n",
    "for revealed in np.sort(tt['info_amb'].unique()):\n",
    "    print('ambig prop urns revealed:{0}').format(str(revealed))\n",
    "    mag_ambig = np.round(tt.loc[tt['info_amb']==revealed,'mag_ambig'].mean(),2)\n",
    "    mag_unambig = np.round(tt.loc[tt['info_amb']==revealed,'mag_unambig'].mean(),2)\n",
    "    prob_ambig = np.round(tt.loc[tt['info_amb']==revealed,'prob_o_ambig_bayes'].mean(),2)\n",
    "    prob_unambig = np.round(tt.loc[tt['info_amb']==revealed,'prob_o_unambig'].mean(),2)\n",
    "    print('ambig v.s. unambig: ({0},{1}) v.s. ({2},{3})').format(mag_ambig,prob_ambig,mag_unambig,prob_unambig)\n",
    "    print('')"
   ]
  },
  {
   "cell_type": "code",
   "execution_count": null,
   "metadata": {
    "collapsed": true
   },
   "outputs": [],
   "source": [
    "# MIDS = data_participants.MID.unique()\n",
    "# MIDS = MIDS[0:4]\n",
    "\n",
    "# prob_chosen2 = np.empty((len(prob_levels),len(MIDS)))\n",
    "\n",
    "# prob_levels = [[0,0.2],[.2,.4],[0.4,0.6],[0.6,0.8],[0.8,1.0]]\n",
    "# #mag_levls = \n",
    "\n",
    "# for MIDi,MID in enumerate(MIDS): \n",
    "#     filee = glob.glob('../../tasklogs/combined/*'+MID+'*')\n",
    "#     if len(filee)>1:\n",
    "#         filee=filee[1]\n",
    "#     else:\n",
    "#         filee=filee[0]\n",
    "#     print(filee)\n",
    "#     trial_table = get_trial_table(filee,combined=True)\n",
    "#     tt=trial_table.loc[(trial_table['info_amb']==1.0)&(trial_table['mag_right']>0),].copy()\n",
    "\n",
    "\n",
    "#     for pbli,pbl in enumerate(prob_levels):\n",
    "#         r_resp = tt.loc[(tt['prob_o_r_bayes']>=pbl[0])&\n",
    "#                                                         (tt['prob_o_r_bayes']<=pbl[1])\n",
    "#                                                         ,'resp_r_1'].as_matrix()\n",
    "#         l_resp = 1-tt_l.loc[(tt_l['prob_o_l_bayes']>=pbl[0])&\n",
    "#                                                         (tt_l['prob_o_l_bayes']<=pbl[1])\n",
    "#                                                         ,'resp_r_1'].as_matrix()\n",
    "#         prob_chosen2[pbli,MIDi]=np.nanmean(np.append(r_resp,l_resp))\n",
    "#         #prob_chosen[iasi,pbli,MIDi]=np.nanmean(r_resp)"
   ]
  },
  {
   "cell_type": "code",
   "execution_count": null,
   "metadata": {
    "collapsed": true
   },
   "outputs": [],
   "source": [
    "#np.nanmean(prob_chosen2,axis=1)\n"
   ]
  },
  {
   "cell_type": "code",
   "execution_count": null,
   "metadata": {
    "collapsed": true
   },
   "outputs": [],
   "source": [
    "np.nanmean(prob_chosen_g[:,:,:],axis=2)"
   ]
  },
  {
   "cell_type": "markdown",
   "metadata": {},
   "source": [
    "### Durations - tasks not in dataparticipants? "
   ]
  },
  {
   "cell_type": "code",
   "execution_count": null,
   "metadata": {
    "collapsed": true
   },
   "outputs": [],
   "source": [
    "data_participants['']"
   ]
  },
  {
   "cell_type": "code",
   "execution_count": null,
   "metadata": {
    "collapsed": true
   },
   "outputs": [],
   "source": [
    "plt.figure(figsize=(12,12))\n",
    "sns.set_context('paper',font_scale=1.5)\n",
    "sns.despine()\n",
    "i = 0\n",
    "\n",
    "for index,row in d.iterrows():\n",
    "    t=np.array([])\n",
    "    time = 0\n",
    "    for task in d['tasks'].as_matrix()[0].split(','):\n",
    "        task = task.replace('survey_','')\n",
    "        task = task.replace('experiment_ambicombined','ambi combined')\n",
    "        duration = row['duration_'+task]/60\n",
    "        time = duration+time\n",
    "        if 'ambi' in task:\n",
    "            color ='r'\n",
    "        else:\n",
    "            color='b'\n",
    "        plt.scatter(time,i,c=color)\n",
    "    i+=1\n",
    "    #plt.scatter(t,np.ones(len(t))*i,color=c,label=task)\n",
    "\n",
    "plt.xlabel('Minutes')\n",
    "plt.ylabel('Participants')\n",
    "plt.xticks(np.arange(0,220,10))\n",
    "plt.xlim([0,220])\n",
    "plt.ylim([-1,120])\n",
    "plt.savefig('../dataset1/timing_combined_versions2.png',dpi=300)"
   ]
  },
  {
   "cell_type": "code",
   "execution_count": null,
   "metadata": {
    "collapsed": true
   },
   "outputs": [],
   "source": [
    "plt.figure(figsize=(10,6))\n",
    "sns.despine()\n",
    "i = 0\n",
    "\n",
    "for index,row in d.iterrows():\n",
    "    t=np.array([])\n",
    "    time = 0\n",
    "    for ti,task in enumerate(d['tasks'].as_matrix()[0].split(',')):\n",
    "        task = task.replace('survey_','')\n",
    "        task = task.replace('experiment_ambicombined','ambi combined')\n",
    "        start = row['starttime_'+task]/60\n",
    "        end = row['endtime_'+task]/60\n",
    "        if ti==0:\n",
    "            start_first=start\n",
    "\n",
    "        if index==d.index[-1]: # label\n",
    "            plt.plot([start-start_first,end-start_first],[i,i],color=pallette[ti],label=task)\n",
    "        else:\n",
    "            plt.plot([start-start_first,end-start_first],[i,i],color=pallette[ti])\n",
    "    i+=1\n",
    "\n",
    "plt.xlabel('Minutes')\n",
    "plt.ylabel('Participants')\n",
    "plt.xticks(np.arange(0,220,10))\n",
    "plt.legend()\n",
    "plt.xlim([0,30])\n",
    "plt.ylim([-1,120])\n",
    "plt.savefig('../figs/timing_combined_versions_lines_2.png',dpi=300)"
   ]
  },
  {
   "cell_type": "code",
   "execution_count": null,
   "metadata": {
    "collapsed": true
   },
   "outputs": [],
   "source": [
    "tasks = []\n",
    "tasks2 = []\n",
    "xlabels = []\n",
    "for ti,task in enumerate(d['tasks'].as_matrix()[0].split(',')):\n",
    "    task = task.replace('survey_','')\n",
    "    task = task.replace('experiment_ambicombined','ambi combined')\n",
    "    if ti<9:\n",
    "        tasks.append('duration_'+task)\n",
    "    else:\n",
    "        tasks2.append('duration_'+task)\n",
    "    xlabels.append(task)\n",
    "fig,ax = plt.subplots(1,1,figsize=(10,6))\n",
    "dd = d[tasks]\n",
    "dd = dd/60\n",
    "dd.boxplot()\n",
    "plt.ylim(0,15)\n",
    "ax.set_ylabel('minutes')\n",
    "ax.set_xticklabels(xlabels)\n",
    "ax.set_yticks(np.arange(0,15,1))\n",
    "plt.title('time on questionnaires')\n",
    "plt.savefig('../figs/time_on_'+task+'box.png',dpi=300)"
   ]
  },
  {
   "cell_type": "code",
   "execution_count": null,
   "metadata": {
    "collapsed": true
   },
   "outputs": [],
   "source": [
    "fig,ax = plt.subplots(1,1,figsize=(4,6))\n",
    "dd = d[tasks2]\n",
    "dd = dd/60\n",
    "dd.boxplot()\n",
    "plt.ylim(0,140)\n",
    "ax.set_ylabel('minutes')\n",
    "ax.set_xticklabels(['task'])\n",
    "plt.title('time on task')\n",
    "plt.savefig('../figs/time_on_task_box.png',dpi=300)"
   ]
  },
  {
   "cell_type": "markdown",
   "metadata": {},
   "source": [
    "## Trait Data "
   ]
  },
  {
   "cell_type": "code",
   "execution_count": 219,
   "metadata": {},
   "outputs": [
    {
     "name": "stdout",
     "output_type": "stream",
     "text": [
      "removing bad subjects\n",
      "153\n"
     ]
    }
   ],
   "source": [
    "\n",
    "data_participants = pd.read_csv('../results/sub_table.csv')\n",
    "data_participants = data_participants.loc[\n",
    "    ~np.isnan(data_participants.num_no_resp_combined)&\n",
    "    ((data_participants.date=='2017-04-17')|(data_participants.date=='2017-06-14'))]\n",
    "datasetfolder='datasetb'\n",
    "\n",
    "# Remove Bad subjects \n",
    "print('removing bad subjects')\n",
    "data_participants=remove_bad_participants(data_participants,task)\n",
    "print(len(df.MID.unique()))"
   ]
  },
  {
   "cell_type": "code",
   "execution_count": 220,
   "metadata": {
    "collapsed": true
   },
   "outputs": [],
   "source": [
    "traits = ['STAI_State','STAI_Trait','BDI','CESD',\n",
    "          'MASQ.AA','MASQ.AD','MASQ.AS','MASQ.DS',\n",
    "          'IUS','PSWQ','ASIR','EPQ']\n",
    "\n"
   ]
  },
  {
   "cell_type": "markdown",
   "metadata": {},
   "source": [
    "### How many people had scores that did not have enough rows"
   ]
  },
  {
   "cell_type": "code",
   "execution_count": 221,
   "metadata": {},
   "outputs": [
    {
     "name": "stdout",
     "output_type": "stream",
     "text": [
      "STAI_State: nans: 0\n",
      "STAI_Trait: nans: 0\n",
      "BDI: nans: 0\n",
      "CESD: nans: 1\n",
      "MASQ.AA: nans: 3\n",
      "MASQ.AD: nans: 3\n",
      "MASQ.AS: nans: 3\n",
      "MASQ.DS: nans: 3\n",
      "IUS: nans: 0\n",
      "PSWQ: nans: 1\n",
      "ASIR: nans: 1\n",
      "EPQ: nans: 1\n"
     ]
    }
   ],
   "source": [
    "for t in traits:\n",
    "        print('{0}: nans: {1}').format(t,np.isnan(data_participants[t]).sum())"
   ]
  },
  {
   "cell_type": "markdown",
   "metadata": {},
   "source": [
    "### How many people had extra rows? "
   ]
  },
  {
   "cell_type": "code",
   "execution_count": 222,
   "metadata": {},
   "outputs": [
    {
     "name": "stdout",
     "output_type": "stream",
     "text": [
      "STAI_State: nans: 10.0\n",
      "STAI_Trait: nans: 5.0\n",
      "BDI: nans: 6.0\n",
      "CESD: nans: 5.0\n",
      "MASQ: nans: 20.0\n",
      "IUS: nans: 6.0\n",
      "PSWQ: nans: 2.0\n",
      "ASIR: nans: 3.0\n",
      "EPQ: nans: 17.0\n"
     ]
    }
   ],
   "source": [
    "for t in ['STAI_State','STAI_Trait','BDI','CESD',\n",
    "          'MASQ','IUS','PSWQ','ASIR','EPQ']:\n",
    "        print('{0}: nans: {1}').format(t,data_participants[t+'_had_to_drop_rows'].sum())"
   ]
  },
  {
   "cell_type": "markdown",
   "metadata": {},
   "source": [
    "### How many people had one response per questionaire (e.g. pressed all 3's)"
   ]
  },
  {
   "cell_type": "code",
   "execution_count": 223,
   "metadata": {},
   "outputs": [
    {
     "name": "stdout",
     "output_type": "stream",
     "text": [
      "STAI_State: nans: 0\n",
      "STAI_Trait: nans: 0\n",
      "BDI: nans: 37\n",
      "CESD: nans: 0\n",
      "MASQ: nans: 1\n",
      "IUS: nans: 1\n",
      "PSWQ: nans: 0\n",
      "ASIR: nans: 2\n",
      "EPQ: nans: 0\n"
     ]
    }
   ],
   "source": [
    "for t in ['STAI_State','STAI_Trait','BDI','CESD',\n",
    "          'MASQ','IUS','PSWQ','ASIR','EPQ']:\n",
    "        print('{0}: nans: {1}').format(t,(data_participants[t+'_unique_responses']==1).sum())"
   ]
  },
  {
   "cell_type": "markdown",
   "metadata": {},
   "source": [
    "- not going to use as exclusion (BDI - people often put all 0's)"
   ]
  },
  {
   "cell_type": "markdown",
   "metadata": {},
   "source": [
    "### Trait Correlation Matrix"
   ]
  },
  {
   "cell_type": "code",
   "execution_count": 224,
   "metadata": {},
   "outputs": [
    {
     "name": "stdout",
     "output_type": "stream",
     "text": [
      "154\n",
      "148\n"
     ]
    }
   ],
   "source": [
    "traits = ['STAI_State','STAI_Trait','BDI','CESD',\n",
    "          'MASQ.AA','MASQ.AD','MASQ.AS','MASQ.DS',\n",
    "          'IUS','PSWQ','ASIR','EPQ']\n",
    "\n",
    "X = data_participants[traits]\n",
    "print(len(X))\n",
    "X = X.dropna()\n",
    "print(len(X))\n",
    "\n",
    "C = X.corr()\n"
   ]
  },
  {
   "cell_type": "code",
   "execution_count": 225,
   "metadata": {},
   "outputs": [
    {
     "data": {
      "text/html": [
       "<div>\n",
       "<table border=\"1\" class=\"dataframe\">\n",
       "  <thead>\n",
       "    <tr style=\"text-align: right;\">\n",
       "      <th></th>\n",
       "      <th>STAI_State</th>\n",
       "      <th>STAI_Trait</th>\n",
       "      <th>BDI</th>\n",
       "      <th>CESD</th>\n",
       "      <th>MASQ.AA</th>\n",
       "      <th>MASQ.AD</th>\n",
       "      <th>MASQ.AS</th>\n",
       "      <th>MASQ.DS</th>\n",
       "      <th>IUS</th>\n",
       "      <th>PSWQ</th>\n",
       "      <th>ASIR</th>\n",
       "      <th>EPQ</th>\n",
       "    </tr>\n",
       "  </thead>\n",
       "  <tbody>\n",
       "    <tr>\n",
       "      <th>STAI_State</th>\n",
       "      <td>1.000000</td>\n",
       "      <td>0.786275</td>\n",
       "      <td>0.727022</td>\n",
       "      <td>0.711411</td>\n",
       "      <td>0.513929</td>\n",
       "      <td>0.715379</td>\n",
       "      <td>0.753089</td>\n",
       "      <td>0.713951</td>\n",
       "      <td>0.586778</td>\n",
       "      <td>0.644212</td>\n",
       "      <td>0.372490</td>\n",
       "      <td>0.604315</td>\n",
       "    </tr>\n",
       "    <tr>\n",
       "      <th>STAI_Trait</th>\n",
       "      <td>0.786275</td>\n",
       "      <td>1.000000</td>\n",
       "      <td>0.816989</td>\n",
       "      <td>0.833346</td>\n",
       "      <td>0.507950</td>\n",
       "      <td>0.848250</td>\n",
       "      <td>0.746706</td>\n",
       "      <td>0.825793</td>\n",
       "      <td>0.768339</td>\n",
       "      <td>0.820266</td>\n",
       "      <td>0.504882</td>\n",
       "      <td>0.812726</td>\n",
       "    </tr>\n",
       "    <tr>\n",
       "      <th>BDI</th>\n",
       "      <td>0.727022</td>\n",
       "      <td>0.816989</td>\n",
       "      <td>1.000000</td>\n",
       "      <td>0.869340</td>\n",
       "      <td>0.653302</td>\n",
       "      <td>0.801746</td>\n",
       "      <td>0.764178</td>\n",
       "      <td>0.879313</td>\n",
       "      <td>0.647683</td>\n",
       "      <td>0.694102</td>\n",
       "      <td>0.529554</td>\n",
       "      <td>0.702337</td>\n",
       "    </tr>\n",
       "    <tr>\n",
       "      <th>CESD</th>\n",
       "      <td>0.711411</td>\n",
       "      <td>0.833346</td>\n",
       "      <td>0.869340</td>\n",
       "      <td>1.000000</td>\n",
       "      <td>0.662521</td>\n",
       "      <td>0.868850</td>\n",
       "      <td>0.771683</td>\n",
       "      <td>0.882796</td>\n",
       "      <td>0.687541</td>\n",
       "      <td>0.727194</td>\n",
       "      <td>0.552056</td>\n",
       "      <td>0.737789</td>\n",
       "    </tr>\n",
       "    <tr>\n",
       "      <th>MASQ.AA</th>\n",
       "      <td>0.513929</td>\n",
       "      <td>0.507950</td>\n",
       "      <td>0.653302</td>\n",
       "      <td>0.662521</td>\n",
       "      <td>1.000000</td>\n",
       "      <td>0.539414</td>\n",
       "      <td>0.743719</td>\n",
       "      <td>0.654440</td>\n",
       "      <td>0.427484</td>\n",
       "      <td>0.456316</td>\n",
       "      <td>0.495346</td>\n",
       "      <td>0.466276</td>\n",
       "    </tr>\n",
       "    <tr>\n",
       "      <th>MASQ.AD</th>\n",
       "      <td>0.715379</td>\n",
       "      <td>0.848250</td>\n",
       "      <td>0.801746</td>\n",
       "      <td>0.868850</td>\n",
       "      <td>0.539414</td>\n",
       "      <td>1.000000</td>\n",
       "      <td>0.663405</td>\n",
       "      <td>0.794020</td>\n",
       "      <td>0.628489</td>\n",
       "      <td>0.677771</td>\n",
       "      <td>0.443259</td>\n",
       "      <td>0.701444</td>\n",
       "    </tr>\n",
       "    <tr>\n",
       "      <th>MASQ.AS</th>\n",
       "      <td>0.753089</td>\n",
       "      <td>0.746706</td>\n",
       "      <td>0.764178</td>\n",
       "      <td>0.771683</td>\n",
       "      <td>0.743719</td>\n",
       "      <td>0.663405</td>\n",
       "      <td>1.000000</td>\n",
       "      <td>0.810133</td>\n",
       "      <td>0.631258</td>\n",
       "      <td>0.706424</td>\n",
       "      <td>0.504284</td>\n",
       "      <td>0.669679</td>\n",
       "    </tr>\n",
       "    <tr>\n",
       "      <th>MASQ.DS</th>\n",
       "      <td>0.713951</td>\n",
       "      <td>0.825793</td>\n",
       "      <td>0.879313</td>\n",
       "      <td>0.882796</td>\n",
       "      <td>0.654440</td>\n",
       "      <td>0.794020</td>\n",
       "      <td>0.810133</td>\n",
       "      <td>1.000000</td>\n",
       "      <td>0.675022</td>\n",
       "      <td>0.727673</td>\n",
       "      <td>0.512142</td>\n",
       "      <td>0.732171</td>\n",
       "    </tr>\n",
       "    <tr>\n",
       "      <th>IUS</th>\n",
       "      <td>0.586778</td>\n",
       "      <td>0.768339</td>\n",
       "      <td>0.647683</td>\n",
       "      <td>0.687541</td>\n",
       "      <td>0.427484</td>\n",
       "      <td>0.628489</td>\n",
       "      <td>0.631258</td>\n",
       "      <td>0.675022</td>\n",
       "      <td>1.000000</td>\n",
       "      <td>0.815926</td>\n",
       "      <td>0.574169</td>\n",
       "      <td>0.761168</td>\n",
       "    </tr>\n",
       "    <tr>\n",
       "      <th>PSWQ</th>\n",
       "      <td>0.644212</td>\n",
       "      <td>0.820266</td>\n",
       "      <td>0.694102</td>\n",
       "      <td>0.727194</td>\n",
       "      <td>0.456316</td>\n",
       "      <td>0.677771</td>\n",
       "      <td>0.706424</td>\n",
       "      <td>0.727673</td>\n",
       "      <td>0.815926</td>\n",
       "      <td>1.000000</td>\n",
       "      <td>0.583172</td>\n",
       "      <td>0.856262</td>\n",
       "    </tr>\n",
       "    <tr>\n",
       "      <th>ASIR</th>\n",
       "      <td>0.372490</td>\n",
       "      <td>0.504882</td>\n",
       "      <td>0.529554</td>\n",
       "      <td>0.552056</td>\n",
       "      <td>0.495346</td>\n",
       "      <td>0.443259</td>\n",
       "      <td>0.504284</td>\n",
       "      <td>0.512142</td>\n",
       "      <td>0.574169</td>\n",
       "      <td>0.583172</td>\n",
       "      <td>1.000000</td>\n",
       "      <td>0.593214</td>\n",
       "    </tr>\n",
       "    <tr>\n",
       "      <th>EPQ</th>\n",
       "      <td>0.604315</td>\n",
       "      <td>0.812726</td>\n",
       "      <td>0.702337</td>\n",
       "      <td>0.737789</td>\n",
       "      <td>0.466276</td>\n",
       "      <td>0.701444</td>\n",
       "      <td>0.669679</td>\n",
       "      <td>0.732171</td>\n",
       "      <td>0.761168</td>\n",
       "      <td>0.856262</td>\n",
       "      <td>0.593214</td>\n",
       "      <td>1.000000</td>\n",
       "    </tr>\n",
       "  </tbody>\n",
       "</table>\n",
       "</div>"
      ],
      "text/plain": [
       "            STAI_State  STAI_Trait       BDI      CESD   MASQ.AA   MASQ.AD  \\\n",
       "STAI_State    1.000000    0.786275  0.727022  0.711411  0.513929  0.715379   \n",
       "STAI_Trait    0.786275    1.000000  0.816989  0.833346  0.507950  0.848250   \n",
       "BDI           0.727022    0.816989  1.000000  0.869340  0.653302  0.801746   \n",
       "CESD          0.711411    0.833346  0.869340  1.000000  0.662521  0.868850   \n",
       "MASQ.AA       0.513929    0.507950  0.653302  0.662521  1.000000  0.539414   \n",
       "MASQ.AD       0.715379    0.848250  0.801746  0.868850  0.539414  1.000000   \n",
       "MASQ.AS       0.753089    0.746706  0.764178  0.771683  0.743719  0.663405   \n",
       "MASQ.DS       0.713951    0.825793  0.879313  0.882796  0.654440  0.794020   \n",
       "IUS           0.586778    0.768339  0.647683  0.687541  0.427484  0.628489   \n",
       "PSWQ          0.644212    0.820266  0.694102  0.727194  0.456316  0.677771   \n",
       "ASIR          0.372490    0.504882  0.529554  0.552056  0.495346  0.443259   \n",
       "EPQ           0.604315    0.812726  0.702337  0.737789  0.466276  0.701444   \n",
       "\n",
       "             MASQ.AS   MASQ.DS       IUS      PSWQ      ASIR       EPQ  \n",
       "STAI_State  0.753089  0.713951  0.586778  0.644212  0.372490  0.604315  \n",
       "STAI_Trait  0.746706  0.825793  0.768339  0.820266  0.504882  0.812726  \n",
       "BDI         0.764178  0.879313  0.647683  0.694102  0.529554  0.702337  \n",
       "CESD        0.771683  0.882796  0.687541  0.727194  0.552056  0.737789  \n",
       "MASQ.AA     0.743719  0.654440  0.427484  0.456316  0.495346  0.466276  \n",
       "MASQ.AD     0.663405  0.794020  0.628489  0.677771  0.443259  0.701444  \n",
       "MASQ.AS     1.000000  0.810133  0.631258  0.706424  0.504284  0.669679  \n",
       "MASQ.DS     0.810133  1.000000  0.675022  0.727673  0.512142  0.732171  \n",
       "IUS         0.631258  0.675022  1.000000  0.815926  0.574169  0.761168  \n",
       "PSWQ        0.706424  0.727673  0.815926  1.000000  0.583172  0.856262  \n",
       "ASIR        0.504284  0.512142  0.574169  0.583172  1.000000  0.593214  \n",
       "EPQ         0.669679  0.732171  0.761168  0.856262  0.593214  1.000000  "
      ]
     },
     "execution_count": 225,
     "metadata": {},
     "output_type": "execute_result"
    }
   ],
   "source": [
    "X.corr()"
   ]
  },
  {
   "cell_type": "code",
   "execution_count": 226,
   "metadata": {},
   "outputs": [
    {
     "data": {
      "image/png": "[encoded data removed]",
      "text/plain": [
       "<matplotlib.figure.Figure at 0x10eda4d90>"
      ]
     },
     "metadata": {},
     "output_type": "display_data"
    }
   ],
   "source": [
    "ax = sns.heatmap(C,annot=True)\n",
    "plt.savefig('../figs/'+datasetfolder+'/trait_correlatoin_matrix.png',dpi=300)"
   ]
  },
  {
   "cell_type": "markdown",
   "metadata": {},
   "source": [
    "### Trait Pairplots"
   ]
  },
  {
   "cell_type": "code",
   "execution_count": 229,
   "metadata": {},
   "outputs": [
    {
     "name": "stdout",
     "output_type": "stream",
     "text": [
      "154\n",
      "148\n"
     ]
    },
    {
     "data": {
      "text/plain": [
       "<matplotlib.figure.Figure at 0x120f49590>"
      ]
     },
     "metadata": {},
     "output_type": "display_data"
    }
   ],
   "source": [
    "\n",
    "traits = ['STAI_Trait','BDI','CESD',\n",
    "          'MASQ.AA','MASQ.AD',\n",
    "          'IUS','PSWQ','ASIR','EPQ']\n",
    "\n",
    "X = data_participants[traits]\n",
    "print(len(X))\n",
    "X = X.dropna()\n",
    "print(len(X))\n",
    "\n",
    "plt.figure(figsize=(8,8))\n",
    "#sns.pairplot(X)\n",
    "#plt.savefig('')\n",
    "def corrfunc(x, y, **kws):\n",
    "    r, _ = stats.pearsonr(x, y)\n",
    "    ax = plt.gca()\n",
    "    ax.annotate(\"r = {:.2f}\".format(r),\n",
    "                xy=(.1, .9), xycoords=ax.transAxes)\n",
    "\n",
    "g = sns.PairGrid(X, palette=[\"red\"])\n",
    "g.map_upper(plt.scatter, s=10)\n",
    "g.map_diag(sns.distplot, kde=False)\n",
    "g.map_lower(sns.kdeplot, cmap=\"Blues_d\")\n",
    "g.map_lower(corrfunc)\n",
    "fname = '../figs/'+datasetfolder+'/trait_pairplots.png'\n",
    "plt.savefig(fname,dpi=300)\n",
    "plt.close()"
   ]
  },
  {
   "cell_type": "code",
   "execution_count": 232,
   "metadata": {},
   "outputs": [
    {
     "data": {
      "text/plain": [
       "'../figs/datasetb/trait_pairplots.png'"
      ]
     },
     "execution_count": 232,
     "metadata": {},
     "output_type": "execute_result"
    }
   ],
   "source": [
    "fpath"
   ]
  },
  {
   "cell_type": "code",
   "execution_count": 233,
   "metadata": {},
   "outputs": [
    {
     "data": {
      "text/plain": [
       "'../figs/datasetb/trait_pairplots.png'"
      ]
     },
     "execution_count": 233,
     "metadata": {},
     "output_type": "execute_result"
    }
   ],
   "source": [
    "fname"
   ]
  },
  {
   "cell_type": "code",
   "execution_count": 234,
   "metadata": {},
   "outputs": [
    {
     "name": "stdout",
     "output_type": "stream",
     "text": [
      ".........."
     ]
    }
   ],
   "source": [
    "fname = 'trait_pairplots.png'\n",
    "fpath='../figs/'+datasetfolder+'/'+fname\n",
    "push_to_s3(fname,fpath)"
   ]
  },
  {
   "cell_type": "code",
   "execution_count": 161,
   "metadata": {
    "collapsed": true
   },
   "outputs": [],
   "source": [
    "# figure out how long the time span was between visits, and add indictor that its first date\n",
    "for MID in data_participants_cbt.MID.unique():\n",
    "    d1str = data_participants_cbt.loc[data_participants_cbt.MID==MID,'date'].as_matrix()[0]\n",
    "    date1 = datetime.strptime(d1str,'%Y-%m-%d')\n",
    "    d2str = data_participants_cbt.loc[data_participants_cbt.MID==MID,'date'].as_matrix()[1]\n",
    "    date2 = datetime.strptime(d2str,'%Y-%m-%d')\n",
    "    if date1<date2:\n",
    "        data_participants_cbt.loc[(data_participants_cbt.MID==MID)&(data_participants_cbt.date==d1str),'date_order']=1\n",
    "        data_participants_cbt.loc[(data_participants_cbt.MID==MID)&(data_participants_cbt.date==d2str),'date_order']=2\n",
    "    else:\n",
    "        data_participants_cbt.loc[(data_participants_cbt.MID==MID)&(data_participants_cbt.date==d1str),'date_order']=2\n",
    "        data_participants_cbt.loc[(data_participants_cbt.MID==MID)&(data_participants_cbt.date==d2str),'date_order']=1\n",
    "        \n",
    "    td = date2-date1\n",
    "    days = td.days\n",
    "    data_participants_cbt.loc[data_participants_cbt.MID==MID,'date_separation']=np.abs(days)\n",
    "    "
   ]
  },
  {
   "cell_type": "code",
   "execution_count": 162,
   "metadata": {},
   "outputs": [
    {
     "data": {
      "text/plain": [
       "(array([ 24.,   0.,   0.,   4.,   0.,   0.,  26.,   4.,   0.,  16.]),\n",
       " array([  42. ,   58.3,   74.6,   90.9,  107.2,  123.5,  139.8,  156.1,\n",
       "         172.4,  188.7,  205. ]),\n",
       " <a list of 10 Patch objects>)"
      ]
     },
     "execution_count": 162,
     "metadata": {},
     "output_type": "execute_result"
    },
    {
     "data": {
      "image/png": "[encoded data removed]",
      "text/plain": [
       "<matplotlib.figure.Figure at 0x10e001ad0>"
      ]
     },
     "metadata": {},
     "output_type": "display_data"
    }
   ],
   "source": [
    "plt.hist(data_participants_cbt.date_separation.as_matrix())"
   ]
  },
  {
   "cell_type": "markdown",
   "metadata": {},
   "source": [
    "#### Plot "
   ]
  },
  {
   "cell_type": "code",
   "execution_count": 163,
   "metadata": {
    "collapsed": true
   },
   "outputs": [],
   "source": [
    "traits = ['STAI_State','STAI_Trait','BDI','CESD',\n",
    "          'MASQ.AA','MASQ.AD','MASQ.AS','MASQ.DS',\n",
    "          'IUS','PSWQ','ASIR','EPQ']\n"
   ]
  },
  {
   "cell_type": "code",
   "execution_count": 164,
   "metadata": {
    "collapsed": true
   },
   "outputs": [],
   "source": [
    "for trait in traits:\n",
    "    trait_date_second = np.array([])\n",
    "    trait_date_first = np.array([])\n",
    "    separation = np.array([])\n",
    "    #trait = 'STAI_Trait'\n",
    "\n",
    "    for MID in data_participants_cbt.MID.unique():\n",
    "        t1 = data_participants_cbt.loc[(data_participants_cbt.MID==MID)&(data_participants_cbt.date_order==1),trait]\n",
    "        t2 = data_participants_cbt.loc[(data_participants_cbt.MID==MID)&(data_participants_cbt.date_order==2),trait]\n",
    "        s = data_participants_cbt.loc[(data_participants_cbt.MID==MID)&(data_participants_cbt.date_order==2),'date_separation']\n",
    "        trait_date_first=np.append(trait_date_first,t1)\n",
    "        trait_date_second=np.append(trait_date_second,t2)\n",
    "        separation = np.append(separation,s)\n",
    "\n",
    "    sns.set_style('white')\n",
    "    sns.set_context('paper')\n",
    "    plt.figure(figsize=(8,3))\n",
    "    plt.subplot(1,2,1)\n",
    "\n",
    "    # remove nan's\n",
    "    isnan = np.isnan(trait_date_first) | np.isnan(trait_date_second)\n",
    "    trait_date_first = trait_date_first[~isnan]\n",
    "    trait_date_second = trait_date_second[~isnan]    \n",
    "    separation=separation[~isnan]\n",
    "\n",
    "    plt.scatter(trait_date_first,trait_date_second)\n",
    "    sns.despine()\n",
    "\n",
    "    (r,p)=scipy.stats.pearsonr(trait_date_first,trait_date_second)\n",
    "    plt.title(trait+'\\n r='+str(np.round(r,3))+'\\n p='+str(np.round(p,3)))\n",
    "    plt.ylabel('trait measure day2')\n",
    "    plt.xlabel('trait measure day1')\n",
    "\n",
    "\n",
    "    plt.subplot(1,2,2)\n",
    "    shift = trait_date_first-trait_date_second\n",
    "    plt.scatter(separation,shift)\n",
    "    sns.despine()\n",
    "    plt.title(trait)\n",
    "    plt.ylabel('trait score difference')\n",
    "    plt.xlabel('separation between questionaires (in days)')\n",
    "\n",
    "    plt.savefig('../figs/repeat_subjects/'+trait+'.png',dpi=300)\n",
    "    plt.close()"
   ]
  },
  {
   "cell_type": "markdown",
   "metadata": {},
   "source": [
    "#### checking some repeats"
   ]
  },
  {
   "cell_type": "code",
   "execution_count": 168,
   "metadata": {},
   "outputs": [
    {
     "data": {
      "text/html": [
       "<div>\n",
       "<table border=\"1\" class=\"dataframe\">\n",
       "  <thead>\n",
       "    <tr style=\"text-align: right;\">\n",
       "      <th></th>\n",
       "      <th>AID</th>\n",
       "      <th>ASIR</th>\n",
       "      <th>ASIR_had_to_drop_rows</th>\n",
       "      <th>ASIR_unique_responses</th>\n",
       "      <th>BDI</th>\n",
       "      <th>BDI_had_to_drop_rows</th>\n",
       "      <th>BDI_unique_responses</th>\n",
       "      <th>CESD</th>\n",
       "      <th>CESD_had_to_drop_rows</th>\n",
       "      <th>CESD_unique_responses</th>\n",
       "      <th>...</th>\n",
       "      <th>STAI_State</th>\n",
       "      <th>STAI_State_had_to_drop_rows</th>\n",
       "      <th>STAI_State_unique_responses</th>\n",
       "      <th>STAI_Trait</th>\n",
       "      <th>STAI_Trait_anx</th>\n",
       "      <th>STAI_Trait_dep</th>\n",
       "      <th>STAI_Trait_had_to_drop_rows</th>\n",
       "      <th>STAI_Trait_unique_responses</th>\n",
       "      <th>date</th>\n",
       "      <th>ntime_in_database</th>\n",
       "    </tr>\n",
       "  </thead>\n",
       "  <tbody>\n",
       "    <tr>\n",
       "      <th>0</th>\n",
       "      <td>3IJXV6UZ1YOBU5E4OQ2JGV2E4WGIRK</td>\n",
       "      <td>19</td>\n",
       "      <td>0</td>\n",
       "      <td>5</td>\n",
       "      <td>0</td>\n",
       "      <td>0</td>\n",
       "      <td>1</td>\n",
       "      <td>3</td>\n",
       "      <td>0</td>\n",
       "      <td>3</td>\n",
       "      <td>...</td>\n",
       "      <td>23</td>\n",
       "      <td>0</td>\n",
       "      <td>3</td>\n",
       "      <td>24</td>\n",
       "      <td>7</td>\n",
       "      <td>17</td>\n",
       "      <td>0</td>\n",
       "      <td>4</td>\n",
       "      <td>2017-04-17</td>\n",
       "      <td>2</td>\n",
       "    </tr>\n",
       "    <tr>\n",
       "      <th>0</th>\n",
       "      <td>3IJXV6UZ1YOBU5E4OQ2JGV2E4WGIRK</td>\n",
       "      <td>21</td>\n",
       "      <td>0</td>\n",
       "      <td>5</td>\n",
       "      <td>0</td>\n",
       "      <td>0</td>\n",
       "      <td>1</td>\n",
       "      <td>3</td>\n",
       "      <td>0</td>\n",
       "      <td>3</td>\n",
       "      <td>...</td>\n",
       "      <td>24</td>\n",
       "      <td>0</td>\n",
       "      <td>4</td>\n",
       "      <td>28</td>\n",
       "      <td>7</td>\n",
       "      <td>21</td>\n",
       "      <td>0</td>\n",
       "      <td>4</td>\n",
       "      <td>2017-03-06</td>\n",
       "      <td>2</td>\n",
       "    </tr>\n",
       "  </tbody>\n",
       "</table>\n",
       "<p>2 rows × 39 columns</p>\n",
       "</div>"
      ],
      "text/plain": [
       "                              AID  ASIR  ASIR_had_to_drop_rows  \\\n",
       "0  3IJXV6UZ1YOBU5E4OQ2JGV2E4WGIRK    19                      0   \n",
       "0  3IJXV6UZ1YOBU5E4OQ2JGV2E4WGIRK    21                      0   \n",
       "\n",
       "   ASIR_unique_responses  BDI  BDI_had_to_drop_rows  BDI_unique_responses  \\\n",
       "0                      5    0                     0                     1   \n",
       "0                      5    0                     0                     1   \n",
       "\n",
       "   CESD  CESD_had_to_drop_rows  CESD_unique_responses        ...          \\\n",
       "0     3                      0                      3        ...           \n",
       "0     3                      0                      3        ...           \n",
       "\n",
       "   STAI_State  STAI_State_had_to_drop_rows  STAI_State_unique_responses  \\\n",
       "0          23                            0                            3   \n",
       "0          24                            0                            4   \n",
       "\n",
       "   STAI_Trait  STAI_Trait_anx  STAI_Trait_dep  STAI_Trait_had_to_drop_rows  \\\n",
       "0          24               7              17                            0   \n",
       "0          28               7              21                            0   \n",
       "\n",
       "   STAI_Trait_unique_responses        date  ntime_in_database  \n",
       "0                            4  2017-04-17                  2  \n",
       "0                            4  2017-03-06                  2  \n",
       "\n",
       "[2 rows x 39 columns]"
      ]
     },
     "execution_count": 168,
     "metadata": {},
     "output_type": "execute_result"
    }
   ],
   "source": [
    "data_participants.loc[data_participants.MID=='A2VRDE2FHCBMF8']"
   ]
  },
  {
   "cell_type": "code",
   "execution_count": 165,
   "metadata": {
    "collapsed": true
   },
   "outputs": [],
   "source": [
    "f1 = '../../questionnaires/hit_batch_2017_4_17_ambiSTAI_Trait_A2VRDE2FHCBMF8.csv'\n",
    "f2 = '../../questionnaires_older_batches/hit_batch_2017_3_6_ambiSTAI_Trait_A2VRDE2FHCBMF8.csv'\n"
   ]
  },
  {
   "cell_type": "code",
   "execution_count": 167,
   "metadata": {},
   "outputs": [
    {
     "data": {
      "text/html": [
       "<div>\n",
       "<table border=\"1\" class=\"dataframe\">\n",
       "  <thead>\n",
       "    <tr style=\"text-align: right;\">\n",
       "      <th></th>\n",
       "      <th>AID</th>\n",
       "      <th>MID</th>\n",
       "      <th>STAI_Trait</th>\n",
       "      <th>STAI_Trait_anx</th>\n",
       "      <th>STAI_Trait_dep</th>\n",
       "      <th>STAI_Trait_had_to_drop_rows</th>\n",
       "      <th>STAI_Trait_unique_responses</th>\n",
       "      <th>date</th>\n",
       "    </tr>\n",
       "  </thead>\n",
       "  <tbody>\n",
       "    <tr>\n",
       "      <th>0</th>\n",
       "      <td>3IJXV6UZ1YOBU5E4OQ2JGV2E4WGIRK</td>\n",
       "      <td>A2VRDE2FHCBMF8</td>\n",
       "      <td>24</td>\n",
       "      <td>7</td>\n",
       "      <td>17</td>\n",
       "      <td>0</td>\n",
       "      <td>4</td>\n",
       "      <td>2017-04-17</td>\n",
       "    </tr>\n",
       "    <tr>\n",
       "      <th>0</th>\n",
       "      <td>3IJXV6UZ1YOBU5E4OQ2JGV2E4WGIRK</td>\n",
       "      <td>A2VRDE2FHCBMF8</td>\n",
       "      <td>28</td>\n",
       "      <td>7</td>\n",
       "      <td>21</td>\n",
       "      <td>0</td>\n",
       "      <td>4</td>\n",
       "      <td>2017-03-06</td>\n",
       "    </tr>\n",
       "  </tbody>\n",
       "</table>\n",
       "</div>"
      ],
      "text/plain": [
       "                              AID             MID  STAI_Trait  STAI_Trait_anx  \\\n",
       "0  3IJXV6UZ1YOBU5E4OQ2JGV2E4WGIRK  A2VRDE2FHCBMF8          24               7   \n",
       "0  3IJXV6UZ1YOBU5E4OQ2JGV2E4WGIRK  A2VRDE2FHCBMF8          28               7   \n",
       "\n",
       "   STAI_Trait_dep  STAI_Trait_had_to_drop_rows  STAI_Trait_unique_responses  \\\n",
       "0              17                            0                            4   \n",
       "0              21                            0                            4   \n",
       "\n",
       "         date  \n",
       "0  2017-04-17  \n",
       "0  2017-03-06  "
      ]
     },
     "execution_count": 167,
     "metadata": {},
     "output_type": "execute_result"
    }
   ],
   "source": [
    "start_data_table_with_questionnaires([f1,f2])"
   ]
  }
 ],
 "metadata": {
  "celltoolbar": "Initialization Cell",
  "hide_input": false,
  "kernelspec": {
   "display_name": "Python 2",
   "language": "python",
   "name": "python2"
  },
  "language_info": {
   "codemirror_mode": {
    "name": "ipython",
    "version": 2
   },
   "file_extension": ".py",
   "mimetype": "text/x-python",
   "name": "python",
   "nbconvert_exporter": "python",
   "pygments_lexer": "ipython2",
   "version": "2.7.13"
  },
  "toc": {
   "colors": {
    "hover_highlight": "#DAA520",
    "navigate_num": "#000000",
    "navigate_text": "#333333",
    "running_highlight": "#FF0000",
    "selected_highlight": "#FFD700",
    "sidebar_border": "#EEEEEE",
    "wrapper_background": "#FFFFFF"
   },
   "moveMenuLeft": true,
   "nav_menu": {
    "height": "343px",
    "width": "253px"
   },
   "navigate_menu": true,
   "number_sections": false,
   "sideBar": true,
   "threshold": 4,
   "toc_cell": false,
   "toc_position": {
    "height": "932px",
    "left": "0px",
    "right": "1422.67px",
    "top": "107px",
    "width": "440px"
   },
   "toc_section_display": "block",
   "toc_window_display": true,
   "widenNotebook": false
  }
 },
 "nbformat": 4,
 "nbformat_minor": 1
}
