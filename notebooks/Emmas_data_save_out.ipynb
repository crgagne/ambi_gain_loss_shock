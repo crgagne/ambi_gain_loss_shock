{
 "cells": [
  {
   "cell_type": "code",
   "execution_count": 2,
   "metadata": {
    "collapsed": true
   },
   "outputs": [],
   "source": [
    "import scipy.io\n",
    "import pandas as pd\n",
    "import numpy as np\n",
    "import glob\n",
    "import pickle\n",
    "import os\n",
    "import matplotlib.pyplot as plt\n",
    "import matplotlib\n",
    "import seaborn as sns\n",
    "%matplotlib inline"
   ]
  },
  {
   "cell_type": "markdown",
   "metadata": {},
   "source": [
    "# Save out Emma's data into a format I can use\n",
    "- get emmma's data from mat file\n",
    "- save out csv files for my model scripts to run. "
   ]
  },
  {
   "cell_type": "code",
   "execution_count": 3,
   "metadata": {},
   "outputs": [
    {
     "name": "stderr",
     "output_type": "stream",
     "text": [
      "/Users/chris/anaconda/lib/python3.6/site-packages/scipy/io/matlab/mio.py:136: MatReadWarning: Duplicate variable name \"None\" in stream - replacing previous with new\n",
      "Consider mio5.varmats_from_mat to split file into single variable files\n",
      "  matfile_dict = MR.get_variables(variable_names)\n"
     ]
    }
   ],
   "source": [
    "dictt = scipy.io.loadmat('../data/data_emmas/DataMatrix_AllfMRI_FinalSubjects.mat')"
   ]
  },
  {
   "cell_type": "code",
   "execution_count": 4,
   "metadata": {},
   "outputs": [
    {
     "data": {
      "text/plain": [
       "array([[  2.5,   2. ,  11. ,   1. ,   5. ,   5. ,   3. ,   2. ,   6. ,\n",
       "          0. ,   5. ,   3. ,   6. ,   2. ,   3. ,  16. ,   6. ,   3. ,\n",
       "          6. ,  12. ,   3. ,   1. ,   0. ,  13. ,   6. ,   0. ,   6.5,\n",
       "          0. ,   2. ,   0. ,  13. ,   0. ]])"
      ]
     },
     "execution_count": 4,
     "metadata": {},
     "output_type": "execute_result"
    }
   ],
   "source": [
    "dictt['BDI_fmri']"
   ]
  },
  {
   "cell_type": "code",
   "execution_count": 5,
   "metadata": {},
   "outputs": [
    {
     "data": {
      "text/plain": [
       "array([[41, 33, 41, 41, 34, 42, 33, 32, 49, 33, 37, 39, 45, 34, 39, 53, 45,\n",
       "        34, 53, 50, 36, 28, 27, 52, 29, 21, 47, 23, 24, 24, 56, 20]], dtype=uint8)"
      ]
     },
     "execution_count": 5,
     "metadata": {},
     "output_type": "execute_result"
    }
   ],
   "source": [
    "dictt['Trait_fmri']"
   ]
  },
  {
   "cell_type": "code",
   "execution_count": 6,
   "metadata": {
    "collapsed": true
   },
   "outputs": [],
   "source": [
    "amb = dictt['ambiguity'][:,0]==1.0"
   ]
  },
  {
   "cell_type": "code",
   "execution_count": 7,
   "metadata": {},
   "outputs": [
    {
     "data": {
      "text/plain": [
       "array([ True,  True,  True,  True,  True,  True,  True,  True,  True,\n",
       "        True,  True,  True,  True,  True,  True,  True,  True,  True,\n",
       "        True,  True,  True,  True,  True,  True,  True,  True,  True,\n",
       "        True,  True,  True,  True,  True,  True,  True,  True,  True,\n",
       "        True,  True,  True,  True,  True,  True,  True,  True,  True,\n",
       "        True,  True,  True,  True,  True,  True,  True,  True,  True,\n",
       "        True,  True,  True,  True,  True,  True,  True,  True,  True,\n",
       "        True,  True,  True,  True,  True,  True,  True,  True,  True,\n",
       "        True,  True,  True,  True,  True,  True,  True,  True,  True,\n",
       "        True,  True,  True,  True,  True,  True,  True,  True,  True,\n",
       "        True,  True,  True,  True,  True,  True], dtype=bool)"
      ]
     },
     "execution_count": 7,
     "metadata": {},
     "output_type": "execute_result"
    }
   ],
   "source": [
    "dictt['choices_unambig'][:,0]==dictt['choices'][amb,0]"
   ]
  },
  {
   "cell_type": "code",
   "execution_count": 8,
   "metadata": {},
   "outputs": [
    {
     "data": {
      "text/plain": [
       "array([ True,  True,  True,  True,  True,  True,  True,  True,  True,\n",
       "        True,  True,  True,  True,  True,  True,  True,  True,  True,\n",
       "        True,  True,  True,  True,  True,  True,  True,  True,  True,\n",
       "        True,  True,  True,  True,  True,  True,  True,  True,  True,\n",
       "        True,  True,  True,  True,  True,  True,  True,  True,  True,\n",
       "        True,  True,  True,  True,  True,  True,  True,  True,  True,\n",
       "        True,  True,  True,  True,  True,  True,  True,  True,  True,\n",
       "        True,  True,  True,  True,  True,  True,  True,  True,  True,\n",
       "        True,  True,  True,  True,  True,  True,  True,  True,  True,\n",
       "        True,  True,  True,  True,  True,  True,  True,  True,  True,\n",
       "        True,  True,  True,  True,  True,  True,  True,  True,  True,\n",
       "        True,  True,  True,  True,  True], dtype=bool)"
      ]
     },
     "execution_count": 8,
     "metadata": {},
     "output_type": "execute_result"
    }
   ],
   "source": [
    "dictt['choices'][~amb,0]==dictt['choices_ambig'][:,0]"
   ]
  },
  {
   "cell_type": "code",
   "execution_count": 9,
   "metadata": {},
   "outputs": [
    {
     "data": {
      "text/plain": [
       "array([1, 0, 1, 1, 1, 0, 1, 0, 0, 0, 1, 1, 0, 0, 0, 0, 1, 0, 0, 1, 0, 1, 0,\n",
       "       1, 1, 0, 0, 1, 0, 0, 1, 1, 1, 0, 0, 0, 1, 0, 0, 0, 0, 1, 0, 0, 1, 1,\n",
       "       0, 0, 0, 1, 0, 0, 1, 1, 0, 1, 1, 0, 1, 0, 0, 1, 0, 1, 0, 0, 0, 1, 1,\n",
       "       0, 0, 1, 1, 0, 0, 1, 1, 1, 0, 1, 0, 1, 0, 0, 1, 0, 0, 1, 0, 0, 0, 0,\n",
       "       1, 0, 1, 1, 0, 0, 0, 0, 1, 0, 0, 1, 0, 1, 0, 0, 1, 0, 1, 1, 1, 0, 0,\n",
       "       0, 0, 0, 1, 0, 1, 0, 0, 1, 0, 0, 0, 0, 1, 0, 0, 0, 0, 1, 0, 0, 0, 1,\n",
       "       1, 1, 0, 1, 1, 1, 0, 0, 1, 1, 0, 0, 0, 0, 1, 0, 0, 0, 1, 0, 0, 0, 0,\n",
       "       0, 0, 0, 0, 1, 1, 1, 1, 0, 0, 1, 1, 0, 1, 0, 0, 1, 0, 0, 0, 0, 0, 0,\n",
       "       1, 0, 0, 1, 1, 0, 0, 1, 1, 0, 0, 1, 0, 0, 0, 0], dtype=uint16)"
      ]
     },
     "execution_count": 9,
     "metadata": {},
     "output_type": "execute_result"
    }
   ],
   "source": [
    "dictt['choices'][:,0]"
   ]
  },
  {
   "cell_type": "code",
   "execution_count": 6,
   "metadata": {
    "collapsed": true
   },
   "outputs": [],
   "source": [
    "# convert data into a form that is useable for my model scripts. \n",
    "MIDs = []\n",
    "for sub in range(32):\n",
    "    trial_array = np.empty((200,8))\n",
    "    \n",
    "    # basic \n",
    "    trial_array[:,0] = dictt['choices'][:,sub] # check this is right/left \n",
    "    trial_array[:,1] =dictt['ProportionNoughts_L'][sub,:]\n",
    "    trial_array[:,2] =dictt['ProportionNoughts_R'][sub,:]\n",
    "    trial_array[:,3] =dictt['Magnitude_Left'][sub,:]/100.0\n",
    "    trial_array[:,4] =dictt['Magnitude_Right'][sub,:]/100.0\n",
    "    trial_array[:,5] =dictt['Ambiguity'][sub,:]\n",
    "    trial_array[:,6] =dictt['no_noughtsrevealedTOSAVEtemp'][:,sub]\n",
    "    trial_array[:,7] =dictt['no_tokensrevealedTOSAVEtemp'][:,sub]\n",
    "    \n",
    "    # make dataFrame\n",
    "    trial_data = pd.DataFrame(data=trial_array,columns=['resp_r_1','prob_o_l','prob_o_r','mag_left','mag_right','info_amb','revealed_o_r','num_revealed'])\n",
    "    \n",
    "    # ambiguous trials (right=ambiguous)\n",
    "    trial_data['info_amb_sqrt']=np.sqrt(trial_data['info_amb'])\n",
    "    trial_data.loc[trial_data['resp_r_1']>1,'resp_r_1']=np.nan\n",
    "    trial_data['resp_amb_1'] = trial_data['resp_r_1']\n",
    "    trial_data['ambig_r']=(trial_data['info_amb_sqrt']!=1).astype('int')\n",
    "    trial_data['ambig_l']=np.zeros(len(trial_data))\n",
    "    trial_data['gain_or_loss_trial']='shock'\n",
    "    trial_data['mag_ambig']=trial_data['mag_right']\n",
    "    trial_data['mag_unambig']=trial_data['mag_left']\n",
    "    # changed this to say 'x' instead of 'o'. (not substantive change)\n",
    "    # for the scripts that hanna wrote\n",
    "    trial_data['prob_x_unambig']=trial_data['prob_o_l']\n",
    "    trial_data['prob_x_ambig']=trial_data['prob_o_r']\n",
    "\n",
    "    trial_data['prob_x_l']=trial_data['prob_o_l'].copy()\n",
    "    trial_data['prob_x_r']=trial_data['prob_o_r'].copy()\n",
    "   \n",
    "    trial_data['prob_o_l']=1.0-trial_data['prob_x_l']\n",
    "    trial_data['prob_o_r']=1.0-trial_data['prob_x_r']\n",
    "    \n",
    "    trial_data['revealed_o_ambig']=trial_data['revealed_o_r'] # right side is ambig\n",
    "    trial_data['revealed_x_ambig']=trial_data['num_revealed']-trial_data['revealed_o_ambig']\n",
    "    trial_data['revealed_ambi']=trial_data['revealed_o_r']\n",
    "    trial_data['prob_x_ambig_bayes']=(trial_data['revealed_o_r']+1)/(trial_data['num_revealed']+2)\n",
    "    \n",
    "    trial_data['ambiguityLevel'] = 1.0 - np.sqrt(trial_data['revealed_o_r'])\n",
    "    trial_data['revealed_ambi']=trial_data['info_amb_sqrt']\n",
    "    \n",
    "    trial_data['gain_or_loss_trial']='gain'\n",
    "    \n",
    "    trial_data['MID']='S'+str(sub)\n",
    "    MIDs.append('S'+str(sub))\n",
    "    \n",
    "    trial_data.to_csv('../data/data_emmas_logfiles_from_mat/S'+str(sub)+'.csv')\n",
    "\n",
    "\n"
   ]
  },
  {
   "cell_type": "code",
   "execution_count": 18,
   "metadata": {},
   "outputs": [
    {
     "data": {
      "text/plain": [
       "array([ 0.34,  0.54,  0.88,  0.24,  0.4 ,  0.08,  0.36,  0.24,  0.24,\n",
       "        0.26,  0.8 ,  0.88,  0.76,  0.44,  0.16,  0.2 ,  0.24,  0.4 ,\n",
       "        0.92,  0.48,  0.12,  0.28,  0.06,  0.76,  0.48,  0.48,  0.54,\n",
       "        0.12,  0.04,  0.08,  0.2 ,  0.4 ,  0.24,  0.44,  0.06,  0.72,\n",
       "        0.28,  0.52,  0.42,  0.48,  0.2 ,  0.66,  0.04,  0.04,  0.4 ,\n",
       "        0.58,  0.46,  0.2 ,  0.6 ,  0.88,  0.52,  0.24,  0.74,  0.52,\n",
       "        0.3 ,  0.72,  0.84,  0.24,  0.52,  0.72,  0.52,  0.4 ,  0.38,\n",
       "        0.92,  0.6 ,  0.62,  0.28,  0.88,  0.92,  0.64,  0.84,  0.64,\n",
       "        0.8 ,  0.24,  0.94,  0.48,  0.72,  0.9 ,  0.68,  0.36,  0.36,\n",
       "        0.66,  0.66,  0.52,  0.46,  0.78,  0.56,  0.76,  0.4 ,  0.52,\n",
       "        0.92,  0.52,  0.8 ,  0.24,  0.96,  0.6 ,  0.76,  0.92,  0.96,\n",
       "        0.8 ,  0.92,  0.72,  0.5 ,  0.48,  0.26,  0.96,  0.48,  0.38,\n",
       "        0.6 ,  0.78,  0.84,  0.64,  0.92,  0.84,  0.56,  0.64,  0.5 ,\n",
       "        0.64,  0.46,  0.32,  0.64,  0.64,  0.6 ,  0.88,  0.38,  0.68,\n",
       "        0.72,  0.84,  0.68,  0.76,  0.68,  0.32,  0.44,  0.6 ,  0.76,\n",
       "        0.32,  0.6 ,  0.76,  0.76,  0.4 ,  0.64,  0.2 ,  0.84,  0.62,\n",
       "        0.72,  0.38,  0.64,  0.76,  0.56,  0.56,  0.74,  0.48,  0.76,\n",
       "        0.72,  0.88,  0.24,  0.12,  0.6 ,  0.52,  0.84,  0.48,  0.38,\n",
       "        0.44,  0.96,  0.96,  0.68,  0.6 ,  0.88,  0.92,  0.96,  0.3 ,\n",
       "        0.28,  0.72,  0.72,  0.96,  0.16,  0.32,  0.58,  0.94,  0.42,\n",
       "        0.12,  0.38,  0.64,  0.28,  0.96,  0.78,  0.36,  0.1 ,  0.92,\n",
       "        0.8 ,  0.44,  0.88,  0.64,  0.42,  0.4 ,  0.6 ,  0.48,  0.66,\n",
       "        0.76,  0.16])"
      ]
     },
     "execution_count": 18,
     "metadata": {},
     "output_type": "execute_result"
    }
   ],
   "source": [
    "dictt['ProportionNoughts_L'][0,:]"
   ]
  }
 ],
 "metadata": {
  "hide_input": false,
  "kernelspec": {
   "display_name": "Python 3",
   "language": "python",
   "name": "python3"
  },
  "toc": {
   "nav_menu": {
    "height": "65px",
    "width": "253px"
   },
   "number_sections": false,
   "sideBar": true,
   "skip_h1_title": false,
   "toc_cell": false,
   "toc_position": {
    "height": "1056px",
    "left": "0px",
    "right": "1822.5px",
    "top": "114px",
    "width": "273px"
   },
   "toc_section_display": "block",
   "toc_window_display": true
  }
 },
 "nbformat": 4,
 "nbformat_minor": 1
}
