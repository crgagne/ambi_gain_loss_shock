{
 "cells": [
  {
   "cell_type": "markdown",
   "metadata": {},
   "source": [
    "- Model single model - use categorical and continuous \n",
    "    - see whether that weird inverse relationship still is there. \n",
    "    - See whether gain/loss/shock asymmetry still exists in these models. \n"
   ]
  },
  {
   "cell_type": "code",
   "execution_count": 150,
   "metadata": {},
   "outputs": [],
   "source": [
    "import os\n",
    "import pandas as pd\n",
    "import numpy as np\n",
    "import matplotlib.pyplot as plt\n",
    "import matplotlib\n",
    "%matplotlib inline\n",
    "import seaborn as sns\n",
    "import statsmodels.api as sm\n",
    "from patsy import dmatrices\n",
    "import scipy.stats as ss"
   ]
  },
  {
   "cell_type": "code",
   "execution_count": 151,
   "metadata": {
    "collapsed": true
   },
   "outputs": [],
   "source": [
    "import sys\n",
    "sys.path.append(\"../functions/\")\n",
    "#for data preprocessing\n",
    "import Scripts_Data_Processing\n",
    "import imp\n",
    "\n",
    "imp.reload(Scripts_Data_Processing)\n",
    "from Scripts_Data_Processing import *\n",
    "#for model fit\n",
    "import Scripts_LogRegModels_v2\n",
    "imp.reload(Scripts_LogRegModels_v2)\n",
    "from Scripts_LogRegModels_v2 import *\n",
    "\n",
    "import NoBrainer_Analysis_AllinOne\n",
    "imp.reload( NoBrainer_Analysis_AllinOne)\n",
    "from  NoBrainer_Analysis_AllinOne import *\n",
    "\n",
    "import Correlation_bw_triplets\n",
    "imp.reload( Correlation_bw_triplets)\n",
    "from  Correlation_bw_triplets import *\n",
    "\n",
    "import Single_LogRegModels\n",
    "imp.reload(Single_LogRegModels)\n",
    "from Single_LogRegModels import fit_model_singRL\n",
    "\n",
    "import Wrappers\n",
    "imp.reload(Wrappers)\n",
    "from Wrappers import *\n",
    "\n",
    "from Exclusion import *\n",
    "\n",
    "import Plot_models\n",
    "imp.reload(Plot_models)\n",
    "from Plot_models import *\n"
   ]
  },
  {
   "cell_type": "code",
   "execution_count": 152,
   "metadata": {},
   "outputs": [],
   "source": [
    "# We don't actually need no brainers for this analysis - I'm excluding manually. \n",
    "# for gain/loss\n",
    "#vp_list = ['06', '07', '10', '11', '12', '13', '15', '16', '17', '18', '19', '20', '22', '23_2', '25_2', '26_2', '27_2', '28_2', '29', '30']\n",
    "# for shock\n",
    "#vp_list = ['06', '07', '10', '11', '12', '13', '15', '16', '17', '18', '19', '20', '22', '23', '25', '26', '27', '28', '29', '30']\n",
    "#df_nobrainer = all_subs_no_brainer(vp_list,'shock')\n",
    "#df_nobrainer.head()"
   ]
  },
  {
   "cell_type": "markdown",
   "metadata": {},
   "source": [
    "### Fitting a single subject\n",
    "\n",
    "- ** need to add shock to this model ** "
   ]
  },
  {
   "cell_type": "code",
   "execution_count": 153,
   "metadata": {},
   "outputs": [
    {
     "data": {
      "text/html": [
       "<table class=\"simpletable\">\n",
       "<caption>Logit Regression Results</caption>\n",
       "<tr>\n",
       "  <th>Dep. Variable:</th>         <td>y</td>        <th>  No. Observations:  </th>  <td>   150</td>  \n",
       "</tr>\n",
       "<tr>\n",
       "  <th>Model:</th>               <td>Logit</td>      <th>  Df Residuals:      </th>  <td>   145</td>  \n",
       "</tr>\n",
       "<tr>\n",
       "  <th>Method:</th>               <td>MLE</td>       <th>  Df Model:          </th>  <td>     4</td>  \n",
       "</tr>\n",
       "<tr>\n",
       "  <th>Date:</th>          <td>Thu, 07 Dec 2017</td> <th>  Pseudo R-squ.:     </th>  <td>0.5914</td>  \n",
       "</tr>\n",
       "<tr>\n",
       "  <th>Time:</th>              <td>11:22:39</td>     <th>  Log-Likelihood:    </th> <td> -42.434</td> \n",
       "</tr>\n",
       "<tr>\n",
       "  <th>converged:</th>           <td>True</td>       <th>  LL-Null:           </th> <td> -103.85</td> \n",
       "</tr>\n",
       "<tr>\n",
       "  <th> </th>                      <td> </td>        <th>  LLR p-value:       </th> <td>1.324e-25</td>\n",
       "</tr>\n",
       "</table>\n",
       "<table class=\"simpletable\">\n",
       "<tr>\n",
       "               <td></td>                 <th>coef</th>     <th>std err</th>      <th>z</th>      <th>P>|z|</th>  <th>[0.025</th>    <th>0.975]</th>  \n",
       "</tr>\n",
       "<tr>\n",
       "  <th>intercept_r</th>                <td>   -0.2472</td> <td>    0.279</td> <td>   -0.887</td> <td> 0.375</td> <td>   -0.793</td> <td>    0.299</td>\n",
       "</tr>\n",
       "<tr>\n",
       "  <th>mag_diff_rl</th>                <td>   -1.4936</td> <td>    0.452</td> <td>   -3.306</td> <td> 0.001</td> <td>   -2.379</td> <td>   -0.608</td>\n",
       "</tr>\n",
       "<tr>\n",
       "  <th>prob_diff_rl</th>               <td>   -4.3458</td> <td>    0.787</td> <td>   -5.519</td> <td> 0.000</td> <td>   -5.889</td> <td>   -2.802</td>\n",
       "</tr>\n",
       "<tr>\n",
       "  <th>ambig_present_diff_rl</th>      <td>    0.9723</td> <td>    0.680</td> <td>    1.429</td> <td> 0.153</td> <td>   -0.361</td> <td>    2.306</td>\n",
       "</tr>\n",
       "<tr>\n",
       "  <th>sqrt_prop_revealed_diff_rl</th> <td>   -2.5225</td> <td>    0.772</td> <td>   -3.269</td> <td> 0.001</td> <td>   -4.035</td> <td>   -1.010</td>\n",
       "</tr>\n",
       "</table>"
      ],
      "text/plain": [
       "<class 'statsmodels.iolib.summary.Summary'>\n",
       "\"\"\"\n",
       "                           Logit Regression Results                           \n",
       "==============================================================================\n",
       "Dep. Variable:                      y   No. Observations:                  150\n",
       "Model:                          Logit   Df Residuals:                      145\n",
       "Method:                           MLE   Df Model:                            4\n",
       "Date:                Thu, 07 Dec 2017   Pseudo R-squ.:                  0.5914\n",
       "Time:                        11:22:39   Log-Likelihood:                -42.434\n",
       "converged:                       True   LL-Null:                       -103.85\n",
       "                                        LLR p-value:                 1.324e-25\n",
       "==============================================================================================\n",
       "                                 coef    std err          z      P>|z|      [0.025      0.975]\n",
       "----------------------------------------------------------------------------------------------\n",
       "intercept_r                   -0.2472      0.279     -0.887      0.375      -0.793       0.299\n",
       "mag_diff_rl                   -1.4936      0.452     -3.306      0.001      -2.379      -0.608\n",
       "prob_diff_rl                  -4.3458      0.787     -5.519      0.000      -5.889      -2.802\n",
       "ambig_present_diff_rl          0.9723      0.680      1.429      0.153      -0.361       2.306\n",
       "sqrt_prop_revealed_diff_rl    -2.5225      0.772     -3.269      0.001      -4.035      -1.010\n",
       "==============================================================================================\n",
       "\"\"\""
      ]
     },
     "execution_count": 153,
     "metadata": {},
     "output_type": "execute_result"
    }
   ],
   "source": [
    "# loading data\n",
    "task = 'shock'\n",
    "df = load_single_subject('11',task=task)\n",
    "\n",
    "# key-word arguments\n",
    "kwargs = {}  \n",
    "#kwargs['params']=['mag_diff_rl','prob_diff_rl','ambig_present']\n",
    "#kwargs['params']=['mag_diff_rl','prob_diff_rl','sqrt_prop_revealed']\n",
    "kwargs['params']=['mag_diff_rl','prob_diff_rl','ambig_present','sqrt_prop_revealed']\n",
    "kwargs['task']=task\n",
    "\n",
    "# fitting model \n",
    "out = fit_model_singRL(df,**kwargs)\n",
    "out['results'].summary()"
   ]
  },
  {
   "cell_type": "markdown",
   "metadata": {},
   "source": [
    "### Fitting all subjects\n"
   ]
  },
  {
   "cell_type": "code",
   "execution_count": 165,
   "metadata": {
    "collapsed": true
   },
   "outputs": [],
   "source": [
    "kwargs = {}\n",
    "kwargs['params']=['mag_diff_rl','prob_diff_rl','ambig_present','sqrt_prop_revealed']\n",
    "kwargs['params']=['mag_diff_rl','prob_diff_rl','ambig_present']\n",
    "kwargs['params']=['mag_diff_rl','prob_diff_rl','sqrt_prop_revealed']\n"
   ]
  },
  {
   "cell_type": "code",
   "execution_count": 166,
   "metadata": {},
   "outputs": [],
   "source": [
    "# for gain\n",
    "kwargs['task']='gain'\n",
    "vp_list = ['06', '07', '10', '11', '12', '13', '15', '16', '17', '18', '19', '20', '22', '23_2', '25_2', '26_2', '27_2', '28_2', '29', '30']\n",
    "model_summary_df_g, model_param_df_g=all_subs_model_fits(vp_list,fit_model_singRL,kwargs)\n",
    "\n"
   ]
  },
  {
   "cell_type": "code",
   "execution_count": 167,
   "metadata": {
    "collapsed": true
   },
   "outputs": [],
   "source": [
    "# for gain/loss\n",
    "kwargs['task']='loss'\n",
    "vp_list = ['06', '07', '10', '11', '12', '13', '15', '16', '17', '18', '19', '20', '22', '23_2', '25_2', '26_2', '27_2', '28_2', '29', '30']\n",
    "model_summary_df_l, model_param_df_l=all_subs_model_fits(vp_list,fit_model_singRL,kwargs)\n"
   ]
  },
  {
   "cell_type": "code",
   "execution_count": 168,
   "metadata": {},
   "outputs": [],
   "source": [
    "# for shock\n",
    "kwargs['task']='shock'\n",
    "vp_list = ['06', '07', '10', '11', '12', '13', '15', '16', '17', '18', '19', '20', '22', '23', '25', '26', '27', '28', '29', '30']\n",
    "model_summary_df_s, model_param_df_s=all_subs_model_fits(vp_list,fit_model_singRL,kwargs)"
   ]
  },
  {
   "cell_type": "code",
   "execution_count": 169,
   "metadata": {},
   "outputs": [],
   "source": [
    "# stacking all the df's for a single model \n",
    "model_param_df = pd.concat((model_param_df_l,model_param_df_g,model_param_df_s))\n",
    "model_summary_df = pd.concat((model_summary_df_l,model_summary_df_g,model_summary_df_s))"
   ]
  },
  {
   "cell_type": "code",
   "execution_count": 170,
   "metadata": {},
   "outputs": [
    {
     "data": {
      "text/html": [
       "<div>\n",
       "<style>\n",
       "    .dataframe thead tr:only-child th {\n",
       "        text-align: right;\n",
       "    }\n",
       "\n",
       "    .dataframe thead th {\n",
       "        text-align: left;\n",
       "    }\n",
       "\n",
       "    .dataframe tbody tr th {\n",
       "        vertical-align: top;\n",
       "    }\n",
       "</style>\n",
       "<table border=\"1\" class=\"dataframe\">\n",
       "  <thead>\n",
       "    <tr style=\"text-align: right;\">\n",
       "      <th></th>\n",
       "      <th>MID</th>\n",
       "      <th>parameter</th>\n",
       "      <th>beta</th>\n",
       "      <th>se</th>\n",
       "      <th>task</th>\n",
       "    </tr>\n",
       "  </thead>\n",
       "  <tbody>\n",
       "    <tr>\n",
       "      <th>1</th>\n",
       "      <td>vp06</td>\n",
       "      <td>intercept_r</td>\n",
       "      <td>-0.061001</td>\n",
       "      <td>0.192275138247</td>\n",
       "      <td>loss</td>\n",
       "    </tr>\n",
       "    <tr>\n",
       "      <th>2</th>\n",
       "      <td>vp06</td>\n",
       "      <td>mag_diff_rl</td>\n",
       "      <td>1.961943</td>\n",
       "      <td>0.392618031585</td>\n",
       "      <td>loss</td>\n",
       "    </tr>\n",
       "    <tr>\n",
       "      <th>3</th>\n",
       "      <td>vp06</td>\n",
       "      <td>prob_diff_rl</td>\n",
       "      <td>-0.541789</td>\n",
       "      <td>0.261913340928</td>\n",
       "      <td>loss</td>\n",
       "    </tr>\n",
       "    <tr>\n",
       "      <th>4</th>\n",
       "      <td>vp06</td>\n",
       "      <td>sqrt_prop_revealed_diff_rl</td>\n",
       "      <td>0.080113</td>\n",
       "      <td>0.191073697039</td>\n",
       "      <td>loss</td>\n",
       "    </tr>\n",
       "    <tr>\n",
       "      <th>5</th>\n",
       "      <td>vp07</td>\n",
       "      <td>intercept_r</td>\n",
       "      <td>0.233115</td>\n",
       "      <td>0.202123160062</td>\n",
       "      <td>loss</td>\n",
       "    </tr>\n",
       "  </tbody>\n",
       "</table>\n",
       "</div>"
      ],
      "text/plain": [
       "    MID                   parameter      beta              se  task\n",
       "1  vp06                 intercept_r -0.061001  0.192275138247  loss\n",
       "2  vp06                 mag_diff_rl  1.961943  0.392618031585  loss\n",
       "3  vp06                prob_diff_rl -0.541789  0.261913340928  loss\n",
       "4  vp06  sqrt_prop_revealed_diff_rl  0.080113  0.191073697039  loss\n",
       "5  vp07                 intercept_r  0.233115  0.202123160062  loss"
      ]
     },
     "execution_count": 170,
     "metadata": {},
     "output_type": "execute_result"
    }
   ],
   "source": [
    "model_param_df.head()"
   ]
  },
  {
   "cell_type": "code",
   "execution_count": 171,
   "metadata": {},
   "outputs": [
    {
     "data": {
      "text/html": [
       "<div>\n",
       "<style>\n",
       "    .dataframe thead tr:only-child th {\n",
       "        text-align: right;\n",
       "    }\n",
       "\n",
       "    .dataframe thead th {\n",
       "        text-align: left;\n",
       "    }\n",
       "\n",
       "    .dataframe tbody tr th {\n",
       "        vertical-align: top;\n",
       "    }\n",
       "</style>\n",
       "<table border=\"1\" class=\"dataframe\">\n",
       "  <thead>\n",
       "    <tr style=\"text-align: right;\">\n",
       "      <th></th>\n",
       "      <th>MID</th>\n",
       "      <th>bic</th>\n",
       "      <th>aic</th>\n",
       "      <th>pseudoR2</th>\n",
       "      <th>pred_acc</th>\n",
       "      <th>llr_pvalue</th>\n",
       "      <th>task</th>\n",
       "    </tr>\n",
       "  </thead>\n",
       "  <tbody>\n",
       "    <tr>\n",
       "      <th>0</th>\n",
       "      <td>vp06</td>\n",
       "      <td>180.073339</td>\n",
       "      <td>168.030797</td>\n",
       "      <td>0.229525</td>\n",
       "      <td>0.746667</td>\n",
       "      <td>2.499152e-10</td>\n",
       "      <td>loss</td>\n",
       "    </tr>\n",
       "    <tr>\n",
       "      <th>1</th>\n",
       "      <td>vp07</td>\n",
       "      <td>169.923122</td>\n",
       "      <td>157.880581</td>\n",
       "      <td>0.276907</td>\n",
       "      <td>0.766667</td>\n",
       "      <td>2.114891e-12</td>\n",
       "      <td>loss</td>\n",
       "    </tr>\n",
       "    <tr>\n",
       "      <th>2</th>\n",
       "      <td>vp10</td>\n",
       "      <td>151.068852</td>\n",
       "      <td>139.026311</td>\n",
       "      <td>0.365906</td>\n",
       "      <td>0.820000</td>\n",
       "      <td>2.682357e-16</td>\n",
       "      <td>loss</td>\n",
       "    </tr>\n",
       "    <tr>\n",
       "      <th>3</th>\n",
       "      <td>vp11</td>\n",
       "      <td>151.537610</td>\n",
       "      <td>139.495069</td>\n",
       "      <td>0.367318</td>\n",
       "      <td>0.820000</td>\n",
       "      <td>1.867932e-16</td>\n",
       "      <td>loss</td>\n",
       "    </tr>\n",
       "    <tr>\n",
       "      <th>4</th>\n",
       "      <td>vp12</td>\n",
       "      <td>135.438607</td>\n",
       "      <td>123.396066</td>\n",
       "      <td>0.444421</td>\n",
       "      <td>0.813333</td>\n",
       "      <td>6.994515e-20</td>\n",
       "      <td>loss</td>\n",
       "    </tr>\n",
       "  </tbody>\n",
       "</table>\n",
       "</div>"
      ],
      "text/plain": [
       "    MID         bic         aic  pseudoR2  pred_acc    llr_pvalue  task\n",
       "0  vp06  180.073339  168.030797  0.229525  0.746667  2.499152e-10  loss\n",
       "1  vp07  169.923122  157.880581  0.276907  0.766667  2.114891e-12  loss\n",
       "2  vp10  151.068852  139.026311  0.365906  0.820000  2.682357e-16  loss\n",
       "3  vp11  151.537610  139.495069  0.367318  0.820000  1.867932e-16  loss\n",
       "4  vp12  135.438607  123.396066  0.444421  0.813333  6.994515e-20  loss"
      ]
     },
     "execution_count": 171,
     "metadata": {},
     "output_type": "execute_result"
    }
   ],
   "source": [
    "model_summary_df.head()"
   ]
  },
  {
   "cell_type": "markdown",
   "metadata": {},
   "source": [
    "### Drop bad subjects"
   ]
  },
  {
   "cell_type": "code",
   "execution_count": 172,
   "metadata": {},
   "outputs": [],
   "source": [
    "model_param_df = exclude_subjects_manually(model_param_df)\n",
    "model_summary_df= exclude_subjects_manually(model_summary_df)"
   ]
  },
  {
   "cell_type": "markdown",
   "metadata": {},
   "source": [
    "### Bar Plots to see if we still get different ambiguity parameters for gain/loss/shock"
   ]
  },
  {
   "cell_type": "code",
   "execution_count": 173,
   "metadata": {},
   "outputs": [
    {
     "data": {
      "image/png": "[encoded data removed]",
      "text/plain": [
       "<matplotlib.figure.Figure at 0x11b4a69b0>"
      ]
     },
     "metadata": {},
     "output_type": "display_data"
    }
   ],
   "source": [
    "model_param_df['condition']=model_param_df['task']\n",
    "fig = plot_params_bar(model_param_df,order=['gain','loss','shock'])"
   ]
  },
  {
   "cell_type": "markdown",
   "metadata": {},
   "source": [
    "### Plotting Scatter Plots to see if weird correlations still exist"
   ]
  },
  {
   "cell_type": "code",
   "execution_count": null,
   "metadata": {
    "collapsed": true
   },
   "outputs": [],
   "source": []
  }
 ],
 "metadata": {
  "hide_input": false,
  "kernelspec": {
   "display_name": "Python 3",
   "language": "python",
   "name": "python3"
  },
  "language_info": {
   "codemirror_mode": {
    "name": "ipython",
    "version": 3
   },
   "file_extension": ".py",
   "mimetype": "text/x-python",
   "name": "python",
   "nbconvert_exporter": "python",
   "pygments_lexer": "ipython3",
   "version": "3.6.1"
  },
  "toc": {
   "nav_menu": {},
   "number_sections": true,
   "sideBar": true,
   "skip_h1_title": false,
   "toc_cell": false,
   "toc_position": {},
   "toc_section_display": "block",
   "toc_window_display": false
  }
 },
 "nbformat": 4,
 "nbformat_minor": 2
}
