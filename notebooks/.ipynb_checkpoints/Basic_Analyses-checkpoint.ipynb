{
 "cells": [
  {
   "cell_type": "markdown",
   "metadata": {},
   "source": [
    "# Basic Analyses:\n",
    "  \n",
    "To-DO: \n",
    "- decide which subjects to exclude. \n",
    "\n",
    "- replot the regression coefficients. \n",
    "- correlate intercept model parameters across sessions \n",
    "- read in the stai data."
   ]
  },
  {
   "cell_type": "code",
   "execution_count": 1,
   "metadata": {
    "collapsed": true
   },
   "outputs": [],
   "source": [
    "import os\n",
    "import pandas as pd\n",
    "import numpy as np\n",
    "import matplotlib.pyplot as plt\n",
    "import matplotlib\n",
    "%matplotlib inline\n",
    "import seaborn as sns\n"
   ]
  },
  {
   "cell_type": "code",
   "execution_count": 20,
   "metadata": {
    "collapsed": true
   },
   "outputs": [],
   "source": [
    "import sys\n",
    "sys.path.append(\"../functions/\")\n",
    "#for data preprocessing\n",
    "import Scripts_Data_Processing\n",
    "import imp\n",
    "\n",
    "imp.reload(Scripts_Data_Processing)\n",
    "from Scripts_Data_Processing import *\n",
    "#for model fit\n",
    "import Scripts_LogRegModels_v2\n",
    "imp.reload(Scripts_LogRegModels_v2)\n",
    "from Scripts_LogRegModels_v2 import *\n",
    "\n",
    "import NoBrainer_Analysis_AllinOne\n",
    "imp.reload( NoBrainer_Analysis_AllinOne)\n",
    "from  NoBrainer_Analysis_AllinOne import *"
   ]
  },
  {
   "cell_type": "code",
   "execution_count": 4,
   "metadata": {
    "collapsed": true
   },
   "outputs": [],
   "source": [
    "# first version of the function without bars being split\n",
    "def plot_params_first_version(df,stripplot=False,outlier_cutoff=None,task='shock'):\n",
    "    plt.style.use(['seaborn-white', 'seaborn-paper'])\n",
    "    matplotlib.rc(\"font\", family=\"Times New Roman\")\n",
    "    sns.set_context('talk')\n",
    "    sns.set_style('white',{'figure.facecolor':'white'})\n",
    "    \n",
    "    \n",
    "    if outlier_cutoff is not None:\n",
    "        df = df[(df.beta>-1.0*outlier_cutoff)&(df.beta<outlier_cutoff)]\n",
    "    \n",
    "    axis = sns.barplot(x='parameter',y='beta',data=df,color=[.4,.4,.4],ci=95,alpha=0.4)\n",
    "    \n",
    "    if stripplot:\n",
    "        sns.stripplot(x=\"parameter\", y=\"beta\", data=df,color=[.4,.4,.4],alpha=0.2,jitter=True);\n",
    "\n",
    "        \n",
    "    current_palette=sns.color_palette()\n",
    "    fig = plt.gcf()\n",
    "    fig.suptitle('Model Parameters: '+modelname+' '+task,fontsize=12,x=0.55)\n",
    "    sns.despine(ax=axis)\n",
    "    axis.set_ylabel('beta (Prob Choose Right (except on Ambig))',fontsize=12)\n",
    "    axis.set_xlabel('parameter',fontsize=12)\n",
    "    axis.set_xticklabels(df.parameter.unique(),rotation=45,fontsize=12,ha='right')\n",
    "    axis = plt.gca()\n",
    "    \n",
    "    # change name if needed\n",
    "    xlabels = axis.get_xticklabels()\n",
    "\n",
    "    fig.suptitle('')\n",
    "    axis.set_title('Model Parameters (Across all Subjects)')\n",
    "    axis.set_xlabel('Parameter')\n",
    "    axis.set_ylabel('Group Regression Coefficients \\n (Probability Choosing Ambig)')\n",
    "    plt.tight_layout()\n",
    "    return(fig)"
   ]
  },
  {
   "cell_type": "code",
   "execution_count": 5,
   "metadata": {
    "collapsed": true
   },
   "outputs": [],
   "source": [
    "# second version of the function with bar graphs being split\n",
    "def plot_params(df,stripplot=False,outlier_cutoff=None):\n",
    "    plt.style.use(['seaborn-white', 'seaborn-paper'])\n",
    "    matplotlib.rc(\"font\", family=\"Times New Roman\")\n",
    "    sns.set_context('talk')\n",
    "    sns.set_style('white',{'figure.facecolor':'white'})\n",
    "    \n",
    "    \n",
    "    if outlier_cutoff is not None:\n",
    "        df = df[(df.beta>-1.0*outlier_cutoff)&(df.beta<outlier_cutoff)]\n",
    "    \n",
    "    axis = sns.barplot(x='parameter',y='beta',hue='split',data=df,ci=95,alpha=0.4)\n",
    "    \n",
    "    if stripplot:\n",
    "        sns.stripplot(x=\"parameter\", y=\"beta\",hue='split', data=df,alpha=0.2,jitter=True);\n",
    "\n",
    "    current_palette=sns.color_palette()\n",
    "    fig = plt.gcf()\n",
    "    fig.suptitle('Model Parameters:',fontsize=12,x=0.55)\n",
    "    sns.despine(ax=axis)\n",
    "    axis.set_ylabel('beta (Prob Choose Right (except on Ambig))',fontsize=12)\n",
    "    axis.set_xlabel('parameter',fontsize=12)\n",
    "    axis.set_xticklabels(df.parameter.unique(),rotation=45,fontsize=12,ha='right')\n",
    "    axis = plt.gca()\n",
    "    plt.legend(bbox_to_anchor=(1.05, 1), loc=2, borderaxespad=0.)\n",
    "\n",
    "    \n",
    "    # change name if needed\n",
    "    #xlabels = axis.get_xticklabels()\n",
    "\n",
    "    #fig.suptitle('')\n",
    "    #axis.set_title('Model Parameters (Across all Subjects)')\n",
    "    #axis.set_xlabel('Parameter')\n",
    "    #axis.set_ylabel('Group Regression Coefficients \\n (Probability Choosing Ambig)')\n",
    "    #plt.tight_layout()\n",
    "    return(fig)"
   ]
  },
  {
   "cell_type": "markdown",
   "metadata": {},
   "source": [
    "# gainloss load in single subjectdata + nobrainer"
   ]
  },
  {
   "cell_type": "code",
   "execution_count": 6,
   "metadata": {
    "collapsed": false,
    "scrolled": true
   },
   "outputs": [
    {
     "name": "stderr",
     "output_type": "stream",
     "text": [
      "../functions/NoBrainer_Analysis_AllinOne.py:30: SettingWithCopyWarning: \n",
      "A value is trying to be set on a copy of a slice from a DataFrame.\n",
      "Try using .loc[row_indexer,col_indexer] = value instead\n",
      "\n",
      "See the caveats in the documentation: http://pandas.pydata.org/pandas-docs/stable/indexing.html#indexing-view-versus-copy\n",
      "  df['left_better']=left_better\n",
      "../functions/NoBrainer_Analysis_AllinOne.py:31: SettingWithCopyWarning: \n",
      "A value is trying to be set on a copy of a slice from a DataFrame.\n",
      "Try using .loc[row_indexer,col_indexer] = value instead\n",
      "\n",
      "See the caveats in the documentation: http://pandas.pydata.org/pandas-docs/stable/indexing.html#indexing-view-versus-copy\n",
      "  df['right_better']=right_better\n",
      "../functions/NoBrainer_Analysis_AllinOne.py:49: SettingWithCopyWarning: \n",
      "A value is trying to be set on a copy of a slice from a DataFrame.\n",
      "Try using .loc[row_indexer,col_indexer] = value instead\n",
      "\n",
      "See the caveats in the documentation: http://pandas.pydata.org/pandas-docs/stable/indexing.html#indexing-view-versus-copy\n",
      "  df['choseBetter'] = (df['resp'] == 'left') & (df['left_better']== True) | (df['resp'] == 'right') & (df['right_better']==True)\n",
      "../functions/NoBrainer_Analysis_AllinOne.py:55: SettingWithCopyWarning: \n",
      "A value is trying to be set on a copy of a slice from a DataFrame.\n",
      "Try using .loc[row_indexer,col_indexer] = value instead\n",
      "\n",
      "See the caveats in the documentation: http://pandas.pydata.org/pandas-docs/stable/indexing.html#indexing-view-versus-copy\n",
      "  df['noBrainer'] = (df['right_better'] != df['left_better'])\n"
     ]
    }
   ],
   "source": [
    "df_list = []\n",
    "vp_perform_gainloss_list = []\n",
    "vp_nb_gainloss_list = []\n",
    "vp_list = ['06', '07', '10', '11', '12', '13', '15', '16', '17', '18', '19', '20', '22', '23_2', '25_2', '26_2', '27_2', '28_2', '29', '30']\n",
    "for vp in vp_list:\n",
    "    path = os.path.join(os.getcwd(),'..','data','data_gainloss_logfiles','vp' + vp + '_gainloss_processed.csv')\n",
    "    df = pd.read_csv(path, sep=\",\")\n",
    "    #preprocess gainloss data\n",
    "    df=preprocess_gainloss(df)\n",
    "    #preprocess data\n",
    "    df = preprocess(df)\n",
    "    #store prepocessed data in list that contains data for all subjects (for later analysis)\n",
    "    df_list.append(df)\n",
    "    #create subset with unambiguous trials for no brainer analysis\n",
    "    nb_df = drop_ambi_trials(df)\n",
    "    #create variables indicating whether left or right was the better option\n",
    "    better_choice_gainloss(nb_df)\n",
    "    #indicate whether the better box was chosen\n",
    "    nb_df = right_choice(nb_df)\n",
    "    #only keep trials that are 'no brainers'\n",
    "    nb_df = keep_nobrainers(nb_df)\n",
    "    #calculate performance\n",
    "    vp_perform_gainloss = ['vp' + vp, vp_perf(nb_df)]\n",
    "    #store each vp performance in list\n",
    "    vp_perform_gainloss_list.append(vp_perform_gainloss)\n",
    "    #vp performance sectionwise\n",
    "    vp_nb_gainloss = nb_df.groupby('section').mean().add_prefix('gainloss_')[['gainloss_choseBetter']]\n",
    "    vp_nb_gainloss['MID'] = 'vp'+ vp\n",
    "    vp_nb_gainloss_list.append(vp_nb_gainloss)\n",
    "    \n",
    "#make dataframe for nb performance\n",
    "nobrainer_gainloss = pd.DataFrame(vp_perform_gainloss_list,columns=['MID','nbperf'])\n",
    "\n",
    "#dataframe for single subject (last one) to try out code\n",
    "gainloss_ls_df = df\n"
   ]
  },
  {
   "cell_type": "code",
   "execution_count": 12,
   "metadata": {
    "collapsed": false
   },
   "outputs": [
    {
     "data": {
      "text/plain": [
       "[         gainloss_choseBetter   MID\n",
       " section                            \n",
       " 1                    0.888889  vp07\n",
       " 2                    1.000000  vp07\n",
       " 3                    1.000000  vp07]"
      ]
     },
     "execution_count": 12,
     "metadata": {},
     "output_type": "execute_result"
    }
   ],
   "source": [
    "vp_nb_gainloss_list[1:2]"
   ]
  },
  {
   "cell_type": "markdown",
   "metadata": {},
   "source": [
    "## Create preprocessed dataframe with all vp"
   ]
  },
  {
   "cell_type": "code",
   "execution_count": 9,
   "metadata": {
    "collapsed": true
   },
   "outputs": [],
   "source": [
    "#Merge dataframe list to single dataframe. \"inner\": Just take columns which exist in all dataframes    \n",
    "gainloss_df = pd.concat(df_list, ignore_index = True, join = 'inner')  "
   ]
  },
  {
   "cell_type": "code",
   "execution_count": 11,
   "metadata": {
    "collapsed": false
   },
   "outputs": [
    {
     "name": "stdout",
     "output_type": "stream",
     "text": [
      "6000\n"
     ]
    },
    {
     "data": {
      "text/html": [
       "<div>\n",
       "<style>\n",
       "    .dataframe thead tr:only-child th {\n",
       "        text-align: right;\n",
       "    }\n",
       "\n",
       "    .dataframe thead th {\n",
       "        text-align: left;\n",
       "    }\n",
       "\n",
       "    .dataframe tbody tr th {\n",
       "        vertical-align: top;\n",
       "    }\n",
       "</style>\n",
       "<table border=\"1\" class=\"dataframe\">\n",
       "  <thead>\n",
       "    <tr style=\"text-align: right;\">\n",
       "      <th></th>\n",
       "      <th>MID</th>\n",
       "      <th>trial_number</th>\n",
       "      <th>start_date</th>\n",
       "      <th>trialstart</th>\n",
       "      <th>outcome</th>\n",
       "      <th>reaction_time</th>\n",
       "      <th>totalpoints</th>\n",
       "      <th>resp</th>\n",
       "      <th>revealed_left</th>\n",
       "      <th>revealed_right</th>\n",
       "      <th>...</th>\n",
       "      <th>ambig_r</th>\n",
       "      <th>resp_r_1</th>\n",
       "      <th>resp_amb_1</th>\n",
       "      <th>mag_ambig</th>\n",
       "      <th>mag_unambig</th>\n",
       "      <th>prob_x_ambig_bayes</th>\n",
       "      <th>prob_x_unambig</th>\n",
       "      <th>gain_or_loss_trial</th>\n",
       "      <th>revealed_x_ambig</th>\n",
       "      <th>revealed_o_ambig</th>\n",
       "    </tr>\n",
       "  </thead>\n",
       "  <tbody>\n",
       "    <tr>\n",
       "      <th>0</th>\n",
       "      <td>vp06</td>\n",
       "      <td>1</td>\n",
       "      <td>2017-09-22 00:31:53</td>\n",
       "      <td>1506040310356</td>\n",
       "      <td>X</td>\n",
       "      <td>3000</td>\n",
       "      <td>1000</td>\n",
       "      <td>left</td>\n",
       "      <td>1.0</td>\n",
       "      <td>1.0</td>\n",
       "      <td>...</td>\n",
       "      <td>NaN</td>\n",
       "      <td>0.0</td>\n",
       "      <td>NaN</td>\n",
       "      <td>NaN</td>\n",
       "      <td>NaN</td>\n",
       "      <td>NaN</td>\n",
       "      <td>NaN</td>\n",
       "      <td>gain</td>\n",
       "      <td>NaN</td>\n",
       "      <td>NaN</td>\n",
       "    </tr>\n",
       "    <tr>\n",
       "      <th>1</th>\n",
       "      <td>vp06</td>\n",
       "      <td>2</td>\n",
       "      <td>2017-09-22 00:32:01</td>\n",
       "      <td>1506040318371</td>\n",
       "      <td>X</td>\n",
       "      <td>2441</td>\n",
       "      <td>1000</td>\n",
       "      <td>right</td>\n",
       "      <td>1.0</td>\n",
       "      <td>1.0</td>\n",
       "      <td>...</td>\n",
       "      <td>NaN</td>\n",
       "      <td>1.0</td>\n",
       "      <td>NaN</td>\n",
       "      <td>NaN</td>\n",
       "      <td>NaN</td>\n",
       "      <td>NaN</td>\n",
       "      <td>NaN</td>\n",
       "      <td>gain</td>\n",
       "      <td>NaN</td>\n",
       "      <td>NaN</td>\n",
       "    </tr>\n",
       "    <tr>\n",
       "      <th>2</th>\n",
       "      <td>vp06</td>\n",
       "      <td>3</td>\n",
       "      <td>2017-09-22 00:32:07</td>\n",
       "      <td>1506040325824</td>\n",
       "      <td>O</td>\n",
       "      <td>1911</td>\n",
       "      <td>1000</td>\n",
       "      <td>left</td>\n",
       "      <td>1.0</td>\n",
       "      <td>0.8</td>\n",
       "      <td>...</td>\n",
       "      <td>1.0</td>\n",
       "      <td>0.0</td>\n",
       "      <td>0.0</td>\n",
       "      <td>68.0</td>\n",
       "      <td>21.0</td>\n",
       "      <td>0.375</td>\n",
       "      <td>0.64</td>\n",
       "      <td>gain</td>\n",
       "      <td>15.0</td>\n",
       "      <td>25.0</td>\n",
       "    </tr>\n",
       "    <tr>\n",
       "      <th>3</th>\n",
       "      <td>vp06</td>\n",
       "      <td>4</td>\n",
       "      <td>2017-09-22 00:32:16</td>\n",
       "      <td>1506040332747</td>\n",
       "      <td>X</td>\n",
       "      <td>2972</td>\n",
       "      <td>1000</td>\n",
       "      <td>right</td>\n",
       "      <td>0.1</td>\n",
       "      <td>1.0</td>\n",
       "      <td>...</td>\n",
       "      <td>0.0</td>\n",
       "      <td>1.0</td>\n",
       "      <td>0.0</td>\n",
       "      <td>8.0</td>\n",
       "      <td>12.0</td>\n",
       "      <td>0.800</td>\n",
       "      <td>0.92</td>\n",
       "      <td>gain</td>\n",
       "      <td>4.0</td>\n",
       "      <td>1.0</td>\n",
       "    </tr>\n",
       "    <tr>\n",
       "      <th>4</th>\n",
       "      <td>vp06</td>\n",
       "      <td>5</td>\n",
       "      <td>2017-09-22 00:32:23</td>\n",
       "      <td>1506040340748</td>\n",
       "      <td>O</td>\n",
       "      <td>2845</td>\n",
       "      <td>1000</td>\n",
       "      <td>left</td>\n",
       "      <td>1.0</td>\n",
       "      <td>1.0</td>\n",
       "      <td>...</td>\n",
       "      <td>NaN</td>\n",
       "      <td>0.0</td>\n",
       "      <td>NaN</td>\n",
       "      <td>NaN</td>\n",
       "      <td>NaN</td>\n",
       "      <td>NaN</td>\n",
       "      <td>NaN</td>\n",
       "      <td>gain</td>\n",
       "      <td>NaN</td>\n",
       "      <td>NaN</td>\n",
       "    </tr>\n",
       "  </tbody>\n",
       "</table>\n",
       "<p>5 rows × 36 columns</p>\n",
       "</div>"
      ],
      "text/plain": [
       "    MID  trial_number           start_date     trialstart outcome  \\\n",
       "0  vp06             1  2017-09-22 00:31:53  1506040310356       X   \n",
       "1  vp06             2  2017-09-22 00:32:01  1506040318371       X   \n",
       "2  vp06             3  2017-09-22 00:32:07  1506040325824       O   \n",
       "3  vp06             4  2017-09-22 00:32:16  1506040332747       X   \n",
       "4  vp06             5  2017-09-22 00:32:23  1506040340748       O   \n",
       "\n",
       "   reaction_time  totalpoints   resp  revealed_left  revealed_right  \\\n",
       "0           3000         1000   left            1.0             1.0   \n",
       "1           2441         1000  right            1.0             1.0   \n",
       "2           1911         1000   left            1.0             0.8   \n",
       "3           2972         1000  right            0.1             1.0   \n",
       "4           2845         1000   left            1.0             1.0   \n",
       "\n",
       "         ...         ambig_r  resp_r_1  resp_amb_1  mag_ambig  mag_unambig  \\\n",
       "0        ...             NaN       0.0         NaN        NaN          NaN   \n",
       "1        ...             NaN       1.0         NaN        NaN          NaN   \n",
       "2        ...             1.0       0.0         0.0       68.0         21.0   \n",
       "3        ...             0.0       1.0         0.0        8.0         12.0   \n",
       "4        ...             NaN       0.0         NaN        NaN          NaN   \n",
       "\n",
       "   prob_x_ambig_bayes  prob_x_unambig  gain_or_loss_trial  revealed_x_ambig  \\\n",
       "0                 NaN             NaN                gain               NaN   \n",
       "1                 NaN             NaN                gain               NaN   \n",
       "2               0.375            0.64                gain              15.0   \n",
       "3               0.800            0.92                gain               4.0   \n",
       "4                 NaN             NaN                gain               NaN   \n",
       "\n",
       "   revealed_o_ambig  \n",
       "0               NaN  \n",
       "1               NaN  \n",
       "2              25.0  \n",
       "3               1.0  \n",
       "4               NaN  \n",
       "\n",
       "[5 rows x 36 columns]"
      ]
     },
     "execution_count": 11,
     "metadata": {},
     "output_type": "execute_result"
    }
   ],
   "source": [
    "print(len(gainloss_df))\n",
    "gainloss_df.head(5)"
   ]
  },
  {
   "cell_type": "markdown",
   "metadata": {},
   "source": [
    "## Gain/Loss Model fit - individual subjects"
   ]
  },
  {
   "cell_type": "code",
   "execution_count": 44,
   "metadata": {
    "collapsed": true
   },
   "outputs": [],
   "source": [
    "param_sets_split = {}\n",
    "param_sets_split['0'] = ['mag_diff','prob_diff']\n",
    "param_sets_split['1'] = ['mag_diff','prob_diff','sqrt_prop_revealed']"
   ]
  },
  {
   "cell_type": "code",
   "execution_count": 45,
   "metadata": {
    "collapsed": true,
    "scrolled": false
   },
   "outputs": [],
   "source": [
    "vp_list = ['06','07','10','11', '12', '13', '15', '16', '17', '18', '19', '20', '22', '23_2', '25_2', '26_2', '27_2', '28_2', '29', '30']\n",
    "resultnames = ['bic','aic','pseudoR2','pred_acc','llr_pvalue']\n",
    "model_param_df = np.array(['','','',3.0])\n",
    "model_summary_df = nobrainer_gainloss\n",
    "\n",
    "for vp in vp_list:\n",
    "    \n",
    "    df = gainloss_df[gainloss_df.MID == 'vp' + vp]\n",
    "    MID = 'vp' + vp\n",
    "        \n",
    "    for split in ['ambig_gain','ambig_loss','unambig_gain','unambig_loss']:\n",
    "        if 'unambig' in split:\n",
    "            paramnum='0'\n",
    "        else:\n",
    "            paramnum='1'\n",
    "            \n",
    "        # Fit a model to each set of trials \n",
    "        out = fit_model_split_amb_unamb_gain_loss(df, whichreturn= split, params=param_sets_split[paramnum],zscore=True)\n",
    "        \n",
    "        modelname = out['modelname']\n",
    "\n",
    "        for result in resultnames:\n",
    "            model_summary_df.loc[(model_summary_df.MID== 'vp' + vp),result+'_'+split]=out[result]\n",
    "\n",
    "        params = out['params']\n",
    "        for param in params.index:\n",
    "            paramn = param.replace('_loss','')\n",
    "            paramn = paramn.replace('_gain','')\n",
    "            paramn = paramn.replace('_amb','')\n",
    "            paramn = paramn.replace('_rl','')\n",
    "            row = np.array([MID,paramn,split,params[param]])\n",
    "            model_param_df=np.vstack((model_param_df,row))\n",
    "\n",
    "model_param_df = pd.DataFrame(model_param_df,columns=['MID','parameter','split','beta'])\n",
    "model_param_df.drop(0,inplace=True) #df.index[0]\n",
    "model_param_df['beta']=model_param_df['beta'].astype('float')\n",
    "model_param_df_gainloss = model_param_df\n",
    "\n"
   ]
  },
  {
   "cell_type": "code",
   "execution_count": 86,
   "metadata": {
    "collapsed": true
   },
   "outputs": [],
   "source": [
    "#"
   ]
  },
  {
   "cell_type": "code",
   "execution_count": 46,
   "metadata": {
    "collapsed": false
   },
   "outputs": [
    {
     "data": {
      "text/html": [
       "<div>\n",
       "<style>\n",
       "    .dataframe thead tr:only-child th {\n",
       "        text-align: right;\n",
       "    }\n",
       "\n",
       "    .dataframe thead th {\n",
       "        text-align: left;\n",
       "    }\n",
       "\n",
       "    .dataframe tbody tr th {\n",
       "        vertical-align: top;\n",
       "    }\n",
       "</style>\n",
       "<table border=\"1\" class=\"dataframe\">\n",
       "  <thead>\n",
       "    <tr style=\"text-align: right;\">\n",
       "      <th></th>\n",
       "      <th>MID</th>\n",
       "      <th>parameter</th>\n",
       "      <th>split</th>\n",
       "      <th>beta</th>\n",
       "    </tr>\n",
       "  </thead>\n",
       "  <tbody>\n",
       "    <tr>\n",
       "      <th>1</th>\n",
       "      <td>vp06</td>\n",
       "      <td>intercept</td>\n",
       "      <td>ambig_gain</td>\n",
       "      <td>-1.759563</td>\n",
       "    </tr>\n",
       "    <tr>\n",
       "      <th>2</th>\n",
       "      <td>vp06</td>\n",
       "      <td>mag_diff</td>\n",
       "      <td>ambig_gain</td>\n",
       "      <td>0.362886</td>\n",
       "    </tr>\n",
       "    <tr>\n",
       "      <th>3</th>\n",
       "      <td>vp06</td>\n",
       "      <td>prob_diff</td>\n",
       "      <td>ambig_gain</td>\n",
       "      <td>0.618895</td>\n",
       "    </tr>\n",
       "    <tr>\n",
       "      <th>4</th>\n",
       "      <td>vp06</td>\n",
       "      <td>sqrt_prop_revealed</td>\n",
       "      <td>ambig_gain</td>\n",
       "      <td>-0.476255</td>\n",
       "    </tr>\n",
       "    <tr>\n",
       "      <th>5</th>\n",
       "      <td>vp06</td>\n",
       "      <td>intercept</td>\n",
       "      <td>ambig_loss</td>\n",
       "      <td>0.111916</td>\n",
       "    </tr>\n",
       "  </tbody>\n",
       "</table>\n",
       "</div>"
      ],
      "text/plain": [
       "    MID           parameter       split      beta\n",
       "1  vp06           intercept  ambig_gain -1.759563\n",
       "2  vp06            mag_diff  ambig_gain  0.362886\n",
       "3  vp06           prob_diff  ambig_gain  0.618895\n",
       "4  vp06  sqrt_prop_revealed  ambig_gain -0.476255\n",
       "5  vp06           intercept  ambig_loss  0.111916"
      ]
     },
     "execution_count": 46,
     "metadata": {},
     "output_type": "execute_result"
    }
   ],
   "source": [
    "model_param_df.head()"
   ]
  },
  {
   "cell_type": "code",
   "execution_count": 47,
   "metadata": {
    "collapsed": false
   },
   "outputs": [
    {
     "data": {
      "text/html": [
       "<div>\n",
       "<style>\n",
       "    .dataframe thead tr:only-child th {\n",
       "        text-align: right;\n",
       "    }\n",
       "\n",
       "    .dataframe thead th {\n",
       "        text-align: left;\n",
       "    }\n",
       "\n",
       "    .dataframe tbody tr th {\n",
       "        vertical-align: top;\n",
       "    }\n",
       "</style>\n",
       "<table border=\"1\" class=\"dataframe\">\n",
       "  <thead>\n",
       "    <tr style=\"text-align: right;\">\n",
       "      <th></th>\n",
       "      <th>MID</th>\n",
       "      <th>nbperf</th>\n",
       "      <th>bic_ambig_gain</th>\n",
       "      <th>aic_ambig_gain</th>\n",
       "      <th>pseudoR2_ambig_gain</th>\n",
       "      <th>pred_acc_ambig_gain</th>\n",
       "      <th>bic_ambig_loss</th>\n",
       "      <th>aic_ambig_loss</th>\n",
       "      <th>pseudoR2_ambig_loss</th>\n",
       "      <th>pred_acc_ambig_loss</th>\n",
       "      <th>...</th>\n",
       "      <th>pseudoR2_unambig_gain</th>\n",
       "      <th>pred_acc_unambig_gain</th>\n",
       "      <th>bic_unambig_loss</th>\n",
       "      <th>aic_unambig_loss</th>\n",
       "      <th>pseudoR2_unambig_loss</th>\n",
       "      <th>pred_acc_unambig_loss</th>\n",
       "      <th>llr_pvalue_ambig_gain</th>\n",
       "      <th>llr_pvalue_ambig_loss</th>\n",
       "      <th>llr_pvalue_unambig_gain</th>\n",
       "      <th>llr_pvalue_unambig_loss</th>\n",
       "    </tr>\n",
       "  </thead>\n",
       "  <tbody>\n",
       "    <tr>\n",
       "      <th>0</th>\n",
       "      <td>vp06</td>\n",
       "      <td>0.941176</td>\n",
       "      <td>83.272790</td>\n",
       "      <td>73.845955</td>\n",
       "      <td>0.063192</td>\n",
       "      <td>0.833333</td>\n",
       "      <td>108.287600</td>\n",
       "      <td>98.860764</td>\n",
       "      <td>0.158118</td>\n",
       "      <td>0.743590</td>\n",
       "      <td>...</td>\n",
       "      <td>0.081771</td>\n",
       "      <td>0.652778</td>\n",
       "      <td>80.037410</td>\n",
       "      <td>73.207412</td>\n",
       "      <td>0.325165</td>\n",
       "      <td>0.875000</td>\n",
       "      <td>2.175596e-01</td>\n",
       "      <td>6.853248e-04</td>\n",
       "      <td>1.693007e-02</td>\n",
       "      <td>9.290179e-08</td>\n",
       "    </tr>\n",
       "    <tr>\n",
       "      <th>1</th>\n",
       "      <td>vp07</td>\n",
       "      <td>0.970588</td>\n",
       "      <td>94.828398</td>\n",
       "      <td>85.401563</td>\n",
       "      <td>0.220498</td>\n",
       "      <td>0.743590</td>\n",
       "      <td>102.639707</td>\n",
       "      <td>93.212872</td>\n",
       "      <td>0.208566</td>\n",
       "      <td>0.756410</td>\n",
       "      <td>...</td>\n",
       "      <td>0.077874</td>\n",
       "      <td>0.652778</td>\n",
       "      <td>89.051470</td>\n",
       "      <td>82.221472</td>\n",
       "      <td>0.232510</td>\n",
       "      <td>0.750000</td>\n",
       "      <td>6.860782e-05</td>\n",
       "      <td>5.242229e-05</td>\n",
       "      <td>2.051876e-02</td>\n",
       "      <td>9.678815e-06</td>\n",
       "    </tr>\n",
       "    <tr>\n",
       "      <th>2</th>\n",
       "      <td>vp10</td>\n",
       "      <td>1.000000</td>\n",
       "      <td>93.854567</td>\n",
       "      <td>84.427731</td>\n",
       "      <td>0.230306</td>\n",
       "      <td>0.743590</td>\n",
       "      <td>97.942220</td>\n",
       "      <td>88.515384</td>\n",
       "      <td>0.199848</td>\n",
       "      <td>0.717949</td>\n",
       "      <td>...</td>\n",
       "      <td>0.226814</td>\n",
       "      <td>0.708333</td>\n",
       "      <td>58.057385</td>\n",
       "      <td>51.227386</td>\n",
       "      <td>0.542800</td>\n",
       "      <td>0.819444</td>\n",
       "      <td>4.301397e-05</td>\n",
       "      <td>1.610777e-04</td>\n",
       "      <td>1.221051e-05</td>\n",
       "      <td>2.189079e-12</td>\n",
       "    </tr>\n",
       "    <tr>\n",
       "      <th>3</th>\n",
       "      <td>vp11</td>\n",
       "      <td>0.970588</td>\n",
       "      <td>60.644170</td>\n",
       "      <td>51.217334</td>\n",
       "      <td>0.534303</td>\n",
       "      <td>0.884615</td>\n",
       "      <td>88.160998</td>\n",
       "      <td>78.734162</td>\n",
       "      <td>0.340837</td>\n",
       "      <td>0.846154</td>\n",
       "      <td>...</td>\n",
       "      <td>0.387692</td>\n",
       "      <td>0.819444</td>\n",
       "      <td>79.850868</td>\n",
       "      <td>73.020870</td>\n",
       "      <td>0.328163</td>\n",
       "      <td>0.791667</td>\n",
       "      <td>9.797000e-11</td>\n",
       "      <td>5.660139e-08</td>\n",
       "      <td>9.549587e-09</td>\n",
       "      <td>7.785788e-08</td>\n",
       "    </tr>\n",
       "    <tr>\n",
       "      <th>4</th>\n",
       "      <td>vp12</td>\n",
       "      <td>0.941176</td>\n",
       "      <td>90.089762</td>\n",
       "      <td>80.662927</td>\n",
       "      <td>0.200353</td>\n",
       "      <td>0.820513</td>\n",
       "      <td>81.680182</td>\n",
       "      <td>72.253347</td>\n",
       "      <td>0.391566</td>\n",
       "      <td>0.794872</td>\n",
       "      <td>...</td>\n",
       "      <td>0.178645</td>\n",
       "      <td>0.736111</td>\n",
       "      <td>69.496437</td>\n",
       "      <td>62.666439</td>\n",
       "      <td>0.429413</td>\n",
       "      <td>0.805556</td>\n",
       "      <td>3.988735e-04</td>\n",
       "      <td>5.508672e-09</td>\n",
       "      <td>1.454006e-04</td>\n",
       "      <td>5.489096e-10</td>\n",
       "    </tr>\n",
       "  </tbody>\n",
       "</table>\n",
       "<p>5 rows × 22 columns</p>\n",
       "</div>"
      ],
      "text/plain": [
       "    MID    nbperf  bic_ambig_gain  aic_ambig_gain  pseudoR2_ambig_gain  \\\n",
       "0  vp06  0.941176       83.272790       73.845955             0.063192   \n",
       "1  vp07  0.970588       94.828398       85.401563             0.220498   \n",
       "2  vp10  1.000000       93.854567       84.427731             0.230306   \n",
       "3  vp11  0.970588       60.644170       51.217334             0.534303   \n",
       "4  vp12  0.941176       90.089762       80.662927             0.200353   \n",
       "\n",
       "   pred_acc_ambig_gain  bic_ambig_loss  aic_ambig_loss  pseudoR2_ambig_loss  \\\n",
       "0             0.833333      108.287600       98.860764             0.158118   \n",
       "1             0.743590      102.639707       93.212872             0.208566   \n",
       "2             0.743590       97.942220       88.515384             0.199848   \n",
       "3             0.884615       88.160998       78.734162             0.340837   \n",
       "4             0.820513       81.680182       72.253347             0.391566   \n",
       "\n",
       "   pred_acc_ambig_loss           ...             pseudoR2_unambig_gain  \\\n",
       "0             0.743590           ...                          0.081771   \n",
       "1             0.756410           ...                          0.077874   \n",
       "2             0.717949           ...                          0.226814   \n",
       "3             0.846154           ...                          0.387692   \n",
       "4             0.794872           ...                          0.178645   \n",
       "\n",
       "   pred_acc_unambig_gain  bic_unambig_loss  aic_unambig_loss  \\\n",
       "0               0.652778         80.037410         73.207412   \n",
       "1               0.652778         89.051470         82.221472   \n",
       "2               0.708333         58.057385         51.227386   \n",
       "3               0.819444         79.850868         73.020870   \n",
       "4               0.736111         69.496437         62.666439   \n",
       "\n",
       "   pseudoR2_unambig_loss  pred_acc_unambig_loss  llr_pvalue_ambig_gain  \\\n",
       "0               0.325165               0.875000           2.175596e-01   \n",
       "1               0.232510               0.750000           6.860782e-05   \n",
       "2               0.542800               0.819444           4.301397e-05   \n",
       "3               0.328163               0.791667           9.797000e-11   \n",
       "4               0.429413               0.805556           3.988735e-04   \n",
       "\n",
       "   llr_pvalue_ambig_loss  llr_pvalue_unambig_gain  llr_pvalue_unambig_loss  \n",
       "0           6.853248e-04             1.693007e-02             9.290179e-08  \n",
       "1           5.242229e-05             2.051876e-02             9.678815e-06  \n",
       "2           1.610777e-04             1.221051e-05             2.189079e-12  \n",
       "3           5.660139e-08             9.549587e-09             7.785788e-08  \n",
       "4           5.508672e-09             1.454006e-04             5.489096e-10  \n",
       "\n",
       "[5 rows x 22 columns]"
      ]
     },
     "execution_count": 47,
     "metadata": {},
     "output_type": "execute_result"
    }
   ],
   "source": [
    "model_summary_df.head()"
   ]
  },
  {
   "cell_type": "code",
   "execution_count": 48,
   "metadata": {
    "collapsed": false
   },
   "outputs": [
    {
     "name": "stdout",
     "output_type": "stream",
     "text": [
      "77.17261970842304\n",
      "0.791666666667\n",
      "model_split_unambig_lossmag_diff_prob_diff\n"
     ]
    },
    {
     "data": {
      "text/html": [
       "<table class=\"simpletable\">\n",
       "<caption>Logit Regression Results</caption>\n",
       "<tr>\n",
       "  <th>Dep. Variable:</th>         <td>y</td>        <th>  No. Observations:  </th>  <td>    72</td>  \n",
       "</tr>\n",
       "<tr>\n",
       "  <th>Model:</th>               <td>Logit</td>      <th>  Df Residuals:      </th>  <td>    69</td>  \n",
       "</tr>\n",
       "<tr>\n",
       "  <th>Method:</th>               <td>MLE</td>       <th>  Df Model:          </th>  <td>     2</td>  \n",
       "</tr>\n",
       "<tr>\n",
       "  <th>Date:</th>          <td>Mon, 20 Nov 2017</td> <th>  Pseudo R-squ.:     </th>  <td>0.2668</td>  \n",
       "</tr>\n",
       "<tr>\n",
       "  <th>Time:</th>              <td>13:10:01</td>     <th>  Log-Likelihood:    </th> <td> -35.586</td> \n",
       "</tr>\n",
       "<tr>\n",
       "  <th>converged:</th>           <td>True</td>       <th>  LL-Null:           </th> <td> -48.537</td> \n",
       "</tr>\n",
       "<tr>\n",
       "  <th> </th>                      <td> </td>        <th>  LLR p-value:       </th> <td>2.375e-06</td>\n",
       "</tr>\n",
       "</table>\n",
       "<table class=\"simpletable\">\n",
       "<tr>\n",
       "          <td></td>             <th>coef</th>     <th>std err</th>      <th>z</th>      <th>P>|z|</th>  <th>[0.025</th>    <th>0.975]</th>  \n",
       "</tr>\n",
       "<tr>\n",
       "  <th>intercept</th>         <td>    0.5691</td> <td>    0.301</td> <td>    1.890</td> <td> 0.059</td> <td>   -0.021</td> <td>    1.159</td>\n",
       "</tr>\n",
       "<tr>\n",
       "  <th>mag_diff_rl_loss</th>  <td>   -0.0735</td> <td>    0.393</td> <td>   -0.187</td> <td> 0.852</td> <td>   -0.844</td> <td>    0.697</td>\n",
       "</tr>\n",
       "<tr>\n",
       "  <th>prob_diff_rl_loss</th> <td>   -1.6408</td> <td>    0.481</td> <td>   -3.413</td> <td> 0.001</td> <td>   -2.583</td> <td>   -0.699</td>\n",
       "</tr>\n",
       "</table>"
      ],
      "text/plain": [
       "<class 'statsmodels.iolib.summary.Summary'>\n",
       "\"\"\"\n",
       "                           Logit Regression Results                           \n",
       "==============================================================================\n",
       "Dep. Variable:                      y   No. Observations:                   72\n",
       "Model:                          Logit   Df Residuals:                       69\n",
       "Method:                           MLE   Df Model:                            2\n",
       "Date:                Mon, 20 Nov 2017   Pseudo R-squ.:                  0.2668\n",
       "Time:                        13:10:01   Log-Likelihood:                -35.586\n",
       "converged:                       True   LL-Null:                       -48.537\n",
       "                                        LLR p-value:                 2.375e-06\n",
       "=====================================================================================\n",
       "                        coef    std err          z      P>|z|      [0.025      0.975]\n",
       "-------------------------------------------------------------------------------------\n",
       "intercept             0.5691      0.301      1.890      0.059      -0.021       1.159\n",
       "mag_diff_rl_loss     -0.0735      0.393     -0.187      0.852      -0.844       0.697\n",
       "prob_diff_rl_loss    -1.6408      0.481     -3.413      0.001      -2.583      -0.699\n",
       "=====================================================================================\n",
       "\"\"\""
      ]
     },
     "execution_count": 48,
     "metadata": {},
     "output_type": "execute_result"
    }
   ],
   "source": [
    "print(out['aic'])\n",
    "print(out['pred_acc'])\n",
    "print(out['modelname'])\n",
    "out['results'].summary()\n",
    "\n"
   ]
  },
  {
   "cell_type": "code",
   "execution_count": 63,
   "metadata": {
    "collapsed": true
   },
   "outputs": [],
   "source": [
    "#model_summary_df"
   ]
  },
  {
   "cell_type": "code",
   "execution_count": 73,
   "metadata": {
    "collapsed": false,
    "scrolled": false
   },
   "outputs": [
    {
     "name": "stderr",
     "output_type": "stream",
     "text": [
      "/Users/chris/anaconda/lib/python3.6/site-packages/matplotlib/axes/_axes.py:545: UserWarning: No labelled objects found. Use label='...' kwarg on individual plots.\n",
      "  warnings.warn(\"No labelled objects found. \"\n"
     ]
    },
    {
     "data": {
      "image/png": "[encoded data removed]",
      "text/plain": [
       "<matplotlib.figure.Figure at 0x11cf4c3c8>"
      ]
     },
     "metadata": {},
     "output_type": "display_data"
    }
   ],
   "source": [
    "plt.style.use(['seaborn-white', 'seaborn-paper'])\n",
    "matplotlib.rc(\"font\", family=\"Times New Roman\")\n",
    "sns.set_context('talk')\n",
    "fig,axes =plt.subplots(1,2, figsize=(12,4),sharey=True,sharex=True)\n",
    "\n",
    "MIDS = model_summary_df.MID\n",
    "NB = model_summary_df['nbperf']\n",
    "for tt,trial_type in enumerate(['unambig','ambig']):\n",
    "    for task in ['gain','loss']:\n",
    "        R2 = model_summary_df['pseudoR2_'+trial_type+'_'+task]\n",
    "        pvals = model_summary_df['llr_pvalue_'+trial_type+'_'+task]\n",
    "        color ='b' if task=='gain' else 'r'\n",
    "\n",
    "        for r,n,p,mid in zip(R2,NB,pvals,MIDS):\n",
    "            alpha=1.0 if p<0.05 else 0.5\n",
    "            axes[tt].scatter(n,r, c=color,alpha=alpha)\n",
    "            axes[tt].annotate(mid,(n,r),fontsize=10)\n",
    "    axes[tt].set_xlabel('no brainer perf')\n",
    "    axes[tt].set_ylabel('PseudoR2 of model fit')\n",
    "    axes[tt].set_title(trial_type)\n",
    "sns.despine()\n",
    "plt.legend()\n"
   ]
  },
  {
   "cell_type": "markdown",
   "metadata": {},
   "source": [
    "- what the hell is going on with the subjects that have .95 no brainer and <0.1 R2. \n"
   ]
  },
  {
   "cell_type": "code",
   "execution_count": 74,
   "metadata": {
    "collapsed": false,
    "scrolled": false
   },
   "outputs": [
    {
     "data": {
      "image/png": "[encoded data removed]",
      "text/plain": [
       "<matplotlib.figure.Figure at 0x11ddafc50>"
      ]
     },
     "metadata": {},
     "output_type": "display_data"
    }
   ],
   "source": [
    "fig = plot_params(model_param_df_gainloss, stripplot=True)"
   ]
  },
  {
   "cell_type": "markdown",
   "metadata": {},
   "source": [
    "# shock load in single subjectdata + nobrainer"
   ]
  },
  {
   "cell_type": "code",
   "execution_count": 75,
   "metadata": {
    "collapsed": false,
    "scrolled": true
   },
   "outputs": [
    {
     "name": "stderr",
     "output_type": "stream",
     "text": [
      "../functions/NoBrainer_Analysis_AllinOne.py:42: SettingWithCopyWarning: \n",
      "A value is trying to be set on a copy of a slice from a DataFrame.\n",
      "Try using .loc[row_indexer,col_indexer] = value instead\n",
      "\n",
      "See the caveats in the documentation: http://pandas.pydata.org/pandas-docs/stable/indexing.html#indexing-view-versus-copy\n",
      "  df['left_better']=lb\n",
      "../functions/NoBrainer_Analysis_AllinOne.py:43: SettingWithCopyWarning: \n",
      "A value is trying to be set on a copy of a slice from a DataFrame.\n",
      "Try using .loc[row_indexer,col_indexer] = value instead\n",
      "\n",
      "See the caveats in the documentation: http://pandas.pydata.org/pandas-docs/stable/indexing.html#indexing-view-versus-copy\n",
      "  df['right_better']=rb\n",
      "../functions/NoBrainer_Analysis_AllinOne.py:49: SettingWithCopyWarning: \n",
      "A value is trying to be set on a copy of a slice from a DataFrame.\n",
      "Try using .loc[row_indexer,col_indexer] = value instead\n",
      "\n",
      "See the caveats in the documentation: http://pandas.pydata.org/pandas-docs/stable/indexing.html#indexing-view-versus-copy\n",
      "  df['choseBetter'] = (df['resp'] == 'left') & (df['left_better']== True) | (df['resp'] == 'right') & (df['right_better']==True)\n",
      "../functions/NoBrainer_Analysis_AllinOne.py:55: SettingWithCopyWarning: \n",
      "A value is trying to be set on a copy of a slice from a DataFrame.\n",
      "Try using .loc[row_indexer,col_indexer] = value instead\n",
      "\n",
      "See the caveats in the documentation: http://pandas.pydata.org/pandas-docs/stable/indexing.html#indexing-view-versus-copy\n",
      "  df['noBrainer'] = (df['right_better'] != df['left_better'])\n"
     ]
    }
   ],
   "source": [
    "df_list = []\n",
    "vp_list = ['06', '07', '10', '11', '12', '13', '15', '16', '17', '18', '19', '20', '22', '23', '25', '26', '27', '28', '29', '30']\n",
    "vp_perform_shock_list = []\n",
    "vp_nb_shock_list = []\n",
    "section_list = ['1', '2', '3']\n",
    "for vp in vp_list:\n",
    "    df = []\n",
    "    for sec in section_list:\n",
    "        path = os.path.join(os.getcwd(),'..','data','data_shock_logfiles','Expt1Pain_Behaviour_vp' + vp + '_' + sec + '.txt')\n",
    "        df_dummy = pd.read_csv(path, sep=\"\\t\", skiprows = [0])\n",
    "        df_dummy = df_dummy[:-1] #deletes last row of each section as it does not contain trial data\n",
    "        df_dummy['MID'] = 'vp'+ vp\n",
    "        df_dummy['section'] = sec\n",
    "        df_dummy.columns = df_dummy.columns.str.replace(' ','')\n",
    "        df.append(df_dummy)\n",
    "    \n",
    "    #create a df that contains data from all sections    \n",
    "    df = pd.concat(df, ignore_index = True, join = 'inner')\n",
    "    #preprocess shock data\n",
    "    df = preprocess_shock(df)\n",
    "    #preprocess data\n",
    "    df = preprocess(df)\n",
    "    #store prepocessed data in list that contains data for all subjects (for later analysis)\n",
    "    df_list.append(df)\n",
    "    #create subset with unambiguous trials for no brainer analysis\n",
    "    nb_df = drop_ambi_trials(df)\n",
    "    #create variables indicating whether left or right was the better option\n",
    "    better_choice_shock(nb_df)\n",
    "    #indicate whether the better box was chosen\n",
    "    nb_df = right_choice(nb_df)\n",
    "    #only keep trials that are 'no brainers'\n",
    "    nb_df = keep_nobrainers(nb_df)\n",
    "    #calculate performance\n",
    "    vp_perform_shock = ['vp' + vp, vp_perf(nb_df)]\n",
    "    #store each vp performance in list\n",
    "    vp_perform_shock_list.append(vp_perform_shock)\n",
    "    #vp performance sectionwise\n",
    "    vp_nb_shock = nb_df.groupby('section').mean().add_prefix('shock_')[['shock_choseBetter']]\n",
    "    vp_nb_shock['MID'] = 'vp'+ vp\n",
    "    vp_nb_shock_list.append(vp_nb_shock)\n",
    "    \n",
    "#make dataframe for nb performance\n",
    "nobrainer_shock = pd.DataFrame(vp_perform_shock_list,columns=['MID','nbperf'])\n",
    "\n",
    "#dataframe for single subject (last one) to try out code\n",
    "shock_ls_df = df"
   ]
  },
  {
   "cell_type": "code",
   "execution_count": 77,
   "metadata": {
    "collapsed": false,
    "scrolled": true
   },
   "outputs": [
    {
     "data": {
      "text/plain": [
       "[         shock_choseBetter   MID\n",
       " section                         \n",
       " 1                      1.0  vp07\n",
       " 2                      1.0  vp07\n",
       " 3                      1.0  vp07]"
      ]
     },
     "execution_count": 77,
     "metadata": {},
     "output_type": "execute_result"
    }
   ],
   "source": [
    "vp_nb_shock_list[1:2]"
   ]
  },
  {
   "cell_type": "markdown",
   "metadata": {},
   "source": [
    "## Create preprocessed dataframe with all vp"
   ]
  },
  {
   "cell_type": "code",
   "execution_count": 78,
   "metadata": {
    "collapsed": true
   },
   "outputs": [],
   "source": [
    "#create complete df for shock condition with all vps        \n",
    "shock_df = pd.concat(df_list, ignore_index = True, join = 'inner')"
   ]
  },
  {
   "cell_type": "markdown",
   "metadata": {},
   "source": [
    "## Shock: Model fit\n"
   ]
  },
  {
   "cell_type": "code",
   "execution_count": 80,
   "metadata": {
    "collapsed": true,
    "scrolled": true
   },
   "outputs": [],
   "source": [
    "vp_list = ['06', '07', '10', '11' ,'12', '13', '15', '16', '17', '18', '19', '20', '22', '23', '25', '26', '27', '28', '29', '30']\n",
    "resultnames = ['bic','aic','pseudoR2','pred_acc','llr_pvalue'] ##'llr_pvalue' is missing bc did not work\n",
    "model_param_df = np.array(['','','',3.0])\n",
    "model_summary_df = nobrainer_shock\n",
    "\n",
    "for vp in vp_list:\n",
    "    \n",
    "    df = shock_df[shock_df.MID == 'vp' + vp]\n",
    "    MID = 'vp' + vp\n",
    "        \n",
    "    for split in ['ambig_shock','unambig_shock']:\n",
    "        #print(split)\n",
    "        if 'unambig' in split:\n",
    "            paramnum='0'\n",
    "        else:\n",
    "            paramnum='1'\n",
    "        # Fit a model to the ambiguous gain trials \n",
    "        out = fit_model_split_amb_unamb_gain_loss(df, whichreturn= split, params=param_sets_split[paramnum],zscore=True)\n",
    "        \n",
    "    \n",
    "        modelname = out['modelname']\n",
    "\n",
    "        for result in resultnames:\n",
    "            model_summary_df.loc[(model_summary_df.MID== 'vp' + vp),result+'_'+split]=out[result]\n",
    "\n",
    "        params = out['params']\n",
    "        for param in params.index:\n",
    "            paramn = param.replace('_shock','')\n",
    "            paramn = paramn.replace('_amb','')\n",
    "            paramn = paramn.replace('_rl','')\n",
    "            row = np.array([MID,paramn,split,params[param]])\n",
    "            model_param_df=np.vstack((model_param_df,row))\n",
    "\n",
    "model_param_df = pd.DataFrame(model_param_df,columns=['MID','parameter','split','beta'])\n",
    "model_param_df.drop(0,inplace=True) #df.index[0]\n",
    "model_param_df['beta']=model_param_df['beta'].astype('float')\n",
    "model_param_df_shock = model_param_df        \n",
    "\n",
    "   "
   ]
  },
  {
   "cell_type": "code",
   "execution_count": 81,
   "metadata": {
    "collapsed": false
   },
   "outputs": [
    {
     "name": "stdout",
     "output_type": "stream",
     "text": [
      "83.78046393336585\n",
      "0.722222222222\n",
      "model_split_unambig_shockmag_diff_prob_diff\n"
     ]
    },
    {
     "data": {
      "text/html": [
       "<table class=\"simpletable\">\n",
       "<caption>Logit Regression Results</caption>\n",
       "<tr>\n",
       "  <th>Dep. Variable:</th>         <td>y</td>        <th>  No. Observations:  </th>  <td>    72</td>  \n",
       "</tr>\n",
       "<tr>\n",
       "  <th>Model:</th>               <td>Logit</td>      <th>  Df Residuals:      </th>  <td>    69</td>  \n",
       "</tr>\n",
       "<tr>\n",
       "  <th>Method:</th>               <td>MLE</td>       <th>  Df Model:          </th>  <td>     2</td>  \n",
       "</tr>\n",
       "<tr>\n",
       "  <th>Date:</th>          <td>Mon, 20 Nov 2017</td> <th>  Pseudo R-squ.:     </th>  <td>0.2137</td>  \n",
       "</tr>\n",
       "<tr>\n",
       "  <th>Time:</th>              <td>13:46:27</td>     <th>  Log-Likelihood:    </th> <td> -38.890</td> \n",
       "</tr>\n",
       "<tr>\n",
       "  <th>converged:</th>           <td>True</td>       <th>  LL-Null:           </th> <td> -49.461</td> \n",
       "</tr>\n",
       "<tr>\n",
       "  <th> </th>                      <td> </td>        <th>  LLR p-value:       </th> <td>2.565e-05</td>\n",
       "</tr>\n",
       "</table>\n",
       "<table class=\"simpletable\">\n",
       "<tr>\n",
       "          <td></td>             <th>coef</th>     <th>std err</th>      <th>z</th>      <th>P>|z|</th>  <th>[0.025</th>    <th>0.975]</th>  \n",
       "</tr>\n",
       "<tr>\n",
       "  <th>intercept</th>         <td>    0.3258</td> <td>    0.279</td> <td>    1.166</td> <td> 0.244</td> <td>   -0.222</td> <td>    0.874</td>\n",
       "</tr>\n",
       "<tr>\n",
       "  <th>mag_diff_rl_gain</th>  <td>   -1.8564</td> <td>    0.535</td> <td>   -3.471</td> <td> 0.001</td> <td>   -2.905</td> <td>   -0.808</td>\n",
       "</tr>\n",
       "<tr>\n",
       "  <th>prob_diff_rl_gain</th> <td>   -1.6386</td> <td>    0.485</td> <td>   -3.376</td> <td> 0.001</td> <td>   -2.590</td> <td>   -0.687</td>\n",
       "</tr>\n",
       "</table>"
      ],
      "text/plain": [
       "<class 'statsmodels.iolib.summary.Summary'>\n",
       "\"\"\"\n",
       "                           Logit Regression Results                           \n",
       "==============================================================================\n",
       "Dep. Variable:                      y   No. Observations:                   72\n",
       "Model:                          Logit   Df Residuals:                       69\n",
       "Method:                           MLE   Df Model:                            2\n",
       "Date:                Mon, 20 Nov 2017   Pseudo R-squ.:                  0.2137\n",
       "Time:                        13:46:27   Log-Likelihood:                -38.890\n",
       "converged:                       True   LL-Null:                       -49.461\n",
       "                                        LLR p-value:                 2.565e-05\n",
       "=====================================================================================\n",
       "                        coef    std err          z      P>|z|      [0.025      0.975]\n",
       "-------------------------------------------------------------------------------------\n",
       "intercept             0.3258      0.279      1.166      0.244      -0.222       0.874\n",
       "mag_diff_rl_gain     -1.8564      0.535     -3.471      0.001      -2.905      -0.808\n",
       "prob_diff_rl_gain    -1.6386      0.485     -3.376      0.001      -2.590      -0.687\n",
       "=====================================================================================\n",
       "\"\"\""
      ]
     },
     "execution_count": 81,
     "metadata": {},
     "output_type": "execute_result"
    }
   ],
   "source": [
    "print(out['aic'])\n",
    "print(out['pred_acc'])\n",
    "print(out['modelname'])\n",
    "out['results'].summary()\n",
    "    "
   ]
  },
  {
   "cell_type": "markdown",
   "metadata": {},
   "source": [
    "## Plot shock data"
   ]
  },
  {
   "cell_type": "code",
   "execution_count": 82,
   "metadata": {
    "collapsed": false
   },
   "outputs": [
    {
     "name": "stderr",
     "output_type": "stream",
     "text": [
      "/Users/chris/anaconda/lib/python3.6/site-packages/matplotlib/axes/_axes.py:545: UserWarning: No labelled objects found. Use label='...' kwarg on individual plots.\n",
      "  warnings.warn(\"No labelled objects found. \"\n"
     ]
    },
    {
     "data": {
      "image/png": "[encoded data removed]",
      "text/plain": [
       "<matplotlib.figure.Figure at 0x11db51cf8>"
      ]
     },
     "metadata": {},
     "output_type": "display_data"
    }
   ],
   "source": [
    "plt.style.use(['seaborn-white', 'seaborn-paper'])\n",
    "matplotlib.rc(\"font\", family=\"Times New Roman\")\n",
    "sns.set_context('talk')\n",
    "fig,axes =plt.subplots(1,2, figsize=(12,4),sharey=True,sharex=True)\n",
    "\n",
    "MIDS = model_summary_df.MID\n",
    "NB = model_summary_df['nbperf']\n",
    "for tt,trial_type in enumerate(['unambig','ambig']):\n",
    "    for task in ['shock']:\n",
    "        R2 = model_summary_df['pseudoR2_'+trial_type+'_'+task]\n",
    "        pvals = model_summary_df['llr_pvalue_'+trial_type+'_'+task]\n",
    "        color ='b' if task=='gain' else 'r'\n",
    "\n",
    "        for r,n,p,mid in zip(R2,NB,pvals,MIDS):\n",
    "            alpha=1.0 if p<0.05 else 0.5\n",
    "            axes[tt].scatter(n,r, c=color,alpha=alpha)\n",
    "            axes[tt].annotate(mid,(n,r),fontsize=10)\n",
    "    axes[tt].set_xlabel('no brainer perf')\n",
    "    axes[tt].set_ylabel('PseudoR2 of model fit')\n",
    "    axes[tt].set_title(trial_type)\n",
    "sns.despine()\n",
    "plt.legend()"
   ]
  },
  {
   "cell_type": "code",
   "execution_count": 83,
   "metadata": {
    "collapsed": false
   },
   "outputs": [
    {
     "data": {
      "image/png": "[encoded data removed]",
      "text/plain": [
       "<matplotlib.figure.Figure at 0x11d510358>"
      ]
     },
     "metadata": {},
     "output_type": "display_data"
    }
   ],
   "source": [
    "fig = plot_params(model_param_df_shock, stripplot=True)"
   ]
  },
  {
   "cell_type": "markdown",
   "metadata": {},
   "source": [
    "- remove bad fitting subjects - "
   ]
  },
  {
   "cell_type": "markdown",
   "metadata": {
    "collapsed": true
   },
   "source": [
    "# Traits "
   ]
  },
  {
   "cell_type": "code",
   "execution_count": null,
   "metadata": {
    "collapsed": true
   },
   "outputs": [],
   "source": []
  },
  {
   "cell_type": "markdown",
   "metadata": {
    "collapsed": true
   },
   "source": [
    "# Correlation across Dataset"
   ]
  },
  {
   "cell_type": "code",
   "execution_count": 89,
   "metadata": {
    "collapsed": false
   },
   "outputs": [
    {
     "data": {
      "text/html": [
       "<div>\n",
       "<style>\n",
       "    .dataframe thead tr:only-child th {\n",
       "        text-align: right;\n",
       "    }\n",
       "\n",
       "    .dataframe thead th {\n",
       "        text-align: left;\n",
       "    }\n",
       "\n",
       "    .dataframe tbody tr th {\n",
       "        vertical-align: top;\n",
       "    }\n",
       "</style>\n",
       "<table border=\"1\" class=\"dataframe\">\n",
       "  <thead>\n",
       "    <tr style=\"text-align: right;\">\n",
       "      <th></th>\n",
       "      <th>MID</th>\n",
       "      <th>parameter</th>\n",
       "      <th>split</th>\n",
       "      <th>beta</th>\n",
       "    </tr>\n",
       "  </thead>\n",
       "  <tbody>\n",
       "    <tr>\n",
       "      <th>1</th>\n",
       "      <td>vp06</td>\n",
       "      <td>intercept</td>\n",
       "      <td>ambig_gain</td>\n",
       "      <td>-1.759563</td>\n",
       "    </tr>\n",
       "    <tr>\n",
       "      <th>2</th>\n",
       "      <td>vp06</td>\n",
       "      <td>mag_diff</td>\n",
       "      <td>ambig_gain</td>\n",
       "      <td>0.362886</td>\n",
       "    </tr>\n",
       "    <tr>\n",
       "      <th>3</th>\n",
       "      <td>vp06</td>\n",
       "      <td>prob_diff</td>\n",
       "      <td>ambig_gain</td>\n",
       "      <td>0.618895</td>\n",
       "    </tr>\n",
       "    <tr>\n",
       "      <th>4</th>\n",
       "      <td>vp06</td>\n",
       "      <td>sqrt_prop_revealed</td>\n",
       "      <td>ambig_gain</td>\n",
       "      <td>-0.476255</td>\n",
       "    </tr>\n",
       "    <tr>\n",
       "      <th>5</th>\n",
       "      <td>vp06</td>\n",
       "      <td>intercept</td>\n",
       "      <td>ambig_loss</td>\n",
       "      <td>0.111916</td>\n",
       "    </tr>\n",
       "  </tbody>\n",
       "</table>\n",
       "</div>"
      ],
      "text/plain": [
       "    MID           parameter       split      beta\n",
       "1  vp06           intercept  ambig_gain -1.759563\n",
       "2  vp06            mag_diff  ambig_gain  0.362886\n",
       "3  vp06           prob_diff  ambig_gain  0.618895\n",
       "4  vp06  sqrt_prop_revealed  ambig_gain -0.476255\n",
       "5  vp06           intercept  ambig_loss  0.111916"
      ]
     },
     "execution_count": 89,
     "metadata": {},
     "output_type": "execute_result"
    }
   ],
   "source": [
    "model_param_df_merged = pd.concat((model_param_df_gainloss,model_param_df_shock))\n",
    "model_param_df_merged.head()"
   ]
  },
  {
   "cell_type": "code",
   "execution_count": 90,
   "metadata": {
    "collapsed": true
   },
   "outputs": [],
   "source": [
    "b1 = model_param_df_merged.loc[(model_param_df_merged.parameter=='intercept')&\n",
    "                                    (model_param_df_merged.split=='ambig_gain'),['MID','beta']]\n",
    "b1.MID=b1.MID.apply(lambda x: x.replace('_2','')) # change MIDs\n",
    "\n",
    "b2 = model_param_df_merged.loc[(model_param_df_merged.parameter=='intercept')&\n",
    "                                    (model_param_df_merged.split=='ambig_loss'),['MID','beta']]\n",
    "\n",
    "b2.MID=b2.MID.apply(lambda x: x.replace('_2','')) # change MIDs\n",
    "\n",
    "b3 = model_param_df_merged.loc[(model_param_df_merged.parameter=='intercept')&\n",
    "                                    (model_param_df_merged.split=='ambig_shock'),['MID','beta']]\n"
   ]
  },
  {
   "cell_type": "code",
   "execution_count": 109,
   "metadata": {
    "collapsed": false
   },
   "outputs": [
    {
     "data": {
      "text/html": [
       "<div>\n",
       "<style>\n",
       "    .dataframe thead tr:only-child th {\n",
       "        text-align: right;\n",
       "    }\n",
       "\n",
       "    .dataframe thead th {\n",
       "        text-align: left;\n",
       "    }\n",
       "\n",
       "    .dataframe tbody tr th {\n",
       "        vertical-align: top;\n",
       "    }\n",
       "</style>\n",
       "<table border=\"1\" class=\"dataframe\">\n",
       "  <thead>\n",
       "    <tr style=\"text-align: right;\">\n",
       "      <th></th>\n",
       "      <th>MID</th>\n",
       "      <th>gain</th>\n",
       "      <th>loss</th>\n",
       "      <th>shock</th>\n",
       "    </tr>\n",
       "  </thead>\n",
       "  <tbody>\n",
       "    <tr>\n",
       "      <th>0</th>\n",
       "      <td>vp06</td>\n",
       "      <td>-1.759563</td>\n",
       "      <td>0.111916</td>\n",
       "      <td>-0.797270</td>\n",
       "    </tr>\n",
       "    <tr>\n",
       "      <th>1</th>\n",
       "      <td>vp07</td>\n",
       "      <td>-0.940911</td>\n",
       "      <td>-0.215213</td>\n",
       "      <td>-1.150478</td>\n",
       "    </tr>\n",
       "    <tr>\n",
       "      <th>2</th>\n",
       "      <td>vp10</td>\n",
       "      <td>-0.967023</td>\n",
       "      <td>-0.898051</td>\n",
       "      <td>-0.189711</td>\n",
       "    </tr>\n",
       "    <tr>\n",
       "      <th>3</th>\n",
       "      <td>vp11</td>\n",
       "      <td>-2.528785</td>\n",
       "      <td>-0.445783</td>\n",
       "      <td>-1.122089</td>\n",
       "    </tr>\n",
       "    <tr>\n",
       "      <th>4</th>\n",
       "      <td>vp12</td>\n",
       "      <td>-1.395154</td>\n",
       "      <td>-0.697326</td>\n",
       "      <td>-1.022866</td>\n",
       "    </tr>\n",
       "    <tr>\n",
       "      <th>5</th>\n",
       "      <td>vp13</td>\n",
       "      <td>-1.309941</td>\n",
       "      <td>-0.143657</td>\n",
       "      <td>-0.607373</td>\n",
       "    </tr>\n",
       "    <tr>\n",
       "      <th>6</th>\n",
       "      <td>vp15</td>\n",
       "      <td>-0.885204</td>\n",
       "      <td>-0.164933</td>\n",
       "      <td>-0.753717</td>\n",
       "    </tr>\n",
       "    <tr>\n",
       "      <th>7</th>\n",
       "      <td>vp16</td>\n",
       "      <td>-0.501820</td>\n",
       "      <td>-0.456424</td>\n",
       "      <td>-2.008383</td>\n",
       "    </tr>\n",
       "    <tr>\n",
       "      <th>8</th>\n",
       "      <td>vp17</td>\n",
       "      <td>-1.166017</td>\n",
       "      <td>-0.075185</td>\n",
       "      <td>-1.928867</td>\n",
       "    </tr>\n",
       "    <tr>\n",
       "      <th>9</th>\n",
       "      <td>vp18</td>\n",
       "      <td>-1.619956</td>\n",
       "      <td>0.092475</td>\n",
       "      <td>-0.271223</td>\n",
       "    </tr>\n",
       "    <tr>\n",
       "      <th>10</th>\n",
       "      <td>vp19</td>\n",
       "      <td>-0.227604</td>\n",
       "      <td>0.157507</td>\n",
       "      <td>-0.712443</td>\n",
       "    </tr>\n",
       "    <tr>\n",
       "      <th>11</th>\n",
       "      <td>vp20</td>\n",
       "      <td>-0.407831</td>\n",
       "      <td>0.591716</td>\n",
       "      <td>-0.659844</td>\n",
       "    </tr>\n",
       "    <tr>\n",
       "      <th>12</th>\n",
       "      <td>vp22</td>\n",
       "      <td>-1.916468</td>\n",
       "      <td>-0.688881</td>\n",
       "      <td>-1.922880</td>\n",
       "    </tr>\n",
       "    <tr>\n",
       "      <th>13</th>\n",
       "      <td>vp23</td>\n",
       "      <td>-2.061348</td>\n",
       "      <td>-0.282347</td>\n",
       "      <td>-1.177237</td>\n",
       "    </tr>\n",
       "    <tr>\n",
       "      <th>14</th>\n",
       "      <td>vp25</td>\n",
       "      <td>-1.298036</td>\n",
       "      <td>-1.142342</td>\n",
       "      <td>-1.570982</td>\n",
       "    </tr>\n",
       "    <tr>\n",
       "      <th>15</th>\n",
       "      <td>vp26</td>\n",
       "      <td>-1.120850</td>\n",
       "      <td>-0.667626</td>\n",
       "      <td>-0.968331</td>\n",
       "    </tr>\n",
       "    <tr>\n",
       "      <th>16</th>\n",
       "      <td>vp27</td>\n",
       "      <td>-1.527872</td>\n",
       "      <td>-0.482580</td>\n",
       "      <td>-1.854924</td>\n",
       "    </tr>\n",
       "    <tr>\n",
       "      <th>17</th>\n",
       "      <td>vp28</td>\n",
       "      <td>-1.364655</td>\n",
       "      <td>-0.771316</td>\n",
       "      <td>-1.154211</td>\n",
       "    </tr>\n",
       "    <tr>\n",
       "      <th>18</th>\n",
       "      <td>vp29</td>\n",
       "      <td>-0.546377</td>\n",
       "      <td>0.000794</td>\n",
       "      <td>0.433333</td>\n",
       "    </tr>\n",
       "    <tr>\n",
       "      <th>19</th>\n",
       "      <td>vp30</td>\n",
       "      <td>-1.582125</td>\n",
       "      <td>-0.334334</td>\n",
       "      <td>-0.774596</td>\n",
       "    </tr>\n",
       "  </tbody>\n",
       "</table>\n",
       "</div>"
      ],
      "text/plain": [
       "     MID      gain      loss     shock\n",
       "0   vp06 -1.759563  0.111916 -0.797270\n",
       "1   vp07 -0.940911 -0.215213 -1.150478\n",
       "2   vp10 -0.967023 -0.898051 -0.189711\n",
       "3   vp11 -2.528785 -0.445783 -1.122089\n",
       "4   vp12 -1.395154 -0.697326 -1.022866\n",
       "5   vp13 -1.309941 -0.143657 -0.607373\n",
       "6   vp15 -0.885204 -0.164933 -0.753717\n",
       "7   vp16 -0.501820 -0.456424 -2.008383\n",
       "8   vp17 -1.166017 -0.075185 -1.928867\n",
       "9   vp18 -1.619956  0.092475 -0.271223\n",
       "10  vp19 -0.227604  0.157507 -0.712443\n",
       "11  vp20 -0.407831  0.591716 -0.659844\n",
       "12  vp22 -1.916468 -0.688881 -1.922880\n",
       "13  vp23 -2.061348 -0.282347 -1.177237\n",
       "14  vp25 -1.298036 -1.142342 -1.570982\n",
       "15  vp26 -1.120850 -0.667626 -0.968331\n",
       "16  vp27 -1.527872 -0.482580 -1.854924\n",
       "17  vp28 -1.364655 -0.771316 -1.154211\n",
       "18  vp29 -0.546377  0.000794  0.433333\n",
       "19  vp30 -1.582125 -0.334334 -0.774596"
      ]
     },
     "execution_count": 109,
     "metadata": {},
     "output_type": "execute_result"
    }
   ],
   "source": [
    "triplet_df= b1.merge(b2,on='MID',how='outer').merge(b3,on='MID',how='outer')\n",
    "triplet_df.columns=['MID','gain','loss','shock']\n",
    "triplet_df"
   ]
  },
  {
   "cell_type": "code",
   "execution_count": 110,
   "metadata": {
    "collapsed": true
   },
   "outputs": [],
   "source": [
    "# smean = triplet_df.mean(axis=1).values\n",
    "# triplet_df['shock'] = triplet_df['shock']-smean\n",
    "# triplet_df['gain'] = triplet_df['gain']-smean\n",
    "# triplet_df['loss'] = triplet_df['loss']-smean"
   ]
  },
  {
   "cell_type": "code",
   "execution_count": 111,
   "metadata": {
    "collapsed": false
   },
   "outputs": [
    {
     "data": {
      "text/plain": [
       "gain    -1.256377\n",
       "loss    -0.325580\n",
       "shock   -1.010705\n",
       "dtype: float64"
      ]
     },
     "execution_count": 111,
     "metadata": {},
     "output_type": "execute_result"
    }
   ],
   "source": [
    "m = triplet_df.mean(axis=0).as_matrix()\n",
    "triplet_df.mean(axis=0)"
   ]
  },
  {
   "cell_type": "code",
   "execution_count": 112,
   "metadata": {
    "collapsed": false
   },
   "outputs": [
    {
     "data": {
      "text/plain": [
       "gain     0.130816\n",
       "loss     0.093473\n",
       "shock    0.141677\n",
       "dtype: float64"
      ]
     },
     "execution_count": 112,
     "metadata": {},
     "output_type": "execute_result"
    }
   ],
   "source": [
    "se = triplet_df.std(axis=0)/np.sqrt(len(triplet_df))\n",
    "triplet_df.std(axis=0)/np.sqrt(len(triplet_df))\n"
   ]
  },
  {
   "cell_type": "code",
   "execution_count": 113,
   "metadata": {
    "collapsed": false
   },
   "outputs": [
    {
     "data": {
      "image/png": "[encoded data removed]",
      "text/plain": [
       "<matplotlib.figure.Figure at 0x11d931b38>"
      ]
     },
     "metadata": {},
     "output_type": "display_data"
    }
   ],
   "source": [
    "plt.errorbar(x=[1,2,3],y=m,yerr=se)\n",
    "sns.despine()"
   ]
  },
  {
   "cell_type": "code",
   "execution_count": 114,
   "metadata": {
    "collapsed": true
   },
   "outputs": [],
   "source": [
    "def corrfunc(x, y, **kws):\n",
    "    r, _ = stats.pearsonr(x, y)\n",
    "    ax = plt.gca()\n",
    "    ax.annotate(\"r = {:.2f}\".format(r),\n",
    "                xy=(.1, .9), xycoords=ax.transAxes)"
   ]
  },
  {
   "cell_type": "code",
   "execution_count": 117,
   "metadata": {
    "collapsed": true
   },
   "outputs": [],
   "source": [
    "from scipy.stats import pearsonr"
   ]
  },
  {
   "cell_type": "code",
   "execution_count": 118,
   "metadata": {
    "collapsed": false
   },
   "outputs": [
    {
     "data": {
      "text/plain": [
       "<function scipy.stats.stats.pearsonr>"
      ]
     },
     "execution_count": 118,
     "metadata": {},
     "output_type": "execute_result"
    }
   ],
   "source": []
  },
  {
   "cell_type": "code",
   "execution_count": 120,
   "metadata": {
    "collapsed": false
   },
   "outputs": [
    {
     "data": {
      "image/png": "[encoded data removed]",
      "text/plain": [
       "<matplotlib.figure.Figure at 0x11f04eb38>"
      ]
     },
     "metadata": {},
     "output_type": "display_data"
    }
   ],
   "source": [
    "fig,axes = plt.subplots(1,3,figsize=(12,4))\n",
    "axes[0].scatter(triplet_df['gain'],triplet_df['shock'])\n",
    "axes[0].set_xlabel('gain')\n",
    "axes[0].set_ylabel('shock')\n",
    "r,p=pearsonr(triplet_df['gain'],triplet_df['shock'])\n",
    "axes[0].set_title('gain/shock r={0} p={1}'.format(np.round(r,2),np.round(p,2)))\n",
    "\n",
    "axes[1].scatter(triplet_df['gain'],triplet_df['loss'])\n",
    "axes[1].set_xlabel('gain')\n",
    "axes[1].set_ylabel('loss')\n",
    "r,p=pearsonr(triplet_df['gain'],triplet_df['loss'])\n",
    "axes[1].set_title('gain/loss r={0} p={1}'.format(np.round(r,2),np.round(p,2)))\n",
    "\n",
    "axes[2].scatter(triplet_df['shock'],triplet_df['loss'])\n",
    "axes[2].set_xlabel('shock')\n",
    "axes[2].set_ylabel('loss')\n",
    "r,p=pearsonr(triplet_df['shock'],triplet_df['loss'])\n",
    "axes[2].set_title('shock/loss r={0} p={1}'.format(np.round(r,2),np.round(p,2)))\n",
    "\n",
    "sns.despine()"
   ]
  }
 ],
 "metadata": {
  "anaconda-cloud": {},
  "hide_input": false,
  "kernelspec": {
   "display_name": "Python [conda root]",
   "language": "python",
   "name": "conda-root-py"
  },
  "language_info": {
   "codemirror_mode": {
    "name": "ipython",
    "version": 2
   },
   "file_extension": ".py",
   "mimetype": "text/x-python",
   "name": "python",
   "nbconvert_exporter": "python",
   "pygments_lexer": "ipython2",
   "version": "2.7.12"
  },
  "toc": {
   "nav_menu": {},
   "number_sections": true,
   "sideBar": true,
   "skip_h1_title": false,
   "toc_cell": false,
   "toc_position": {
    "height": "523px",
    "left": "0px",
    "right": "1192.45px",
    "top": "107px",
    "width": "212px"
   },
   "toc_section_display": "block",
   "toc_window_display": true
  }
 },
 "nbformat": 4,
 "nbformat_minor": 2
}
