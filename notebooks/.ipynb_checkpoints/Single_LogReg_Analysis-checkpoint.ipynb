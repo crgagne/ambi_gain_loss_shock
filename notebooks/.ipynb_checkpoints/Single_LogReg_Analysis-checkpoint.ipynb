{
 "cells": [
  {
   "cell_type": "markdown",
   "metadata": {},
   "source": [
    "- Model single model - use categorical and continuous \n",
    "    - see whether that weird inverse relationship still is there. \n",
    "    - See whether gain/loss/shock asymmetry still exists in these models. \n"
   ]
  },
  {
   "cell_type": "code",
   "execution_count": 147,
   "metadata": {},
   "outputs": [],
   "source": [
    "import os\n",
    "import pandas as pd\n",
    "import numpy as np\n",
    "import matplotlib.pyplot as plt\n",
    "import matplotlib\n",
    "%matplotlib inline\n",
    "import seaborn as sns\n",
    "import statsmodels.api as sm\n",
    "from patsy import dmatrices\n",
    "import scipy.stats as ss"
   ]
  },
  {
   "cell_type": "code",
   "execution_count": 153,
   "metadata": {},
   "outputs": [],
   "source": [
    "import sys\n",
    "sys.path.append(\"../functions/\")\n",
    "#for data preprocessing\n",
    "import Scripts_Data_Processing\n",
    "import imp\n",
    "\n",
    "imp.reload(Scripts_Data_Processing)\n",
    "from Scripts_Data_Processing import *\n",
    "#for model fit\n",
    "import Scripts_LogRegModels_v2\n",
    "imp.reload(Scripts_LogRegModels_v2)\n",
    "from Scripts_LogRegModels_v2 import *\n",
    "\n",
    "import NoBrainer_Analysis_AllinOne\n",
    "imp.reload( NoBrainer_Analysis_AllinOne)\n",
    "from  NoBrainer_Analysis_AllinOne import *\n",
    "\n",
    "import Correlation_bw_triplets\n",
    "imp.reload( Correlation_bw_triplets)\n",
    "from  Correlation_bw_triplets import *\n",
    "\n",
    "import Single_LogRegModels\n",
    "imp.reload(Single_LogRegModels)\n",
    "from Single_LogRegModels import fit_model_singRL\n",
    "\n",
    "import Wrappers\n",
    "imp.reload(Wrappers)\n",
    "from Wrappers import *\n"
   ]
  },
  {
   "cell_type": "code",
   "execution_count": 115,
   "metadata": {},
   "outputs": [
    {
     "name": "stderr",
     "output_type": "stream",
     "text": [
      "/Users/chris/anaconda/lib/python3.6/site-packages/pandas/core/indexing.py:337: SettingWithCopyWarning: \n",
      "A value is trying to be set on a copy of a slice from a DataFrame.\n",
      "Try using .loc[row_indexer,col_indexer] = value instead\n",
      "\n",
      "See the caveats in the documentation: http://pandas.pydata.org/pandas-docs/stable/indexing.html#indexing-view-versus-copy\n",
      "  self.obj[key] = _infer_fill_value(value)\n",
      "/Users/chris/anaconda/lib/python3.6/site-packages/pandas/core/indexing.py:517: SettingWithCopyWarning: \n",
      "A value is trying to be set on a copy of a slice from a DataFrame.\n",
      "Try using .loc[row_indexer,col_indexer] = value instead\n",
      "\n",
      "See the caveats in the documentation: http://pandas.pydata.org/pandas-docs/stable/indexing.html#indexing-view-versus-copy\n",
      "  self.obj[item] = s\n"
     ]
    }
   ],
   "source": [
    "vp_list = ['06', '07', '10', '11', '12', '13', '15', '16', '17', '18', '19', '20', '22', '23_2', '25_2', '26_2', '27_2', '28_2', '29', '30']\n",
    "df_nobrainer = betw_subs_no_brainer(vp_list)"
   ]
  },
  {
   "cell_type": "code",
   "execution_count": 116,
   "metadata": {},
   "outputs": [
    {
     "data": {
      "text/html": [
       "<div>\n",
       "<style>\n",
       "    .dataframe thead tr:only-child th {\n",
       "        text-align: right;\n",
       "    }\n",
       "\n",
       "    .dataframe thead th {\n",
       "        text-align: left;\n",
       "    }\n",
       "\n",
       "    .dataframe tbody tr th {\n",
       "        vertical-align: top;\n",
       "    }\n",
       "</style>\n",
       "<table border=\"1\" class=\"dataframe\">\n",
       "  <thead>\n",
       "    <tr style=\"text-align: right;\">\n",
       "      <th></th>\n",
       "      <th>MID</th>\n",
       "      <th>nbperf</th>\n",
       "    </tr>\n",
       "  </thead>\n",
       "  <tbody>\n",
       "    <tr>\n",
       "      <th>0</th>\n",
       "      <td>vp06</td>\n",
       "      <td>0.941176</td>\n",
       "    </tr>\n",
       "    <tr>\n",
       "      <th>1</th>\n",
       "      <td>vp07</td>\n",
       "      <td>0.970588</td>\n",
       "    </tr>\n",
       "    <tr>\n",
       "      <th>2</th>\n",
       "      <td>vp10</td>\n",
       "      <td>1.000000</td>\n",
       "    </tr>\n",
       "    <tr>\n",
       "      <th>3</th>\n",
       "      <td>vp11</td>\n",
       "      <td>0.970588</td>\n",
       "    </tr>\n",
       "    <tr>\n",
       "      <th>4</th>\n",
       "      <td>vp12</td>\n",
       "      <td>0.941176</td>\n",
       "    </tr>\n",
       "  </tbody>\n",
       "</table>\n",
       "</div>"
      ],
      "text/plain": [
       "    MID    nbperf\n",
       "0  vp06  0.941176\n",
       "1  vp07  0.970588\n",
       "2  vp10  1.000000\n",
       "3  vp11  0.970588\n",
       "4  vp12  0.941176"
      ]
     },
     "execution_count": 116,
     "metadata": {},
     "output_type": "execute_result"
    }
   ],
   "source": [
    "df_nobrainer.head()"
   ]
  },
  {
   "cell_type": "markdown",
   "metadata": {},
   "source": [
    "### Fitting a single subject\n",
    "\n",
    "- ** need to add shock to this model ** "
   ]
  },
  {
   "cell_type": "code",
   "execution_count": 164,
   "metadata": {},
   "outputs": [
    {
     "data": {
      "text/html": [
       "<table class=\"simpletable\">\n",
       "<caption>Logit Regression Results</caption>\n",
       "<tr>\n",
       "  <th>Dep. Variable:</th>         <td>y</td>        <th>  No. Observations:  </th>  <td>   150</td>  \n",
       "</tr>\n",
       "<tr>\n",
       "  <th>Model:</th>               <td>Logit</td>      <th>  Df Residuals:      </th>  <td>   145</td>  \n",
       "</tr>\n",
       "<tr>\n",
       "  <th>Method:</th>               <td>MLE</td>       <th>  Df Model:          </th>  <td>     4</td>  \n",
       "</tr>\n",
       "<tr>\n",
       "  <th>Date:</th>          <td>Wed, 06 Dec 2017</td> <th>  Pseudo R-squ.:     </th>  <td>0.2169</td>  \n",
       "</tr>\n",
       "<tr>\n",
       "  <th>Time:</th>              <td>22:07:40</td>     <th>  Log-Likelihood:    </th> <td> -80.906</td> \n",
       "</tr>\n",
       "<tr>\n",
       "  <th>converged:</th>           <td>True</td>       <th>  LL-Null:           </th> <td> -103.32</td> \n",
       "</tr>\n",
       "<tr>\n",
       "  <th> </th>                      <td> </td>        <th>  LLR p-value:       </th> <td>4.328e-09</td>\n",
       "</tr>\n",
       "</table>\n",
       "<table class=\"simpletable\">\n",
       "<tr>\n",
       "                 <td></td>                    <th>coef</th>     <th>std err</th>      <th>z</th>      <th>P>|z|</th>  <th>[0.025</th>    <th>0.975]</th>  \n",
       "</tr>\n",
       "<tr>\n",
       "  <th>intercept_r</th>                     <td>    0.2531</td> <td>    0.193</td> <td>    1.310</td> <td> 0.190</td> <td>   -0.126</td> <td>    0.632</td>\n",
       "</tr>\n",
       "<tr>\n",
       "  <th>mag_diff_rl_loss</th>                <td>    0.2564</td> <td>    0.247</td> <td>    1.039</td> <td> 0.299</td> <td>   -0.227</td> <td>    0.740</td>\n",
       "</tr>\n",
       "<tr>\n",
       "  <th>prob_diff_rl_loss</th>               <td>   -1.4515</td> <td>    0.293</td> <td>   -4.948</td> <td> 0.000</td> <td>   -2.026</td> <td>   -0.877</td>\n",
       "</tr>\n",
       "<tr>\n",
       "  <th>ambig_present_diff_rl_loss</th>      <td>    0.3554</td> <td>    0.456</td> <td>    0.779</td> <td> 0.436</td> <td>   -0.539</td> <td>    1.250</td>\n",
       "</tr>\n",
       "<tr>\n",
       "  <th>sqrt_prop_revealed_diff_rl_loss</th> <td>   -0.6759</td> <td>    0.459</td> <td>   -1.473</td> <td> 0.141</td> <td>   -1.575</td> <td>    0.223</td>\n",
       "</tr>\n",
       "</table>"
      ],
      "text/plain": [
       "<class 'statsmodels.iolib.summary.Summary'>\n",
       "\"\"\"\n",
       "                           Logit Regression Results                           \n",
       "==============================================================================\n",
       "Dep. Variable:                      y   No. Observations:                  150\n",
       "Model:                          Logit   Df Residuals:                      145\n",
       "Method:                           MLE   Df Model:                            4\n",
       "Date:                Wed, 06 Dec 2017   Pseudo R-squ.:                  0.2169\n",
       "Time:                        22:07:40   Log-Likelihood:                -80.906\n",
       "converged:                       True   LL-Null:                       -103.32\n",
       "                                        LLR p-value:                 4.328e-09\n",
       "===================================================================================================\n",
       "                                      coef    std err          z      P>|z|      [0.025      0.975]\n",
       "---------------------------------------------------------------------------------------------------\n",
       "intercept_r                         0.2531      0.193      1.310      0.190      -0.126       0.632\n",
       "mag_diff_rl_loss                    0.2564      0.247      1.039      0.299      -0.227       0.740\n",
       "prob_diff_rl_loss                  -1.4515      0.293     -4.948      0.000      -2.026      -0.877\n",
       "ambig_present_diff_rl_loss          0.3554      0.456      0.779      0.436      -0.539       1.250\n",
       "sqrt_prop_revealed_diff_rl_loss    -0.6759      0.459     -1.473      0.141      -1.575       0.223\n",
       "===================================================================================================\n",
       "\"\"\""
      ]
     },
     "execution_count": 164,
     "metadata": {},
     "output_type": "execute_result"
    }
   ],
   "source": [
    "kwargs = {} # key-word arguments \n",
    "\n",
    "# model 1\n",
    "#kwargs['params']=['mag_diff_rl','prob_diff_rl','ambig_present']\n",
    "\n",
    "# model 2\n",
    "#kwargs['params']=['mag_diff_rl','prob_diff_rl','sqrt_prop_revealed']\n",
    "\n",
    "# model 3\n",
    "kwargs['params']=['mag_diff_rl','prob_diff_rl','ambig_present','sqrt_prop_revealed']\n",
    "\n",
    "kwargs['combined']=True\n",
    "kwargs['split_gain_loss']=True\n",
    "kwargs['return_gain_or_loss']='gain'\n",
    "kwargs['return_gain_or_loss']='loss'\n",
    "\n",
    "out = fit_model_singRL(gainloss_ls_df,**kwargs)\n",
    "\n",
    "out['results'].summary()"
   ]
  },
  {
   "cell_type": "code",
   "execution_count": 151,
   "metadata": {},
   "outputs": [],
   "source": [
    "#out['llr_pvalue']"
   ]
  },
  {
   "cell_type": "markdown",
   "metadata": {},
   "source": [
    "### Fitting all subjects\n",
    "\n",
    "** left to do: **\n",
    "- run gain,loss,shock separately and merge\n",
    "- shock needs to be set up properly for model beforehand. \n"
   ]
  },
  {
   "cell_type": "code",
   "execution_count": 154,
   "metadata": {},
   "outputs": [],
   "source": [
    "vp_list = ['06','07','10','11', '12', '13', '15', '16', '17', '18', '19', '20', '22', '23_2', '25_2', '26_2', '27_2', '28_2', '29', '30']\n"
   ]
  },
  {
   "cell_type": "code",
   "execution_count": 155,
   "metadata": {},
   "outputs": [],
   "source": [
    "kwargs = {}\n",
    "kwargs['params']=['mag_diff_rl','prob_diff_rl','ambig_present','sqrt_prop_revealed']\n",
    "kwargs['combined']=True\n",
    "kwargs['split_gain_loss']=True\n",
    "kwargs['return_gain_or_loss']='gain'\n",
    "\n",
    "model_summary_df, model_param_df=bets_subs_model_fits(vp_list,fit_model_singRL,kwargs)"
   ]
  },
  {
   "cell_type": "code",
   "execution_count": 157,
   "metadata": {},
   "outputs": [
    {
     "data": {
      "text/html": [
       "<div>\n",
       "<style>\n",
       "    .dataframe thead tr:only-child th {\n",
       "        text-align: right;\n",
       "    }\n",
       "\n",
       "    .dataframe thead th {\n",
       "        text-align: left;\n",
       "    }\n",
       "\n",
       "    .dataframe tbody tr th {\n",
       "        vertical-align: top;\n",
       "    }\n",
       "</style>\n",
       "<table border=\"1\" class=\"dataframe\">\n",
       "  <thead>\n",
       "    <tr style=\"text-align: right;\">\n",
       "      <th></th>\n",
       "      <th>MID</th>\n",
       "      <th>parameter</th>\n",
       "      <th>beta</th>\n",
       "      <th>se</th>\n",
       "    </tr>\n",
       "  </thead>\n",
       "  <tbody>\n",
       "    <tr>\n",
       "      <th>1</th>\n",
       "      <td>vp06</td>\n",
       "      <td>intercept_r</td>\n",
       "      <td>0.087299</td>\n",
       "      <td>0.195478441092</td>\n",
       "    </tr>\n",
       "    <tr>\n",
       "      <th>2</th>\n",
       "      <td>vp06</td>\n",
       "      <td>mag_diff</td>\n",
       "      <td>0.687285</td>\n",
       "      <td>0.259381767209</td>\n",
       "    </tr>\n",
       "    <tr>\n",
       "      <th>3</th>\n",
       "      <td>vp06</td>\n",
       "      <td>prob_diff</td>\n",
       "      <td>0.747259</td>\n",
       "      <td>0.256619047159</td>\n",
       "    </tr>\n",
       "    <tr>\n",
       "      <th>4</th>\n",
       "      <td>vp06</td>\n",
       "      <td>ambig_present_diff</td>\n",
       "      <td>-0.635372</td>\n",
       "      <td>0.487465190203</td>\n",
       "    </tr>\n",
       "    <tr>\n",
       "      <th>5</th>\n",
       "      <td>vp06</td>\n",
       "      <td>sqrt_prop_revealed_diff</td>\n",
       "      <td>-0.710478</td>\n",
       "      <td>0.529343588514</td>\n",
       "    </tr>\n",
       "  </tbody>\n",
       "</table>\n",
       "</div>"
      ],
      "text/plain": [
       "    MID                parameter      beta              se\n",
       "1  vp06              intercept_r  0.087299  0.195478441092\n",
       "2  vp06                 mag_diff  0.687285  0.259381767209\n",
       "3  vp06                prob_diff  0.747259  0.256619047159\n",
       "4  vp06       ambig_present_diff -0.635372  0.487465190203\n",
       "5  vp06  sqrt_prop_revealed_diff -0.710478  0.529343588514"
      ]
     },
     "execution_count": 157,
     "metadata": {},
     "output_type": "execute_result"
    }
   ],
   "source": [
    "model_param_df.head()"
   ]
  },
  {
   "cell_type": "code",
   "execution_count": 137,
   "metadata": {},
   "outputs": [
    {
     "data": {
      "text/html": [
       "<div>\n",
       "<style>\n",
       "    .dataframe thead tr:only-child th {\n",
       "        text-align: right;\n",
       "    }\n",
       "\n",
       "    .dataframe thead th {\n",
       "        text-align: left;\n",
       "    }\n",
       "\n",
       "    .dataframe tbody tr th {\n",
       "        vertical-align: top;\n",
       "    }\n",
       "</style>\n",
       "<table border=\"1\" class=\"dataframe\">\n",
       "  <thead>\n",
       "    <tr style=\"text-align: right;\">\n",
       "      <th></th>\n",
       "      <th>MID</th>\n",
       "      <th>bic</th>\n",
       "      <th>aic</th>\n",
       "      <th>pseudoR2</th>\n",
       "      <th>pred_acc</th>\n",
       "      <th>llr_pvalue</th>\n",
       "    </tr>\n",
       "  </thead>\n",
       "  <tbody>\n",
       "    <tr>\n",
       "      <th>0</th>\n",
       "      <td>vp06</td>\n",
       "      <td>421.578757</td>\n",
       "      <td>417.874975</td>\n",
       "      <td>3.774758e-15</td>\n",
       "      <td>0.503333</td>\n",
       "      <td>NaN</td>\n",
       "    </tr>\n",
       "    <tr>\n",
       "      <th>1</th>\n",
       "      <td>vp07</td>\n",
       "      <td>419.335928</td>\n",
       "      <td>415.632146</td>\n",
       "      <td>-3.330669e-15</td>\n",
       "      <td>0.543333</td>\n",
       "      <td>NaN</td>\n",
       "    </tr>\n",
       "    <tr>\n",
       "      <th>2</th>\n",
       "      <td>vp10</td>\n",
       "      <td>418.974950</td>\n",
       "      <td>415.271168</td>\n",
       "      <td>-8.881784e-16</td>\n",
       "      <td>0.546667</td>\n",
       "      <td>NaN</td>\n",
       "    </tr>\n",
       "    <tr>\n",
       "      <th>3</th>\n",
       "      <td>vp11</td>\n",
       "      <td>419.335928</td>\n",
       "      <td>415.632146</td>\n",
       "      <td>-3.108624e-15</td>\n",
       "      <td>0.543333</td>\n",
       "      <td>NaN</td>\n",
       "    </tr>\n",
       "    <tr>\n",
       "      <th>4</th>\n",
       "      <td>vp12</td>\n",
       "      <td>421.538756</td>\n",
       "      <td>417.834973</td>\n",
       "      <td>-1.110223e-15</td>\n",
       "      <td>0.506667</td>\n",
       "      <td>NaN</td>\n",
       "    </tr>\n",
       "  </tbody>\n",
       "</table>\n",
       "</div>"
      ],
      "text/plain": [
       "    MID         bic         aic      pseudoR2  pred_acc  llr_pvalue\n",
       "0  vp06  421.578757  417.874975  3.774758e-15  0.503333         NaN\n",
       "1  vp07  419.335928  415.632146 -3.330669e-15  0.543333         NaN\n",
       "2  vp10  418.974950  415.271168 -8.881784e-16  0.546667         NaN\n",
       "3  vp11  419.335928  415.632146 -3.108624e-15  0.543333         NaN\n",
       "4  vp12  421.538756  417.834973 -1.110223e-15  0.506667         NaN"
      ]
     },
     "execution_count": 137,
     "metadata": {},
     "output_type": "execute_result"
    }
   ],
   "source": [
    "model_summary_df.head()"
   ]
  },
  {
   "cell_type": "code",
   "execution_count": 163,
   "metadata": {},
   "outputs": [
    {
     "data": {
      "text/html": [
       "<div>\n",
       "<style>\n",
       "    .dataframe thead tr:only-child th {\n",
       "        text-align: right;\n",
       "    }\n",
       "\n",
       "    .dataframe thead th {\n",
       "        text-align: left;\n",
       "    }\n",
       "\n",
       "    .dataframe tbody tr th {\n",
       "        vertical-align: top;\n",
       "    }\n",
       "</style>\n",
       "<table border=\"1\" class=\"dataframe\">\n",
       "  <thead>\n",
       "    <tr style=\"text-align: right;\">\n",
       "      <th></th>\n",
       "      <th>MID</th>\n",
       "      <th>bic</th>\n",
       "      <th>aic</th>\n",
       "      <th>pseudoR2</th>\n",
       "      <th>pred_acc</th>\n",
       "      <th>llr_pvalue</th>\n",
       "      <th>nbperf</th>\n",
       "    </tr>\n",
       "  </thead>\n",
       "  <tbody>\n",
       "    <tr>\n",
       "      <th>0</th>\n",
       "      <td>vp06</td>\n",
       "      <td>182.704033</td>\n",
       "      <td>167.650857</td>\n",
       "      <td>0.241470</td>\n",
       "      <td>0.733333</td>\n",
       "      <td>3.300985e-10</td>\n",
       "      <td>0.941176</td>\n",
       "    </tr>\n",
       "    <tr>\n",
       "      <th>1</th>\n",
       "      <td>vp07</td>\n",
       "      <td>195.547738</td>\n",
       "      <td>180.494561</td>\n",
       "      <td>0.173297</td>\n",
       "      <td>0.746667</td>\n",
       "      <td>3.273379e-07</td>\n",
       "      <td>0.970588</td>\n",
       "    </tr>\n",
       "    <tr>\n",
       "      <th>2</th>\n",
       "      <td>vp10</td>\n",
       "      <td>172.045149</td>\n",
       "      <td>156.991972</td>\n",
       "      <td>0.288642</td>\n",
       "      <td>0.753333</td>\n",
       "      <td>3.446771e-12</td>\n",
       "      <td>1.000000</td>\n",
       "    </tr>\n",
       "    <tr>\n",
       "      <th>3</th>\n",
       "      <td>vp11</td>\n",
       "      <td>121.231556</td>\n",
       "      <td>106.178380</td>\n",
       "      <td>0.530163</td>\n",
       "      <td>0.846667</td>\n",
       "      <td>1.499706e-22</td>\n",
       "      <td>0.970588</td>\n",
       "    </tr>\n",
       "    <tr>\n",
       "      <th>4</th>\n",
       "      <td>vp12</td>\n",
       "      <td>174.813764</td>\n",
       "      <td>159.760587</td>\n",
       "      <td>0.279711</td>\n",
       "      <td>0.766667</td>\n",
       "      <td>7.073677e-12</td>\n",
       "      <td>0.941176</td>\n",
       "    </tr>\n",
       "  </tbody>\n",
       "</table>\n",
       "</div>"
      ],
      "text/plain": [
       "    MID         bic         aic  pseudoR2  pred_acc    llr_pvalue    nbperf\n",
       "0  vp06  182.704033  167.650857  0.241470  0.733333  3.300985e-10  0.941176\n",
       "1  vp07  195.547738  180.494561  0.173297  0.746667  3.273379e-07  0.970588\n",
       "2  vp10  172.045149  156.991972  0.288642  0.753333  3.446771e-12  1.000000\n",
       "3  vp11  121.231556  106.178380  0.530163  0.846667  1.499706e-22  0.970588\n",
       "4  vp12  174.813764  159.760587  0.279711  0.766667  7.073677e-12  0.941176"
      ]
     },
     "execution_count": 163,
     "metadata": {},
     "output_type": "execute_result"
    }
   ],
   "source": [
    "## EXAMPLE HOW TO MERGE\n",
    "model_summary_df.merge(df_nobrainer).head()"
   ]
  },
  {
   "cell_type": "markdown",
   "metadata": {},
   "source": [
    "### Plotting Scatter Plots to see if weird correlations still exist"
   ]
  },
  {
   "cell_type": "code",
   "execution_count": null,
   "metadata": {
    "collapsed": true
   },
   "outputs": [],
   "source": []
  },
  {
   "cell_type": "markdown",
   "metadata": {},
   "source": [
    "### Bar Plots to see if we still get different ambiguity parameters for gain/loss/shock"
   ]
  },
  {
   "cell_type": "code",
   "execution_count": null,
   "metadata": {
    "collapsed": true
   },
   "outputs": [],
   "source": []
  }
 ],
 "metadata": {
  "hide_input": false,
  "kernelspec": {
   "display_name": "Python 3",
   "language": "python",
   "name": "python3"
  },
  "language_info": {
   "codemirror_mode": {
    "name": "ipython",
    "version": 3
   },
   "file_extension": ".py",
   "mimetype": "text/x-python",
   "name": "python",
   "nbconvert_exporter": "python",
   "pygments_lexer": "ipython3",
   "version": "3.6.1"
  },
  "toc": {
   "nav_menu": {},
   "number_sections": true,
   "sideBar": true,
   "skip_h1_title": false,
   "toc_cell": false,
   "toc_position": {},
   "toc_section_display": "block",
   "toc_window_display": false
  }
 },
 "nbformat": 4,
 "nbformat_minor": 2
}
