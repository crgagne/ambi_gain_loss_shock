{
 "cells": [
  {
   "cell_type": "markdown",
   "metadata": {},
   "source": [
    "# Compare Emma's New Data to Old Data\n",
    "\n",
    "- turns out using magleft etc was not correct ** \n",
    "- needed to use \"data\" "
   ]
  },
  {
   "cell_type": "code",
   "execution_count": 86,
   "metadata": {
    "collapsed": true
   },
   "outputs": [],
   "source": [
    "import scipy.io\n",
    "import pandas as pd\n",
    "import numpy as np\n",
    "import glob\n",
    "import pickle\n",
    "import os\n",
    "import matplotlib.pyplot as plt\n",
    "import matplotlib\n",
    "import seaborn as sns\n",
    "%matplotlib inline"
   ]
  },
  {
   "cell_type": "markdown",
   "metadata": {},
   "source": [
    "## Exploring her mat file"
   ]
  },
  {
   "cell_type": "code",
   "execution_count": 87,
   "metadata": {},
   "outputs": [
    {
     "name": "stderr",
     "output_type": "stream",
     "text": [
      "/Users/chris/anaconda/lib/python3.6/site-packages/scipy/io/matlab/mio.py:136: MatReadWarning: Duplicate variable name \"None\" in stream - replacing previous with new\n",
      "Consider mio5.varmats_from_mat to split file into single variable files\n",
      "  matfile_dict = MR.get_variables(variable_names)\n"
     ]
    }
   ],
   "source": [
    "dictt = scipy.io.loadmat('../data/data_emmas_1_15_18/DataMatrix_AllfMRI_FinalSubjects.mat')"
   ]
  },
  {
   "cell_type": "code",
   "execution_count": 88,
   "metadata": {},
   "outputs": [
    {
     "data": {
      "text/plain": [
       "array([ 0.54,  0.12,  0.12,  0.28,  0.08,  0.36,  0.56,  0.42,  0.56])"
      ]
     },
     "execution_count": 88,
     "metadata": {},
     "output_type": "execute_result"
    }
   ],
   "source": [
    "dictt['data'][0][0][:,5] #amb\n",
    "dictt['data'][0][0][:,3] # ml\n",
    "dictt['data'][0][0][:,4] # mr\n",
    "dictt['data'][0][0][:,0] # p\n",
    "dictt['data'][0][0][1:10,1] # p 2 is beta-corrected I believe. "
   ]
  },
  {
   "cell_type": "code",
   "execution_count": 89,
   "metadata": {},
   "outputs": [
    {
     "data": {
      "text/plain": [
       "array([ 0.54 ,  0.15 ,  0.125,  0.28 ,  0.1  ,  0.36 ,  1.   ,  0.5  ,\n",
       "        0.56 ])"
      ]
     },
     "execution_count": 89,
     "metadata": {},
     "output_type": "execute_result"
    }
   ],
   "source": [
    "dictt['data'][0][0][1:10,2]"
   ]
  },
  {
   "cell_type": "code",
   "execution_count": 90,
   "metadata": {},
   "outputs": [],
   "source": [
    "#dictt['data'][sub][0][:,2]*dictt['data'][sub][0][:,5]*50"
   ]
  },
  {
   "cell_type": "code",
   "execution_count": 91,
   "metadata": {},
   "outputs": [
    {
     "data": {
      "text/plain": [
       "array([ 0.125,  0.1  ,  1.   ,  0.5  ,  0.4  ,  0.   ,  1.   ,  0.5  ,  0.   ])"
      ]
     },
     "execution_count": 91,
     "metadata": {},
     "output_type": "execute_result"
    }
   ],
   "source": [
    "#dictt['data'][0][sub]\n",
    "amb=(dictt['data'][0][0][:,5]!=1.0)\n",
    "dictt['data'][0][0][amb,2][1:10] # 3 that she uses. This is revealed"
   ]
  },
  {
   "cell_type": "code",
   "execution_count": 92,
   "metadata": {},
   "outputs": [
    {
     "data": {
      "text/plain": [
       "array([ 0.12,  0.08,  0.56,  0.42,  0.36,  0.12,  0.4 ,  0.62,  0.16])"
      ]
     },
     "execution_count": 92,
     "metadata": {},
     "output_type": "execute_result"
    }
   ],
   "source": [
    "#dictt['data'][0][sub]\n",
    "dictt['data'][0][0][amb,1][1:10] # 2 this must be true prob.. not revealed.. otherwise no way 56-->1.0"
   ]
  },
  {
   "cell_type": "code",
   "execution_count": 93,
   "metadata": {},
   "outputs": [
    {
     "data": {
      "text/plain": [
       "array([ 0.14285571,  0.166665  ,  0.66667   ,  0.499995  ,  0.42856714,\n",
       "        0.0833325 ,  0.66667   ,  0.499995  ,  0.199998  ])"
      ]
     },
     "execution_count": 93,
     "metadata": {},
     "output_type": "execute_result"
    }
   ],
   "source": [
    "dictt['pShock'][1:10,0] # beta corrected. "
   ]
  },
  {
   "cell_type": "code",
   "execution_count": 94,
   "metadata": {},
   "outputs": [
    {
     "data": {
      "text/plain": [
       "array([ 12.,  27.,   3.,   5.,  14.,   1.,  18.,   1.,   5.,  28.,   2.,\n",
       "         0.,  38.,   1.,   1.,  12.,   0.,   2.,  46.,   4.,   5.,  14.,\n",
       "         3.,   4.,   1.,  24.,   1.,   7.,  26.,  14.,  10.,  10.,  12.,\n",
       "        34.,   2.,  36.,   1.,  20.,   1.,   3.,   0.,  33.,   0.,  38.,\n",
       "         0.,   3.,  23.,  14.,  30.,   0.,  38.,   6.,  37.,   1.,  42.,\n",
       "        36.,  32.,   0.,   1.,  36.,  16.,  20.,  12.,  44.,  30.,   1.,\n",
       "         1.,  40.,   1.,   1.,  42.,   9.,  32.,  11.,   0.,  24.,  20.,\n",
       "         0.,  34.,  15.,   2.,   1.,  39.,  26.,   1.,  46.,  28.,  14.,\n",
       "         5.,   2.,  46.,  27.,   3.,  23.,  10.,  14.,   2.,   1.,   4.,\n",
       "        40.,  48.,   2.,  25.,  19.,   1.,  42.,   1.,   3.,   1.,  39.,\n",
       "        16.,  32.,   2.,  42.,   2.,  20.,  25.,   2.,   7.,   9.,  32.,\n",
       "         8.,   4.,   2.,  21.,  34.,  10.,  44.,   0.,  38.,   2.,   8.,\n",
       "        45.,  30.,   3.,  24.,  30.,  32.,   1.,  20.,  19.,   1.,  31.,\n",
       "         8.,  36.,  15.,   1.,   1.,  26.,  28.,  30.,  24.,  10.,   2.,\n",
       "         1.,  36.,   6.,   3.,  46.,  42.,  33.,   0.,  34.,  48.,  38.,\n",
       "         9.,  30.,   6.,   6.,   2.,  28.,  14.,  30.,  36.,   0.,   7.,\n",
       "         4.,  29.,  33.,   1.,  26.,   3.,   9.,  14.,  38.,   3.,   2.,\n",
       "         5.,   1.,  37.,  22.,   0.,  14.,   1.,   9.,  22.,  24.,   2.,\n",
       "         5.,   8.])"
      ]
     },
     "execution_count": 94,
     "metadata": {},
     "output_type": "execute_result"
    }
   ],
   "source": [
    "dictt['data'][0][sub][:,2]*dictt['data'][0][sub][:,5]*50.0"
   ]
  },
  {
   "cell_type": "markdown",
   "metadata": {},
   "source": [
    "## Saving out Data"
   ]
  },
  {
   "cell_type": "code",
   "execution_count": 95,
   "metadata": {},
   "outputs": [],
   "source": [
    "# convert data into a form that is useable for my model scripts. \n",
    "MIDs = []\n",
    "for sub in range(32):\n",
    "    trial_array = np.empty((200,8))\n",
    "    \n",
    "    # basic \n",
    "    trial_array[:,0] = dictt['choices'][:,sub] # check this is right/left \n",
    "    trial_array[:,1] =dictt['data'][0][sub][:,0] # p\n",
    "    trial_array[:,2] =dictt['data'][0][sub][:,2] # revealed probl \n",
    "    trial_array[:,3] =dictt['data'][0][sub][:,3]/100.0 # ml\n",
    "    trial_array[:,4] =dictt['data'][0][sub][:,4]/100.0 # mr\n",
    "    trial_array[:,5] =dictt['data'][0][sub][:,5] #amb\n",
    "    trial_array[:,6] =dictt['data'][0][sub][:,5]*50.0 # revealed number \n",
    "    trial_array[:,7] =dictt['data'][0][sub][:,2]*dictt['data'][0][sub][:,5]*50.0 # calculating revealed o \n",
    "    \n",
    "    \n",
    "    # make dataFrame\n",
    "    trial_data = pd.DataFrame(data=trial_array,columns=['resp_r_1','prob_x_l','prob_x_r','mag_left','mag_right',\n",
    "                                                        'info_amb','num_revealed','revealed_x_r'])\n",
    "    \n",
    "    # response \n",
    "    trial_data.loc[trial_data['resp_r_1']>1,'resp_r_1']=np.nan\n",
    "    trial_data['resp_amb_1'] = trial_data['resp_r_1']\n",
    "    \n",
    "    # mag \n",
    "    trial_data['mag_ambig']=trial_data['mag_right']\n",
    "    trial_data['mag_unambig']=trial_data['mag_left']\n",
    "    \n",
    "    # prob\n",
    "    # changed this to say 'x' instead of 'o'. (not substantive change)\n",
    "    # for the scripts that hanna wrote\n",
    "    trial_data['prob_x_unambig']=trial_data['prob_x_l']\n",
    "    trial_data['prob_x_ambig']=trial_data['prob_x_r']\n",
    "\n",
    "    trial_data['prob_o_l']=1.0-trial_data['prob_x_l']\n",
    "    trial_data['prob_o_r']=1.0-trial_data['prob_x_r']\n",
    "    \n",
    "    # actual number of revealed tokens. (NOT SURE IF I HAVE YET)\n",
    "    trial_data['revealed_x_ambig']=trial_data['revealed_x_r'] # right side is ambig\n",
    "    trial_data['revealed_o_ambig']=trial_data['num_revealed']-trial_data['revealed_x_ambig']\n",
    "    \n",
    "    # beta correct\n",
    "    \n",
    "    trial_data.loc[trial_data['info_amb']!=1.0,'prob_x_ambig_bayes_emmas'] = dictt['pShock'][:,sub]\n",
    "    trial_data['prob_x_ambig_bayes_mine']=(trial_data['revealed_x_ambig']+1)/(trial_data['num_revealed']+2)\n",
    "    trial_data['prob_x_ambig_bayes']=trial_data['prob_x_ambig_bayes_mine'].copy()\n",
    "    \n",
    "    # ambiguity level \n",
    "    trial_data['info_amb_sqrt']=np.sqrt(trial_data['info_amb'])\n",
    "    trial_data['ambig_r']=(trial_data['info_amb_sqrt']!=1).astype('int')\n",
    "    trial_data['ambig_l']=np.zeros(len(trial_data))\n",
    "    trial_data['ambiguityLevel'] = 1.0 - trial_data['info_amb_sqrt']#np.sqrt(trial_data['revealed_o_r'])\n",
    "    trial_data['revealed_ambi']=trial_data['info_amb_sqrt']\n",
    "    \n",
    "    trial_data['gain_or_loss_trial']='gain'\n",
    "    \n",
    "    trial_data['MID']='S'+str(sub)\n",
    "    MIDs.append('S'+str(sub))\n",
    "    \n",
    "    trial_data.to_csv('../data/data_emmas_logfiles_from_mat_1_15_17/S'+str(sub)+'.csv')\n",
    "\n",
    "\n"
   ]
  },
  {
   "cell_type": "markdown",
   "metadata": {},
   "source": [
    "- my beta-corrected prob matches hers. "
   ]
  },
  {
   "cell_type": "code",
   "execution_count": 96,
   "metadata": {},
   "outputs": [
    {
     "data": {
      "text/plain": [
       "1    0.538462\n",
       "2    0.181818\n",
       "3    0.142857\n",
       "4    0.288462\n",
       "5    0.166667\n",
       "6    0.365385\n",
       "7    0.666667\n",
       "8    0.500000\n",
       "9    0.557692\n",
       "Name: prob_x_ambig_bayes, dtype: float64"
      ]
     },
     "execution_count": 96,
     "metadata": {},
     "output_type": "execute_result"
    }
   ],
   "source": [
    "trial_data['prob_x_ambig_bayes'][1:10]"
   ]
  },
  {
   "cell_type": "code",
   "execution_count": 97,
   "metadata": {},
   "outputs": [
    {
     "data": {
      "text/plain": [
       "1         NaN\n",
       "2    0.181816\n",
       "3    0.142856\n",
       "4         NaN\n",
       "5    0.166665\n",
       "6         NaN\n",
       "7    0.666670\n",
       "8    0.499995\n",
       "9         NaN\n",
       "Name: prob_x_ambig_bayes_emmas, dtype: float64"
      ]
     },
     "execution_count": 97,
     "metadata": {},
     "output_type": "execute_result"
    }
   ],
   "source": [
    "trial_data['prob_x_ambig_bayes_emmas'][1:10]"
   ]
  }
 ],
 "metadata": {
  "hide_input": false,
  "kernelspec": {
   "display_name": "Python 3",
   "language": "python",
   "name": "python3"
  },
  "language_info": {
   "codemirror_mode": {
    "name": "ipython",
    "version": 3
   },
   "file_extension": ".py",
   "mimetype": "text/x-python",
   "name": "python",
   "nbconvert_exporter": "python",
   "pygments_lexer": "ipython3",
   "version": "3.6.1"
  },
  "toc": {
   "nav_menu": {
    "height": "65px",
    "width": "253px"
   },
   "number_sections": false,
   "sideBar": true,
   "skip_h1_title": false,
   "toc_cell": false,
   "toc_position": {
    "height": "1056px",
    "left": "0px",
    "right": "1822.5px",
    "top": "114px",
    "width": "273px"
   },
   "toc_section_display": "block",
   "toc_window_display": true
  }
 },
 "nbformat": 4,
 "nbformat_minor": 1
}
