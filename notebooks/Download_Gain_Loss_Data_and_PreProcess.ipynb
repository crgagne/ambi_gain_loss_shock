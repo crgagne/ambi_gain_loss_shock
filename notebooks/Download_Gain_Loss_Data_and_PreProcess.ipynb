{
 "cells": [
  {
   "cell_type": "code",
   "execution_count": 1,
   "metadata": {
    "collapsed": true
   },
   "outputs": [],
   "source": [
    "import MySQLdb\n",
    "import _mysql\n",
    "import numpy as np\n",
    "import csv\n",
    "import pandas as pd\n",
    "import csv\n",
    "import os\n",
    "import os"
   ]
  },
  {
   "cell_type": "code",
   "execution_count": 2,
   "metadata": {
    "collapsed": true
   },
   "outputs": [],
   "source": [
    "savedir= '..\\\\data\\\\data_gainloss_logfiles\\\\'"
   ]
  },
  {
   "cell_type": "code",
   "execution_count": 3,
   "metadata": {
    "collapsed": false
   },
   "outputs": [
    {
     "data": {
      "text/plain": [
       "'..\\\\data\\\\data_gainloss_logfiles\\\\'"
      ]
     },
     "execution_count": 3,
     "metadata": {},
     "output_type": "execute_result"
    }
   ],
   "source": [
    "savedir"
   ]
  },
  {
   "cell_type": "markdown",
   "metadata": {},
   "source": [
    "## Participant Data"
   ]
  },
  {
   "cell_type": "code",
   "execution_count": 4,
   "metadata": {
    "collapsed": false
   },
   "outputs": [
    {
     "name": "stdout",
     "output_type": "stream",
     "text": [
      "['id', 'MID', 'start_date', 'start_time', 'completion_code', 'completed', 'progress', 'total_tasks', 'tasks', 'cb', 'session_id', 'AID', 'HID', 'progress_times', 'cb2', 'progress_times2', 'show_info_sheet', 'agreed_to_be_contacted', 'which_completion_message', 'breaks']\n"
     ]
    }
   ],
   "source": [
    "## Get All  Participants \n",
    "## Connect to DB\n",
    "db=_mysql.connect(host=\"christest.c5s5wgavsyu2.us-west-2.rds.amazonaws.com\",user=\"christest\",\n",
    "                  passwd=\"\",db=\"chrisdb\")\n",
    "\n",
    "db.query(\"\"\"SELECT column_name FROM information_schema.columns WHERE table_name = 'web_experiments_participant'\"\"\")\n",
    "r=db.store_result() # sends the whole results\n",
    "header = r.fetch_row(0)\n",
    "header = [hh[0] for hh in header]\n",
    "print(header)\n"
   ]
  },
  {
   "cell_type": "code",
   "execution_count": 5,
   "metadata": {
    "collapsed": true,
    "scrolled": true
   },
   "outputs": [],
   "source": [
    "db.query(\"\"\"SELECT * FROM web_experiments_participant WHERE (MID LIKE \"vp%\")\"\"\")\n",
    "r=db.store_result() # sends the whole results\n",
    "rows = r.fetch_row(100)\n"
   ]
  },
  {
   "cell_type": "code",
   "execution_count": 6,
   "metadata": {
    "collapsed": true
   },
   "outputs": [],
   "source": [
    "i=0\n",
    "for r in rows:\n",
    "    if i==0:\n",
    "        df = pd.DataFrame(data=np.array((r))).T\n",
    "        df.columns=header\n",
    "        i+=1\n",
    "    else:\n",
    "        df.loc[i,]=np.array((r))\n",
    "        i+=1\n",
    "        "
   ]
  },
  {
   "cell_type": "code",
   "execution_count": 7,
   "metadata": {
    "collapsed": false
   },
   "outputs": [
    {
     "data": {
      "text/html": [
       "<div>\n",
       "<table border=\"1\" class=\"dataframe\">\n",
       "  <thead>\n",
       "    <tr style=\"text-align: right;\">\n",
       "      <th></th>\n",
       "      <th>id</th>\n",
       "      <th>MID</th>\n",
       "      <th>start_date</th>\n",
       "      <th>start_time</th>\n",
       "      <th>completion_code</th>\n",
       "      <th>completed</th>\n",
       "      <th>progress</th>\n",
       "      <th>total_tasks</th>\n",
       "      <th>tasks</th>\n",
       "      <th>cb</th>\n",
       "      <th>session_id</th>\n",
       "      <th>AID</th>\n",
       "      <th>HID</th>\n",
       "      <th>progress_times</th>\n",
       "      <th>cb2</th>\n",
       "      <th>progress_times2</th>\n",
       "      <th>show_info_sheet</th>\n",
       "      <th>agreed_to_be_contacted</th>\n",
       "      <th>which_completion_message</th>\n",
       "      <th>breaks</th>\n",
       "    </tr>\n",
       "  </thead>\n",
       "  <tbody>\n",
       "    <tr>\n",
       "      <th>0</th>\n",
       "      <td>1390</td>\n",
       "      <td>vp02</td>\n",
       "      <td>2017-08-22 17:20:12</td>\n",
       "      <td>1503422412</td>\n",
       "      <td>UPRI0FsHWs</td>\n",
       "      <td>0</td>\n",
       "      <td>1</td>\n",
       "      <td>1</td>\n",
       "      <td>experiment_ambicombined</td>\n",
       "      <td>0</td>\n",
       "      <td>3WH4</td>\n",
       "      <td>inperson</td>\n",
       "      <td>0</td>\n",
       "      <td>NULL</td>\n",
       "      <td>0</td>\n",
       "      <td>NULLambi combined start:2017-08-22 17:20:56.58...</td>\n",
       "      <td>0</td>\n",
       "      <td>0</td>\n",
       "      <td>0</td>\n",
       "      <td>-1</td>\n",
       "    </tr>\n",
       "    <tr>\n",
       "      <th>1</th>\n",
       "      <td>1392</td>\n",
       "      <td>vp01</td>\n",
       "      <td>2017-08-22 20:04:02</td>\n",
       "      <td>1503432242</td>\n",
       "      <td>6JXd6T7gSU</td>\n",
       "      <td>0</td>\n",
       "      <td>1</td>\n",
       "      <td>1</td>\n",
       "      <td>experiment_ambicombined</td>\n",
       "      <td>0</td>\n",
       "      <td>uQ5q</td>\n",
       "      <td>inperson</td>\n",
       "      <td>0</td>\n",
       "      <td>NULL</td>\n",
       "      <td>0</td>\n",
       "      <td>NULLambi combined start:2017-08-22 20:07:19.63...</td>\n",
       "      <td>0</td>\n",
       "      <td>0</td>\n",
       "      <td>0</td>\n",
       "      <td>-1</td>\n",
       "    </tr>\n",
       "    <tr>\n",
       "      <th>2</th>\n",
       "      <td>1406</td>\n",
       "      <td>vp03</td>\n",
       "      <td>2017-08-26 00:52:17</td>\n",
       "      <td>1503708737</td>\n",
       "      <td>X9KPVn7rly</td>\n",
       "      <td>0</td>\n",
       "      <td>1</td>\n",
       "      <td>1</td>\n",
       "      <td>experiment_ambicombined</td>\n",
       "      <td>0</td>\n",
       "      <td>D1Hl</td>\n",
       "      <td>inperson</td>\n",
       "      <td>0</td>\n",
       "      <td>NULL</td>\n",
       "      <td>0</td>\n",
       "      <td>NULLambi combined start:2017-08-26 00:52:22.95...</td>\n",
       "      <td>0</td>\n",
       "      <td>0</td>\n",
       "      <td>0</td>\n",
       "      <td>-1</td>\n",
       "    </tr>\n",
       "    <tr>\n",
       "      <th>3</th>\n",
       "      <td>1410</td>\n",
       "      <td>vp04</td>\n",
       "      <td>2017-08-29 19:11:58</td>\n",
       "      <td>1504033918</td>\n",
       "      <td>61rFvJbmR2</td>\n",
       "      <td>0</td>\n",
       "      <td>1</td>\n",
       "      <td>1</td>\n",
       "      <td>experiment_ambicombined</td>\n",
       "      <td>0</td>\n",
       "      <td>7pM9</td>\n",
       "      <td>inperson</td>\n",
       "      <td>0</td>\n",
       "      <td>NULL</td>\n",
       "      <td>0</td>\n",
       "      <td>NULLambi combined start:2017-08-29 19:18:00.16...</td>\n",
       "      <td>0</td>\n",
       "      <td>0</td>\n",
       "      <td>0</td>\n",
       "      <td>-1</td>\n",
       "    </tr>\n",
       "    <tr>\n",
       "      <th>4</th>\n",
       "      <td>1414</td>\n",
       "      <td>vp05</td>\n",
       "      <td>2017-08-30 19:45:00</td>\n",
       "      <td>1504122300</td>\n",
       "      <td>hf0a0bBmHi</td>\n",
       "      <td>0</td>\n",
       "      <td>1</td>\n",
       "      <td>1</td>\n",
       "      <td>experiment_ambicombined</td>\n",
       "      <td>0</td>\n",
       "      <td>XPAL</td>\n",
       "      <td>inperson</td>\n",
       "      <td>0</td>\n",
       "      <td>NULL</td>\n",
       "      <td>0</td>\n",
       "      <td>NULLambi combined start:2017-08-30 19:51:46.32...</td>\n",
       "      <td>0</td>\n",
       "      <td>0</td>\n",
       "      <td>0</td>\n",
       "      <td>-1</td>\n",
       "    </tr>\n",
       "  </tbody>\n",
       "</table>\n",
       "</div>"
      ],
      "text/plain": [
       "     id   MID           start_date  start_time completion_code completed  \\\n",
       "0  1390  vp02  2017-08-22 17:20:12  1503422412      UPRI0FsHWs         0   \n",
       "1  1392  vp01  2017-08-22 20:04:02  1503432242      6JXd6T7gSU         0   \n",
       "2  1406  vp03  2017-08-26 00:52:17  1503708737      X9KPVn7rly         0   \n",
       "3  1410  vp04  2017-08-29 19:11:58  1504033918      61rFvJbmR2         0   \n",
       "4  1414  vp05  2017-08-30 19:45:00  1504122300      hf0a0bBmHi         0   \n",
       "\n",
       "  progress total_tasks                    tasks cb session_id       AID HID  \\\n",
       "0        1           1  experiment_ambicombined  0       3WH4  inperson   0   \n",
       "1        1           1  experiment_ambicombined  0       uQ5q  inperson   0   \n",
       "2        1           1  experiment_ambicombined  0       D1Hl  inperson   0   \n",
       "3        1           1  experiment_ambicombined  0       7pM9  inperson   0   \n",
       "4        1           1  experiment_ambicombined  0       XPAL  inperson   0   \n",
       "\n",
       "  progress_times cb2                                    progress_times2  \\\n",
       "0           NULL   0  NULLambi combined start:2017-08-22 17:20:56.58...   \n",
       "1           NULL   0  NULLambi combined start:2017-08-22 20:07:19.63...   \n",
       "2           NULL   0  NULLambi combined start:2017-08-26 00:52:22.95...   \n",
       "3           NULL   0  NULLambi combined start:2017-08-29 19:18:00.16...   \n",
       "4           NULL   0  NULLambi combined start:2017-08-30 19:51:46.32...   \n",
       "\n",
       "  show_info_sheet agreed_to_be_contacted which_completion_message breaks  \n",
       "0               0                      0                        0     -1  \n",
       "1               0                      0                        0     -1  \n",
       "2               0                      0                        0     -1  \n",
       "3               0                      0                        0     -1  \n",
       "4               0                      0                        0     -1  "
      ]
     },
     "execution_count": 7,
     "metadata": {},
     "output_type": "execute_result"
    }
   ],
   "source": [
    "df.head()"
   ]
  },
  {
   "cell_type": "code",
   "execution_count": 8,
   "metadata": {
    "collapsed": false
   },
   "outputs": [
    {
     "data": {
      "text/plain": [
       "array(['vp02', 'vp01', 'vp03', 'vp04', 'vp05', 'vp06', 'vp1111', 'vp07',\n",
       "       'vp003', 'vp09', 'vp10', 'vp12', 'vp11', 'vp13', 'vp14', 'vp15',\n",
       "       'vp16', 'vp17', 'vp19', 'vp18', 'vp21', 'vp22', 'vp20', 'vp24',\n",
       "       'vp25', 'vp26', 'vp27', 'vpp01', 'vp23', 'vp28', 'vpHanna',\n",
       "       'vptestHanna2', 'vp29', 'vp30', 'vp26_2', 'vp27_2', 'vp25_2',\n",
       "       'vp23_2', 'vp28_2', 'vp31', 'vp31a', 'vp32', 'vpHannatest', 'vp33',\n",
       "       'vp34', 'vp36', 'vp38', 'vp37', 'vp35', 'vp39', 'vp40'], dtype=object)"
      ]
     },
     "execution_count": 8,
     "metadata": {},
     "output_type": "execute_result"
    }
   ],
   "source": [
    "df.MID.unique()"
   ]
  },
  {
   "cell_type": "markdown",
   "metadata": {},
   "source": [
    "## Drop Subjects if Necessary\n",
    "\n",
    "- vp08 did not complete the online session\n",
    "- vp21 (no show for shock)\n",
    "- vp24 (incident during shock session)\n",
    "- vp25 (can't find online data at the moment)"
   ]
  },
  {
   "cell_type": "code",
   "execution_count": 9,
   "metadata": {
    "collapsed": true
   },
   "outputs": [],
   "source": [
    "droplist = ['vp1111','vp21','vp24','vp003','vp25', 'vpp01','vpHanna', 'vptestHanna2', 'vpHannatest', 'vp31a']\n",
    "df = df[~df['MID'].isin(droplist)]"
   ]
  },
  {
   "cell_type": "code",
   "execution_count": 10,
   "metadata": {
    "collapsed": false
   },
   "outputs": [],
   "source": [
    "#df.to_csv(savedir+'participant_table.csv')"
   ]
  },
  {
   "cell_type": "markdown",
   "metadata": {},
   "source": [
    "## Trial Data"
   ]
  },
  {
   "cell_type": "code",
   "execution_count": 11,
   "metadata": {
    "collapsed": false
   },
   "outputs": [
    {
     "data": {
      "text/plain": [
       "array(['vp02', 'vp01', 'vp03', 'vp04', 'vp05', 'vp06', 'vp07', 'vp09',\n",
       "       'vp10', 'vp12', 'vp11', 'vp13', 'vp14', 'vp15', 'vp16', 'vp17',\n",
       "       'vp19', 'vp18', 'vp22', 'vp20', 'vp26', 'vp27', 'vp23', 'vp28',\n",
       "       'vp29', 'vp30', 'vp26_2', 'vp27_2', 'vp25_2', 'vp23_2', 'vp28_2',\n",
       "       'vp31', 'vp32', 'vp33', 'vp34', 'vp36', 'vp38', 'vp37', 'vp35',\n",
       "       'vp39', 'vp40'], dtype=object)"
      ]
     },
     "execution_count": 11,
     "metadata": {},
     "output_type": "execute_result"
    }
   ],
   "source": [
    "MIDs = df.MID.unique()\n",
    "HIDs = np.zeros(len(MIDs))\n",
    "MIDs"
   ]
  },
  {
   "cell_type": "code",
   "execution_count": 12,
   "metadata": {
    "collapsed": false
   },
   "outputs": [
    {
     "name": "stdout",
     "output_type": "stream",
     "text": [
      "['id', 'MID', 'trial_number', 'start_date', 'trialstart', 'outcome', 'reaction_time', 'totalpoints', 'prop_left', 'prop_right', 'resp', 'revealed_left', 'revealed_right', 'AID', 'HID', 'noresp', 'session_id', 'five_trial_outcome', 'mag_left', 'mag_right', 'received_mag', 'practice', 'loss_or_reward', 'revealed_o_l', 'revealed_o_r', 'revealed_x_l', 'revealed_x_r', 'instruct_number', 'est_left_over_right', 'whensaved']\n"
     ]
    }
   ],
   "source": [
    "db.query(\"\"\"SELECT column_name FROM information_schema.columns WHERE table_name = 'web_experiments_ambi_trial'\"\"\")\n",
    "r=db.store_result() # sends the whole results\n",
    "header = r.fetch_row(0)\n",
    "header = [hh[0] for hh in header]\n",
    "print(header)"
   ]
  },
  {
   "cell_type": "code",
   "execution_count": 13,
   "metadata": {
    "collapsed": false
   },
   "outputs": [
    {
     "name": "stdout",
     "output_type": "stream",
     "text": [
      "MID:vp02, num rows:388\n",
      "MID:vp01, num rows:302\n",
      "MID:vp03, num rows:367\n",
      "MID:vp04, num rows:463\n",
      "MID:vp05, num rows:380\n",
      "MID:vp06, num rows:355\n",
      "MID:vp07, num rows:383\n",
      "MID:vp09, num rows:382\n",
      "MID:vp10, num rows:382\n",
      "MID:vp12, num rows:428\n",
      "MID:vp11, num rows:382\n",
      "MID:vp13, num rows:382\n",
      "MID:vp14, num rows:382\n",
      "MID:vp15, num rows:384\n",
      "MID:vp16, num rows:382\n",
      "MID:vp17, num rows:382\n",
      "MID:vp19, num rows:382\n",
      "MID:vp18, num rows:383\n",
      "MID:vp22, num rows:382\n",
      "MID:vp20, num rows:382\n",
      "MID:vp26, num rows:0\n",
      "MID:vp27, num rows:0\n",
      "MID:vp23, num rows:0\n",
      "MID:vp28, num rows:0\n",
      "MID:vp29, num rows:480\n",
      "MID:vp30, num rows:600\n",
      "MID:vp26_2, num rows:600\n",
      "MID:vp27_2, num rows:402\n",
      "MID:vp25_2, num rows:600\n",
      "MID:vp23_2, num rows:476\n",
      "MID:vp28_2, num rows:600\n",
      "MID:vp31, num rows:600\n",
      "MID:vp32, num rows:600\n",
      "MID:vp33, num rows:514\n",
      "MID:vp34, num rows:600\n",
      "MID:vp36, num rows:600\n",
      "MID:vp38, num rows:593\n",
      "MID:vp37, num rows:600\n",
      "MID:vp35, num rows:450\n",
      "MID:vp39, num rows:415\n",
      "MID:vp40, num rows:421\n"
     ]
    }
   ],
   "source": [
    "## Download trial data for each participant and Save to CSV \n",
    "\n",
    "for MID,HID in zip(MIDs,HIDs):\n",
    "    query= \"\"\"SELECT * FROM web_experiments_ambi_trial WHERE (MID = '\"\"\"+str(MID)+\"\"\"') AND (HID = '\"\"\"+str(int(HID))+\"\"\"')\"\"\"\n",
    "    db.query(query)\n",
    "    r=db.store_result() # sends the whole results\n",
    "    rows = r.fetch_row(600)\n",
    "    print('MID:{0}, num rows:{1}'.format(MID,len(rows)))\n",
    "    if len(rows)>0:\n",
    "        \n",
    "        ## Write to CSV \n",
    "        with open(savedir+MID+'_gainloss_raw.csv', 'w') as csvfile:\n",
    "            writer = csv.writer(csvfile, delimiter=',',quotechar='\"', quoting=csv.QUOTE_MINIMAL)\n",
    "            writer.writerow(header)\n",
    "            for row in rows:\n",
    "                writer.writerow([x for x in row])"
   ]
  },
  {
   "cell_type": "code",
   "execution_count": 15,
   "metadata": {
    "collapsed": false,
    "scrolled": false
   },
   "outputs": [
    {
     "name": "stdout",
     "output_type": "stream",
     "text": [
      "MID:31, num rows:499\n",
      "MID:31, num rows:300\n",
      "MID:32, num rows:498\n",
      "MID:32, num rows:300\n",
      "MID:33, num rows:412\n",
      "MID:33, num rows:300\n",
      "MID:34, num rows:498\n",
      "MID:34, num rows:300\n",
      "MID:35, num rows:348\n",
      "MID:35, num rows:300\n",
      "MID:36, num rows:494\n",
      "MID:36, num rows:300\n",
      "MID:37, num rows:498\n",
      "MID:37, num rows:300\n",
      "MID:38, num rows:489\n",
      "MID:38, num rows:300\n",
      "MID:39, num rows:305\n",
      "MID:39, num rows:300\n",
      "MID:40, num rows:319\n",
      "MID:40, num rows:300\n"
     ]
    }
   ],
   "source": [
    "# preprocess \n",
    "# MIDs = ['25_2', '26_2', '27_2', '28_2', '29', '30']\n",
    "MIDs = ['31', '32', '33', '34', '35', '36', '37', '38', '39', '40']\n",
    "\n",
    "\n",
    "for MID in MIDs:\n",
    "    df = pd.read_csv(savedir+'vp' + MID+'_gainloss_raw.csv')\n",
    "    df=df.loc[df['practice']=='false',]\n",
    "    print('MID:{0}, num rows:{1}'.format(MID,len(df)))\n",
    "    #delete double trials here \n",
    "    df = df.drop_duplicates(['trial_number'])\n",
    "    print('MID:{0}, num rows:{1}'.format(MID,len(df)))\n",
    "    #save to csv\n",
    "    df.to_csv(savedir+'vp' + MID+'_gainloss_processed.csv')"
   ]
  },
  {
   "cell_type": "code",
   "execution_count": 16,
   "metadata": {
    "collapsed": true
   },
   "outputs": [],
   "source": [
    "db.close()"
   ]
  }
 ],
 "metadata": {
  "anaconda-cloud": {},
  "hide_input": false,
  "kernelspec": {
   "display_name": "Python [conda root]",
   "language": "python",
   "name": "conda-root-py"
  },
  "language_info": {
   "codemirror_mode": {
    "name": "ipython",
    "version": 2
   },
   "file_extension": ".py",
   "mimetype": "text/x-python",
   "name": "python",
   "nbconvert_exporter": "python",
   "pygments_lexer": "ipython2",
   "version": "2.7.12"
  },
  "toc": {
   "nav_menu": {
    "height": "83px",
    "width": "253px"
   },
   "number_sections": true,
   "sideBar": true,
   "skip_h1_title": false,
   "toc_cell": false,
   "toc_position": {},
   "toc_section_display": "block",
   "toc_window_display": true
  }
 },
 "nbformat": 4,
 "nbformat_minor": 1
}
